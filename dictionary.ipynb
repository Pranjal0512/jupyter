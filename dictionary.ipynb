{
 "cells": [
  {
   "cell_type": "markdown",
   "id": "91e305d5-d4df-43b0-9c2a-040fd7d3bd03",
   "metadata": {},
   "source": [
    "***DICTIONARY***"
   ]
  },
  {
   "cell_type": "code",
   "execution_count": 1,
   "id": "cbb933e7-c848-4992-8637-ab50d63517ad",
   "metadata": {},
   "outputs": [],
   "source": [
    "#dictionary\n",
    "#indexing\n",
    "#orderded\n",
    "#multiple\n",
    "#mutable"
   ]
  },
  {
   "cell_type": "code",
   "execution_count": 2,
   "id": "194ac227-6727-4fcc-8c9b-ddf63a3d106d",
   "metadata": {},
   "outputs": [
    {
     "name": "stdout",
     "output_type": "stream",
     "text": [
      "<class 'dict'>\n",
      "3\n"
     ]
    }
   ],
   "source": [
    "#d={<key>:<value>,<key>:<value>,.....}\n",
    "d={'a':\"apple\",'b':\"ball\",'c':\"cat\"}\n",
    "print(type(d))\n",
    "print(len(d))"
   ]
  },
  {
   "cell_type": "code",
   "execution_count": 3,
   "id": "dfe7d174-3e90-4742-b261-eade171ca5d8",
   "metadata": {},
   "outputs": [
    {
     "data": {
      "text/plain": [
       "'cat'"
      ]
     },
     "execution_count": 3,
     "metadata": {},
     "output_type": "execute_result"
    }
   ],
   "source": [
    "d={'a':\"apple\",'b':\"ball\",'c':\"cat\"}\n",
    "d['c']"
   ]
  },
  {
   "cell_type": "code",
   "execution_count": 4,
   "id": "440fd202-7d7a-40ac-83ed-b516d9f1869e",
   "metadata": {},
   "outputs": [
    {
     "name": "stdout",
     "output_type": "stream",
     "text": [
      "{'a': 'apple', 'b': 'ball', 'c': 'cat'}\n"
     ]
    }
   ],
   "source": [
    "d={'a':\"apple\",'b':\"ball\",'c':\"cat\"}\n",
    "print(d)"
   ]
  },
  {
   "cell_type": "code",
   "execution_count": 5,
   "id": "798e7be3-5ee5-4274-81b1-f1f094d94d80",
   "metadata": {},
   "outputs": [
    {
     "data": {
      "text/plain": [
       "{'a': 'cat'}"
      ]
     },
     "execution_count": 5,
     "metadata": {},
     "output_type": "execute_result"
    }
   ],
   "source": [
    "d={'a':\"apple\",'a':\"ball\",'a':\"cat\"}#key cannot be repeated\n",
    "d"
   ]
  },
  {
   "cell_type": "code",
   "execution_count": 6,
   "id": "1de4cbba-a5c7-4cd4-a956-fdee4865bae2",
   "metadata": {},
   "outputs": [
    {
     "data": {
      "text/plain": [
       "{'a': 'apple', 'b': 'ball', 'c': 'cat'}"
      ]
     },
     "execution_count": 6,
     "metadata": {},
     "output_type": "execute_result"
    }
   ],
   "source": [
    "d={'a':\"apple\",'b':\"ball\",'c':\"cat\"}#key must be unque\n",
    "d"
   ]
  },
  {
   "cell_type": "code",
   "execution_count": 7,
   "id": "5cb033be-d7a5-4941-aa51-91b3b4fbef39",
   "metadata": {},
   "outputs": [
    {
     "name": "stdout",
     "output_type": "stream",
     "text": [
      "a\n",
      "b\n",
      "c\n"
     ]
    }
   ],
   "source": [
    "d={'a':\"apple\",'b':\"ball\",'c':\"cat\"}#it returns key vallue\n",
    "for i in d:\n",
    "    print(i)\n"
   ]
  },
  {
   "cell_type": "code",
   "execution_count": 8,
   "id": "f79edc98-085f-4f0e-8085-15a38d1307ff",
   "metadata": {},
   "outputs": [
    {
     "name": "stdout",
     "output_type": "stream",
     "text": [
      "apple\n",
      "ball\n",
      "cat\n"
     ]
    }
   ],
   "source": [
    "d={'a':\"apple\",'b':\"ball\",'c':\"cat\"}\n",
    "for i in d.values():\n",
    "    print(i)"
   ]
  },
  {
   "cell_type": "code",
   "execution_count": 9,
   "id": "97575bee-d756-4721-a541-af472afdd540",
   "metadata": {},
   "outputs": [
    {
     "name": "stdout",
     "output_type": "stream",
     "text": [
      "('a', 'apple')\n",
      "('b', 'ball')\n",
      "('c', 'cat')\n"
     ]
    }
   ],
   "source": [
    "d={'a':\"apple\",'b':\"ball\",'c':\"cat\"}#it returns both in form of tuple\n",
    "for i in d.items():\n",
    "    print(i)"
   ]
  },
  {
   "cell_type": "code",
   "execution_count": 10,
   "id": "6338c981-0968-4b62-9337-942068d7e970",
   "metadata": {},
   "outputs": [
    {
     "data": {
      "text/plain": [
       "{'a': 'apple', 'b': 'ball', 'c': 'cat'}"
      ]
     },
     "execution_count": 10,
     "metadata": {},
     "output_type": "execute_result"
    }
   ],
   "source": [
    "d={}\n",
    "d['a']=\"apple\"\n",
    "d['b']=\"ball\"\n",
    "d['c']=\"cat\"\n",
    "d"
   ]
  },
  {
   "cell_type": "code",
   "execution_count": 11,
   "id": "c3509d38-2950-4033-832c-e1630cb1b080",
   "metadata": {},
   "outputs": [
    {
     "name": "stdin",
     "output_type": "stream",
     "text": [
      "enter n= 2\n",
      "enter your name= pranjal\n",
      "enter phone= 9811857755\n",
      "enter your name= sweeta\n",
      "enter phone= 9864125996\n"
     ]
    },
    {
     "name": "stdout",
     "output_type": "stream",
     "text": [
      "{'pranjal': '9811857755', 'sweeta': '9864125996'}\n"
     ]
    }
   ],
   "source": [
    "data={}\n",
    "n=int(input(\"enter n=\"))\n",
    "for i in range(n):\n",
    "    name=input(\"enter your name=\")\n",
    "    phone=input(\"enter phone=\")\n",
    "    data[name]=phone\n",
    "print(data)"
   ]
  },
  {
   "cell_type": "code",
   "execution_count": 12,
   "id": "45760881-0598-40fe-9cf6-b6c3fb80c7a4",
   "metadata": {},
   "outputs": [
    {
     "data": {
      "text/plain": [
       "{'sweeta': '9746551355'}"
      ]
     },
     "execution_count": 12,
     "metadata": {},
     "output_type": "execute_result"
    }
   ],
   "source": [
    "d={'pranjal': '9811857755', 'sweeta': '9746551355'}\n",
    "del d['pranjal']\n",
    "d"
   ]
  },
  {
   "cell_type": "code",
   "execution_count": 13,
   "id": "505b9a94-4070-4474-8610-d7d9926105bb",
   "metadata": {},
   "outputs": [
    {
     "name": "stdout",
     "output_type": "stream",
     "text": [
      "{'sweeta': '9746551355'}\n"
     ]
    }
   ],
   "source": [
    "d={'pranjal': '9811857755', 'sweeta': '9746551355'}\n",
    "d.pop('pranjal')\n",
    "print(d)"
   ]
  },
  {
   "cell_type": "code",
   "execution_count": 14,
   "id": "3b16459d-e87d-47ba-96fe-57f524f1d518",
   "metadata": {},
   "outputs": [],
   "source": [
    "#list inside dictionary\n",
    "d={'pranjal':[9811857755,9746551355],\n",
    "   'sweeta':[98100000,569009909]}"
   ]
  },
  {
   "cell_type": "code",
   "execution_count": 15,
   "id": "210e60d1-5f29-4a06-b95c-25849b392aa2",
   "metadata": {},
   "outputs": [
    {
     "data": {
      "text/plain": [
       "[9811857755, 9746551355]"
      ]
     },
     "execution_count": 15,
     "metadata": {},
     "output_type": "execute_result"
    }
   ],
   "source": [
    "d['pranjal']"
   ]
  },
  {
   "cell_type": "code",
   "execution_count": 16,
   "id": "b639bbb1-f3fb-4305-9a98-557e1ac79fb9",
   "metadata": {},
   "outputs": [
    {
     "data": {
      "text/plain": [
       "9811857755"
      ]
     },
     "execution_count": 16,
     "metadata": {},
     "output_type": "execute_result"
    }
   ],
   "source": [
    "d['pranjal'][0]"
   ]
  },
  {
   "cell_type": "code",
   "execution_count": 17,
   "id": "5bbb1ef4-8b21-4cb6-b450-232c51161886",
   "metadata": {},
   "outputs": [
    {
     "data": {
      "text/plain": [
       "{'pranjal': [9864125996, 9746551355], 'sweeta': [98100000, 569009909]}"
      ]
     },
     "execution_count": 17,
     "metadata": {},
     "output_type": "execute_result"
    }
   ],
   "source": [
    "d['pranjal'][0]=9864125996\n",
    "d"
   ]
  },
  {
   "cell_type": "code",
   "execution_count": 18,
   "id": "346d8ec2-7fd3-46c4-9ed6-bd86434e5e6b",
   "metadata": {},
   "outputs": [
    {
     "data": {
      "text/plain": [
       "{'pranjal': [9746551355], 'sweeta': [98100000, 569009909]}"
      ]
     },
     "execution_count": 18,
     "metadata": {},
     "output_type": "execute_result"
    }
   ],
   "source": [
    "d={'pranjal': [9864125996, 9746551355], 'sweeta': [98100000, 569009909]}\n",
    "\n",
    "del d['pranjal'][0]\n",
    "d"
   ]
  },
  {
   "cell_type": "code",
   "execution_count": 19,
   "id": "5b63e80f-200b-4e79-a008-d0b5d1a3e230",
   "metadata": {},
   "outputs": [
    {
     "data": {
      "text/plain": [
       "{'pranjal': [9864125996, 9746551355, 9845096131],\n",
       " 'sweeta': [98100000, 569009909]}"
      ]
     },
     "execution_count": 19,
     "metadata": {},
     "output_type": "execute_result"
    }
   ],
   "source": [
    "d={'pranjal': [9864125996, 9746551355], 'sweeta': [98100000, 569009909]}\n",
    "d['pranjal'].append(9845096131)\n",
    "d"
   ]
  },
  {
   "cell_type": "code",
   "execution_count": 20,
   "id": "28133090-ad46-4813-aaf8-aa7f6076aaf9",
   "metadata": {},
   "outputs": [
    {
     "data": {
      "text/plain": [
       "{'name': ['pranjal', 'sweeta'],\n",
       " 'age': [18, 19],\n",
       " 'address': ['kathmandu', 'bhaktapur']}"
      ]
     },
     "execution_count": 20,
     "metadata": {},
     "output_type": "execute_result"
    }
   ],
   "source": [
    "d={'name':['pranjal','sweeta'],\n",
    "  'age':[18,19],\n",
    "  'address':['kathmandu','bhaktapur']}\n",
    "d"
   ]
  },
  {
   "cell_type": "code",
   "execution_count": 21,
   "id": "acf03312-402c-4d8f-85e0-89a01ef026b8",
   "metadata": {},
   "outputs": [
    {
     "name": "stdin",
     "output_type": "stream",
     "text": [
      "enter n= 2\n",
      "enter name= pranjal\n",
      "enter age= 18\n",
      "enter address= baneshwor\n",
      "enter name= sweeta\n",
      "enter age= 19\n",
      "enter address= baneshwor\n"
     ]
    },
    {
     "name": "stdout",
     "output_type": "stream",
     "text": [
      "{'name': ['pranjal', 'sweeta'], 'age': ['18', '19'], 'address': ['baneshwor', 'baneshwor']}\n"
     ]
    }
   ],
   "source": [
    "data={'name':[], 'age':[], 'address':[]}\n",
    "n=int(input(\"enter n=\"))\n",
    "for i in range(n):\n",
    "    name=input(\"enter name=\")\n",
    "    age=input(\"enter age=\")\n",
    "    address=input(\"enter address=\")\n",
    "    \n",
    "    data['name'].append(name)\n",
    "    data['age'].append(age)\n",
    "    data['address'].append(address)\n",
    "\n",
    "print(data)"
   ]
  },
  {
   "cell_type": "code",
   "execution_count": 22,
   "id": "f55f6270-c1cb-4c45-8957-32672ded9efa",
   "metadata": {},
   "outputs": [],
   "source": [
    "#dict inside list\n",
    "data = [{'name':'ram','age':45,'address':'kathmandu'},\n",
    "       {'name':'shyam','age':15,'address':'bara'},\n",
    "       {'name':'pranjal','age':17,'address':'parsa'}]"
   ]
  },
  {
   "cell_type": "code",
   "execution_count": 23,
   "id": "8e8d543b-9fa8-4686-94f2-ee7e34a6e8e5",
   "metadata": {},
   "outputs": [
    {
     "data": {
      "text/plain": [
       "{'name': 'ram', 'age': 45, 'address': 'kathmandu'}"
      ]
     },
     "execution_count": 23,
     "metadata": {},
     "output_type": "execute_result"
    }
   ],
   "source": [
    "data[0]"
   ]
  },
  {
   "cell_type": "code",
   "execution_count": 24,
   "id": "f1463669-0fc5-46a2-82fe-e462f037b460",
   "metadata": {},
   "outputs": [
    {
     "data": {
      "text/plain": [
       "'ram'"
      ]
     },
     "execution_count": 24,
     "metadata": {},
     "output_type": "execute_result"
    }
   ],
   "source": [
    "data[0]['name']"
   ]
  },
  {
   "cell_type": "code",
   "execution_count": 25,
   "id": "8ad793bd-925a-4db9-bcd4-adf1b0b162e2",
   "metadata": {},
   "outputs": [
    {
     "name": "stdin",
     "output_type": "stream",
     "text": [
      "enter n= 2\n",
      "enter name= pranjal\n",
      "enter age= 18\n",
      "enter address= baneshwor\n",
      "enter name= sweeta\n",
      "enter age= 19\n",
      "enter address= baneshwor\n"
     ]
    },
    {
     "name": "stdout",
     "output_type": "stream",
     "text": [
      "[{'name': 'pranjal', 'age': '18', 'address': 'baneshwor'}, {'name': 'sweeta', 'age': '19', 'address': 'baneshwor'}]\n"
     ]
    }
   ],
   "source": [
    "data=[]\n",
    "n=int(input(\"enter n=\"))\n",
    "for i in range(n):\n",
    "    name=input(\"enter name=\")\n",
    "    age=input(\"enter age=\")\n",
    "    address=input(\"enter address=\")\n",
    "    \n",
    "    data.append({'name':name,'age':age,'address':address})\n",
    "    \n",
    "\n",
    "print(data)"
   ]
  },
  {
   "cell_type": "code",
   "execution_count": 26,
   "id": "82675914-88d2-438a-a5f2-f10174267332",
   "metadata": {},
   "outputs": [
    {
     "data": {
      "text/plain": [
       "[{'name': 'ram', 'age': 45, 'address': 'kathmandu'},\n",
       " {'name': 'sweeta', 'age': 19, 'address': 'parsa'},\n",
       " {'name': 'shyam', 'age': 15, 'address': 'bara'},\n",
       " {'name': 'pranjal', 'age': 17, 'address': 'parsa'}]"
      ]
     },
     "execution_count": 26,
     "metadata": {},
     "output_type": "execute_result"
    }
   ],
   "source": [
    "data = [{'name':'ram','age':45,'address':'kathmandu'},\n",
    "       {'name':'shyam','age':15,'address':'bara'},\n",
    "      {'name' :'pranjal','age':17,'address':'parsa'}]\n",
    "data.insert(1,{'name':'sweeta','age':19,'address':'parsa'})\n",
    "data"
   ]
  },
  {
   "cell_type": "code",
   "execution_count": 30,
   "id": "f7a849b4-4c66-4976-998a-f2b854c67f85",
   "metadata": {},
   "outputs": [
    {
     "name": "stdout",
     "output_type": "stream",
     "text": [
      "<class 'dict'>\n"
     ]
    },
    {
     "data": {
      "text/plain": [
       "{1: {'name': 'ram', 'age': 45, 'address': 'kathmandu'},\n",
       " 2: {'name': 'shyam', 'age': 15, 'address': 'bara'},\n",
       " 3: {'name': 'pranjal', 'age': 17, 'address': 'parsa'}}"
      ]
     },
     "execution_count": 30,
     "metadata": {},
     "output_type": "execute_result"
    }
   ],
   "source": [
    "#dict inside dict\n",
    "d={1:{'name':'ram','age':45,'address':'kathmandu'},\n",
    "  2:{'name':'shyam','age':15,'address':'bara'},\n",
    "  3:{'name' :'pranjal','age':17,'address':'parsa'}}\n",
    "print(type(d))\n",
    "d"
   ]
  },
  {
   "cell_type": "code",
   "execution_count": 28,
   "id": "22fb353e-66fa-4474-9d5f-5e11be7c2803",
   "metadata": {},
   "outputs": [
    {
     "data": {
      "text/plain": [
       "{'name': 'ram', 'age': 45, 'address': 'kathmandu'}"
      ]
     },
     "execution_count": 28,
     "metadata": {},
     "output_type": "execute_result"
    }
   ],
   "source": [
    "d[1]"
   ]
  },
  {
   "cell_type": "code",
   "execution_count": 29,
   "id": "727ca56a-f042-40f9-b316-de9cbf993493",
   "metadata": {},
   "outputs": [
    {
     "data": {
      "text/plain": [
       "'ram'"
      ]
     },
     "execution_count": 29,
     "metadata": {},
     "output_type": "execute_result"
    }
   ],
   "source": [
    "d[1]['name']"
   ]
  },
  {
   "cell_type": "code",
   "execution_count": 31,
   "id": "34dcf9a2-6fa6-4395-bb49-a6d218e7fc7c",
   "metadata": {},
   "outputs": [],
   "source": [
    "d[1]={'name':'sweeta','age':19,'address':'parsa'}"
   ]
  },
  {
   "cell_type": "code",
   "execution_count": 32,
   "id": "4672f963-7419-41f8-89e4-79ae0eaa0d22",
   "metadata": {},
   "outputs": [
    {
     "data": {
      "text/plain": [
       "{1: {'name': 'sweeta', 'age': 19, 'address': 'parsa'},\n",
       " 2: {'name': 'shyam', 'age': 15, 'address': 'bara'},\n",
       " 3: {'name': 'pranjal', 'age': 17, 'address': 'parsa'}}"
      ]
     },
     "execution_count": 32,
     "metadata": {},
     "output_type": "execute_result"
    }
   ],
   "source": [
    "d"
   ]
  },
  {
   "cell_type": "code",
   "execution_count": 33,
   "id": "e844a9b4-53bb-463f-895c-0cec665b5414",
   "metadata": {},
   "outputs": [
    {
     "data": {
      "text/plain": [
       "{1: {'name': 'sweeta', 'age': 19, 'address': 'parsa'},\n",
       " 2: {'name': 'sweeta', 'age': 19, 'address': 'parsa'}}"
      ]
     },
     "execution_count": 33,
     "metadata": {},
     "output_type": "execute_result"
    }
   ],
   "source": [
    "d={}\n",
    "d[1]={'name':'sweeta','age':19,'address':'parsa'}\n",
    "d[2]={'name':'sweeta','age':19,'address':'parsa'}\n",
    "d"
   ]
  },
  {
   "cell_type": "code",
   "execution_count": 34,
   "id": "36b5dfb3-dfcb-4699-89e5-f3a4ecbfca60",
   "metadata": {},
   "outputs": [
    {
     "data": {
      "text/plain": [
       "{'name': 'sweeta', 'age': 19, 'address': 'parsa'}"
      ]
     },
     "execution_count": 34,
     "metadata": {},
     "output_type": "execute_result"
    }
   ],
   "source": [
    "d[1]"
   ]
  },
  {
   "cell_type": "code",
   "execution_count": 35,
   "id": "99f86cc5-9a5e-468f-9dad-c20dde297e6d",
   "metadata": {},
   "outputs": [],
   "source": [
    "del d[1]"
   ]
  },
  {
   "cell_type": "code",
   "execution_count": 36,
   "id": "9600f7f9-a2f4-4a26-9581-4260a9e0ab6a",
   "metadata": {},
   "outputs": [
    {
     "data": {
      "text/plain": [
       "{2: {'name': 'sweeta', 'age': 19, 'address': 'parsa'}}"
      ]
     },
     "execution_count": 36,
     "metadata": {},
     "output_type": "execute_result"
    }
   ],
   "source": [
    "d"
   ]
  },
  {
   "cell_type": "code",
   "execution_count": 37,
   "id": "b6e5d2d3-0c87-4902-be07-7cfafb492e4b",
   "metadata": {},
   "outputs": [],
   "source": [
    "d={1:{'name':'ram','age':45,'address':'kathmandu'},\n",
    "  2:{'name':'shyam','age':15,'address':{'per':'birgunj','temp':'kathmancu'}},\n",
    "  3:{'name' :'pranjal','age':17,'address':'parsa'}}"
   ]
  },
  {
   "cell_type": "code",
   "execution_count": 38,
   "id": "8f7cd145-03e3-4634-9c2e-af68b171a7da",
   "metadata": {},
   "outputs": [
    {
     "data": {
      "text/plain": [
       "{1: {'name': 'ram', 'age': 45, 'address': 'kathmandu'},\n",
       " 2: {'name': 'shyam',\n",
       "  'age': 15,\n",
       "  'address': {'per': 'birgunj', 'temp': 'kathmancu'}},\n",
       " 3: {'name': 'pranjal', 'age': 17, 'address': 'parsa'}}"
      ]
     },
     "execution_count": 38,
     "metadata": {},
     "output_type": "execute_result"
    }
   ],
   "source": [
    "d"
   ]
  },
  {
   "cell_type": "code",
   "execution_count": 39,
   "id": "2564ecdb-98e4-45d4-a429-03b4ecdb72e1",
   "metadata": {},
   "outputs": [
    {
     "data": {
      "text/plain": [
       "'birgunj'"
      ]
     },
     "execution_count": 39,
     "metadata": {},
     "output_type": "execute_result"
    }
   ],
   "source": [
    "d[2]['address']['per']"
   ]
  },
  {
   "cell_type": "code",
   "execution_count": 41,
   "id": "2d3e017c-1926-4a7b-9f06-205db3bf03e6",
   "metadata": {},
   "outputs": [],
   "source": [
    "d={('ram','shyam'):9811857755}"
   ]
  },
  {
   "cell_type": "code",
   "execution_count": 42,
   "id": "f692303d-7957-4db4-ae60-e2aef52f359e",
   "metadata": {},
   "outputs": [
    {
     "data": {
      "text/plain": [
       "{('ram', 'shyam'): 9811857755}"
      ]
     },
     "execution_count": 42,
     "metadata": {},
     "output_type": "execute_result"
    }
   ],
   "source": [
    "d"
   ]
  },
  {
   "cell_type": "code",
   "execution_count": 43,
   "id": "0afa51e5-81b5-4c69-8303-66730e49c09d",
   "metadata": {},
   "outputs": [],
   "source": [
    "d={(1,'shyam'):9811857755}"
   ]
  },
  {
   "cell_type": "code",
   "execution_count": 48,
   "id": "2ebd63e1-da16-494e-896d-c18ec619484a",
   "metadata": {},
   "outputs": [
    {
     "ename": "KeyError",
     "evalue": "9811857755",
     "output_type": "error",
     "traceback": [
      "\u001b[1;31m---------------------------------------------------------------------------\u001b[0m",
      "\u001b[1;31mKeyError\u001b[0m                                  Traceback (most recent call last)",
      "Cell \u001b[1;32mIn[48], line 1\u001b[0m\n\u001b[1;32m----> 1\u001b[0m \u001b[43md\u001b[49m\u001b[43m[\u001b[49m\u001b[38;5;241;43m9811857755\u001b[39;49m\u001b[43m]\u001b[49m\n",
      "\u001b[1;31mKeyError\u001b[0m: 9811857755"
     ]
    }
   ],
   "source": [
    "d[9811857755]"
   ]
  },
  {
   "cell_type": "code",
   "execution_count": null,
   "id": "21b75db2-1eb2-41c5-a2b2-c8b21271d35c",
   "metadata": {},
   "outputs": [],
   "source": []
  }
 ],
 "metadata": {
  "kernelspec": {
   "display_name": "Python 3 (ipykernel)",
   "language": "python",
   "name": "python3"
  },
  "language_info": {
   "codemirror_mode": {
    "name": "ipython",
    "version": 3
   },
   "file_extension": ".py",
   "mimetype": "text/x-python",
   "name": "python",
   "nbconvert_exporter": "python",
   "pygments_lexer": "ipython3",
   "version": "3.11.0"
  }
 },
 "nbformat": 4,
 "nbformat_minor": 5
}
