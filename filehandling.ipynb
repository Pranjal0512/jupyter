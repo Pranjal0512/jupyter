{
 "cells": [
  {
   "cell_type": "raw",
   "id": "5b290f49-0b60-47ed-bcbf-a7e41eedd51c",
   "metadata": {},
   "source": [
    "#write: Read/Write/Append"
   ]
  },
  {
   "cell_type": "code",
   "execution_count": 5,
   "id": "498b275b-741d-4b0f-b9e0-6ae82094241c",
   "metadata": {},
   "outputs": [],
   "source": [
    "fnew = open('testnew.txt','w')#filename,mode"
   ]
  },
  {
   "cell_type": "code",
   "execution_count": 6,
   "id": "82d6cb68-1476-4192-a91e-4a03a7057577",
   "metadata": {},
   "outputs": [
    {
     "data": {
      "text/plain": [
       "24"
      ]
     },
     "execution_count": 6,
     "metadata": {},
     "output_type": "execute_result"
    }
   ],
   "source": [
    "fnew.write(\"Testing Writing to Files\")\n"
   ]
  },
  {
   "cell_type": "code",
   "execution_count": 7,
   "id": "3d18319f-e932-45cc-8332-a54155748d58",
   "metadata": {},
   "outputs": [
    {
     "data": {
      "text/plain": [
       "<function TextIOWrapper.close()>"
      ]
     },
     "execution_count": 7,
     "metadata": {},
     "output_type": "execute_result"
    }
   ],
   "source": [
    "fnew.close"
   ]
  },
  {
   "cell_type": "code",
   "execution_count": 8,
   "id": "4655a0f2-f96b-458e-a0c9-8258970e670a",
   "metadata": {},
   "outputs": [],
   "source": [
    "fnew.close()"
   ]
  },
  {
   "cell_type": "code",
   "execution_count": 9,
   "id": "7b006183-6e61-4669-b146-fb3129c6816d",
   "metadata": {},
   "outputs": [],
   "source": [
    "fr = open('testnew.txt','r')"
   ]
  },
  {
   "cell_type": "code",
   "execution_count": 10,
   "id": "36046a0c-535a-441e-af43-c4e441a02158",
   "metadata": {},
   "outputs": [],
   "source": [
    "content = fr.readlines()#read()"
   ]
  },
  {
   "cell_type": "code",
   "execution_count": 11,
   "id": "53cbb986-7e82-461e-83b4-37077251abfe",
   "metadata": {},
   "outputs": [
    {
     "data": {
      "text/plain": [
       "['Testing Writing to Files']"
      ]
     },
     "execution_count": 11,
     "metadata": {},
     "output_type": "execute_result"
    }
   ],
   "source": [
    "content"
   ]
  },
  {
   "cell_type": "code",
   "execution_count": 12,
   "id": "4ec0503b-6a7f-40a9-a2e7-ea71a8eca993",
   "metadata": {},
   "outputs": [],
   "source": [
    "fr.close()"
   ]
  },
  {
   "cell_type": "code",
   "execution_count": 15,
   "id": "0c74daf8-1066-49b0-8393-ab0585c5d17a",
   "metadata": {},
   "outputs": [],
   "source": [
    "fa = open('testnew.txt','a')"
   ]
  },
  {
   "cell_type": "code",
   "execution_count": 16,
   "id": "04fcdec4-b633-4d46-bf57-270b61e6025f",
   "metadata": {},
   "outputs": [],
   "source": [
    "fa.writelines(\"\\n i'm here at broad way\")#append"
   ]
  },
  {
   "cell_type": "code",
   "execution_count": 17,
   "id": "1a87e813-d8f5-4d0d-b730-106c421487ff",
   "metadata": {},
   "outputs": [],
   "source": [
    "fa.close()"
   ]
  },
  {
   "cell_type": "code",
   "execution_count": null,
   "id": "1849c40f-bcae-4971-864d-fd573d1370a9",
   "metadata": {},
   "outputs": [],
   "source": []
  }
 ],
 "metadata": {
  "kernelspec": {
   "display_name": "Python 3 (ipykernel)",
   "language": "python",
   "name": "python3"
  },
  "language_info": {
   "codemirror_mode": {
    "name": "ipython",
    "version": 3
   },
   "file_extension": ".py",
   "mimetype": "text/x-python",
   "name": "python",
   "nbconvert_exporter": "python",
   "pygments_lexer": "ipython3",
   "version": "3.11.0"
  }
 },
 "nbformat": 4,
 "nbformat_minor": 5
}
