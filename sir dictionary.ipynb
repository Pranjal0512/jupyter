{
 "cells": [
  {
   "cell_type": "code",
   "execution_count": 1,
   "id": "5b2d237f",
   "metadata": {},
   "outputs": [],
   "source": [
    "# # Dictionary\n",
    "# -Indexing\n",
    "# -Ordered\n",
    "# -Multiple\n",
    "# -Mutable"
   ]
  },
  {
   "cell_type": "code",
   "execution_count": 5,
   "id": "62620679",
   "metadata": {},
   "outputs": [
    {
     "name": "stdout",
     "output_type": "stream",
     "text": [
      "<class 'dict'>\n",
      "3\n"
     ]
    }
   ],
   "source": [
    "#d = {<key>:<value>,<key>:<value>,..}b\n",
    "d = {'a':'Apple','b':'ball','c':'cat'}\n",
    "print(type(d))\n",
    "print(len(d))"
   ]
  },
  {
   "cell_type": "code",
   "execution_count": 8,
   "id": "6e99ffdf",
   "metadata": {},
   "outputs": [
    {
     "data": {
      "text/plain": [
       "'cat'"
      ]
     },
     "execution_count": 8,
     "metadata": {},
     "output_type": "execute_result"
    }
   ],
   "source": [
    "d = {'a':'Apple','b':'ball','c':'cat'}\n",
    "d['c']"
   ]
  },
  {
   "cell_type": "code",
   "execution_count": 9,
   "id": "23b04f2b",
   "metadata": {},
   "outputs": [
    {
     "name": "stdout",
     "output_type": "stream",
     "text": [
      "{'a': 'Apple', 'b': 'ball', 'c': 'cat'}\n"
     ]
    }
   ],
   "source": [
    "d = {'a':'Apple','b':'ball','c':'cat'}\n",
    "print(d)"
   ]
  },
  {
   "cell_type": "code",
   "execution_count": 10,
   "id": "001e77f9",
   "metadata": {},
   "outputs": [],
   "source": [
    "# No + *"
   ]
  },
  {
   "cell_type": "code",
   "execution_count": 11,
   "id": "25aec101",
   "metadata": {},
   "outputs": [
    {
     "data": {
      "text/plain": [
       "{'a': 'ant'}"
      ]
     },
     "execution_count": 11,
     "metadata": {},
     "output_type": "execute_result"
    }
   ],
   "source": [
    "d = {'a':'Apple','a':'ant'}\n",
    "d"
   ]
  },
  {
   "cell_type": "code",
   "execution_count": 12,
   "id": "079d54b2",
   "metadata": {},
   "outputs": [
    {
     "data": {
      "text/plain": [
       "{'a': 'Apple', 'A': 'ant'}"
      ]
     },
     "execution_count": 12,
     "metadata": {},
     "output_type": "execute_result"
    }
   ],
   "source": [
    "d = {'a':'Apple','A':'ant'}\n",
    "d"
   ]
  },
  {
   "cell_type": "code",
   "execution_count": 13,
   "id": "45989415",
   "metadata": {},
   "outputs": [
    {
     "name": "stdout",
     "output_type": "stream",
     "text": [
      "a\n",
      "A\n"
     ]
    }
   ],
   "source": [
    "d = {'a':'Apple','A':'ant'}\n",
    "for i in d:\n",
    "    print(i)"
   ]
  },
  {
   "cell_type": "code",
   "execution_count": 14,
   "id": "553f5e25",
   "metadata": {},
   "outputs": [
    {
     "name": "stdout",
     "output_type": "stream",
     "text": [
      "Apple\n",
      "ant\n"
     ]
    }
   ],
   "source": [
    "d = {'a':'Apple','A':'ant'}\n",
    "for i in d.values():\n",
    "    print(i)"
   ]
  },
  {
   "cell_type": "code",
   "execution_count": 15,
   "id": "5c8a2483",
   "metadata": {},
   "outputs": [
    {
     "name": "stdout",
     "output_type": "stream",
     "text": [
      "('a', 'Apple')\n",
      "('A', 'ant')\n"
     ]
    }
   ],
   "source": [
    "d = {'a':'Apple','A':'ant'}\n",
    "for i in d.items():\n",
    "    print(i)"
   ]
  },
  {
   "cell_type": "code",
   "execution_count": 16,
   "id": "9697b3ea",
   "metadata": {},
   "outputs": [
    {
     "data": {
      "text/plain": [
       "{'a': 'Apple', 'b': 'Ball'}"
      ]
     },
     "execution_count": 16,
     "metadata": {},
     "output_type": "execute_result"
    }
   ],
   "source": [
    "d = {}\n",
    "d['a'] = 'Apple'\n",
    "d['b'] = 'Ball'\n",
    "d"
   ]
  },
  {
   "cell_type": "code",
   "execution_count": 18,
   "id": "48cf370b",
   "metadata": {},
   "outputs": [
    {
     "name": "stdout",
     "output_type": "stream",
     "text": [
      "Enter n = 2\n",
      "Enter name = Ram\n",
      "Enter phone = 9808778765\n",
      "Enter name = Shyam\n",
      "Enter phone = 9808778765\n",
      "{'Ram': '9808778765', 'Shyam': '9808778765'}\n"
     ]
    }
   ],
   "source": [
    "data = {}\n",
    "n = int(input(\"Enter n = \"))\n",
    "for i in range(n):\n",
    "    name = input(\"Enter name = \")\n",
    "    phone = input(\"Enter phone = \")\n",
    "    data[name] = phone\n",
    "print(data)"
   ]
  },
  {
   "cell_type": "code",
   "execution_count": 21,
   "id": "28902255",
   "metadata": {},
   "outputs": [
    {
     "data": {
      "text/plain": [
       "{'Shyam': '9808778765'}"
      ]
     },
     "execution_count": 21,
     "metadata": {},
     "output_type": "execute_result"
    }
   ],
   "source": [
    "#del pop()\n",
    "d = {'Ram': '9808778765', 'Shyam': '9808778765'}\n",
    "del d['Ram']\n",
    "d"
   ]
  },
  {
   "cell_type": "code",
   "execution_count": 22,
   "id": "fd066eff",
   "metadata": {},
   "outputs": [
    {
     "name": "stdout",
     "output_type": "stream",
     "text": [
      "{'Shyam': '9808778765'}\n"
     ]
    }
   ],
   "source": [
    "d = {'Ram': '9808778765', 'Shyam': '9808778765'}\n",
    "d.pop('Ram')\n",
    "print(d)"
   ]
  },
  {
   "cell_type": "code",
   "execution_count": 23,
   "id": "be4bde76",
   "metadata": {},
   "outputs": [],
   "source": [
    "# list inside dictionary\n",
    "d = {'Ram':[9808778765,9808778723],\n",
    "    'Shyam':[9808778765,9808665343]}\n"
   ]
  },
  {
   "cell_type": "code",
   "execution_count": 25,
   "id": "49eb59d9",
   "metadata": {},
   "outputs": [
    {
     "data": {
      "text/plain": [
       "[9808778765, 9808778723]"
      ]
     },
     "execution_count": 25,
     "metadata": {},
     "output_type": "execute_result"
    }
   ],
   "source": [
    "d['Ram']"
   ]
  },
  {
   "cell_type": "code",
   "execution_count": 26,
   "id": "364fb4e2",
   "metadata": {},
   "outputs": [
    {
     "data": {
      "text/plain": [
       "9808778765"
      ]
     },
     "execution_count": 26,
     "metadata": {},
     "output_type": "execute_result"
    }
   ],
   "source": [
    "d['Ram'][0]"
   ]
  },
  {
   "cell_type": "code",
   "execution_count": 27,
   "id": "6a3d629e",
   "metadata": {},
   "outputs": [
    {
     "data": {
      "text/plain": [
       "{'Ram': [9800000000, 9808778723], 'Shyam': [9808778765, 9808665343]}"
      ]
     },
     "execution_count": 27,
     "metadata": {},
     "output_type": "execute_result"
    }
   ],
   "source": [
    "d['Ram'][0] = 9800000000\n",
    "d"
   ]
  },
  {
   "cell_type": "code",
   "execution_count": 28,
   "id": "17894b68",
   "metadata": {},
   "outputs": [
    {
     "data": {
      "text/plain": [
       "{'Ram': [9808778723], 'Shyam': [9808778765, 9808665343]}"
      ]
     },
     "execution_count": 28,
     "metadata": {},
     "output_type": "execute_result"
    }
   ],
   "source": [
    "del d['Ram'][0]\n",
    "d"
   ]
  },
  {
   "cell_type": "code",
   "execution_count": 30,
   "id": "14be5058",
   "metadata": {},
   "outputs": [
    {
     "data": {
      "text/plain": [
       "{'Ram': [9800000000, 9808778723, 9808111111],\n",
       " 'Shyam': [9808778765, 9808665343]}"
      ]
     },
     "execution_count": 30,
     "metadata": {},
     "output_type": "execute_result"
    }
   ],
   "source": [
    "d = {'Ram': [9800000000, 9808778723], 'Shyam': [9808778765, 9808665343]}\n",
    "d['Ram'].append(9808111111)\n",
    "d"
   ]
  },
  {
   "cell_type": "code",
   "execution_count": null,
   "id": "0007398b",
   "metadata": {},
   "outputs": [],
   "source": [
    "# d = {'Name':['Ram','Shyam','Hari'],\n",
    "#     'Age':[78,45,28],\n",
    "#     'Add':['Kathmandu','Bhaktapur','lalitpur']}"
   ]
  },
  {
   "cell_type": "code",
   "execution_count": 31,
   "id": "8cbea1ea",
   "metadata": {},
   "outputs": [
    {
     "name": "stdout",
     "output_type": "stream",
     "text": [
      "Enter n = 2\n",
      "Enter name = Ram\n",
      "Enter age = 78\n",
      "Enter add = Kathmandu\n",
      "Enter name = Shyam\n",
      "Enter age = 23\n",
      "Enter add = Bara\n",
      "{'Name': ['Ram', 'Shyam'], 'Age': ['78', '23'], 'Add': ['Kathmandu', 'Bara']}\n"
     ]
    }
   ],
   "source": [
    "data = {'Name':[],'Age':[],'Add':[]}\n",
    "n = int(input(\"Enter n = \"))\n",
    "for i in range(n):\n",
    "    name = input(\"Enter name = \")\n",
    "    age = input(\"Enter age = \")\n",
    "    add = input(\"Enter add = \")\n",
    "    \n",
    "    data['Name'].append(name)\n",
    "    data['Age'].append(age)\n",
    "    data['Add'].append(add)\n",
    "    \n",
    "print(data)"
   ]
  },
  {
   "cell_type": "code",
   "execution_count": 33,
   "id": "c38bd4d8",
   "metadata": {},
   "outputs": [],
   "source": [
    "# Dict inside list\n",
    "data = [{'Name':'Ram','Age':45,'Add':'Kathmandu'},\n",
    "       {'Name':'Shyam','Age':25,'Add':'Bara'},\n",
    "       {'Name':'Hari','Age':55,'Add':'Bhaktapur'}]"
   ]
  },
  {
   "cell_type": "code",
   "execution_count": 34,
   "id": "07532281",
   "metadata": {},
   "outputs": [
    {
     "data": {
      "text/plain": [
       "{'Name': 'Ram', 'Age': 45, 'Add': 'Kathmandu'}"
      ]
     },
     "execution_count": 34,
     "metadata": {},
     "output_type": "execute_result"
    }
   ],
   "source": [
    "data[0]"
   ]
  },
  {
   "cell_type": "code",
   "execution_count": 35,
   "id": "a47b50c2",
   "metadata": {},
   "outputs": [
    {
     "data": {
      "text/plain": [
       "'Ram'"
      ]
     },
     "execution_count": 35,
     "metadata": {},
     "output_type": "execute_result"
    }
   ],
   "source": [
    "data[0]['Name']"
   ]
  },
  {
   "cell_type": "code",
   "execution_count": 36,
   "id": "e4fa2f6f",
   "metadata": {},
   "outputs": [
    {
     "data": {
      "text/plain": [
       "[{'Name': 'Rama', 'Age': 45, 'Add': 'Kathmandu'},\n",
       " {'Name': 'Shyam', 'Age': 25, 'Add': 'Bara'},\n",
       " {'Name': 'Hari', 'Age': 55, 'Add': 'Bhaktapur'}]"
      ]
     },
     "execution_count": 36,
     "metadata": {},
     "output_type": "execute_result"
    }
   ],
   "source": [
    "data[0]['Name'] = 'Rama'\n",
    "data"
   ]
  },
  {
   "cell_type": "code",
   "execution_count": 38,
   "id": "6aad3cd5",
   "metadata": {},
   "outputs": [
    {
     "name": "stdout",
     "output_type": "stream",
     "text": [
      "Enter n = 1\n",
      "Enter name = Ram\n",
      "Enter age = 78\n",
      "Enter add = Kathmandu\n",
      "[{'Name': 'Ram', 'Age': '78', 'Add': 'Kathmandu'}]\n"
     ]
    }
   ],
   "source": [
    "data = []\n",
    "n = int(input(\"Enter n = \"))\n",
    "for i in range(n):\n",
    "    name = input(\"Enter name = \")\n",
    "    age = input(\"Enter age = \")\n",
    "    add = input(\"Enter add = \")\n",
    "    \n",
    "    data.append({'Name':name,'Age':age,'Add':add})\n",
    "    \n",
    "print(data)"
   ]
  },
  {
   "cell_type": "code",
   "execution_count": 40,
   "id": "26c5976b",
   "metadata": {},
   "outputs": [
    {
     "data": {
      "text/plain": [
       "'Ram'"
      ]
     },
     "execution_count": 40,
     "metadata": {},
     "output_type": "execute_result"
    }
   ],
   "source": [
    "x = data[0].pop('Name')\n",
    "x"
   ]
  },
  {
   "cell_type": "code",
   "execution_count": null,
   "id": "04632188",
   "metadata": {},
   "outputs": [],
   "source": [
    "da[{'Name': 'Rama', 'Age': 45, 'Add': 'Kathmandu'},\n",
    " {'Name': 'Shyam', 'Age': 25, 'Add': 'Bara'},\n",
    " {'Name': 'Hari', 'Age': 55, 'Add': 'Bhaktapur'}]"
   ]
  }
 ],
 "metadata": {
  "kernelspec": {
   "display_name": "Python 3 (ipykernel)",
   "language": "python",
   "name": "python3"
  },
  "language_info": {
   "codemirror_mode": {
    "name": "ipython",
    "version": 3
   },
   "file_extension": ".py",
   "mimetype": "text/x-python",
   "name": "python",
   "nbconvert_exporter": "python",
   "pygments_lexer": "ipython3",
   "version": "3.11.0"
  }
 },
 "nbformat": 4,
 "nbformat_minor": 5
}
