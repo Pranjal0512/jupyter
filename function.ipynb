{
 "cells": [
  {
   "cell_type": "code",
   "execution_count": 1,
   "id": "1e2aad3e-6e60-49ec-8074-35f899899623",
   "metadata": {},
   "outputs": [],
   "source": [
    "#predefined function\n",
    "#print()int() float() str() list() tuple() dict()"
   ]
  },
  {
   "cell_type": "code",
   "execution_count": 2,
   "id": "a2d8a81f-f0d3-401c-a6bd-cada5d1a2b94",
   "metadata": {},
   "outputs": [],
   "source": [
    "#user defined function\n",
    "#def <function>():\n",
    "#    <operation>\n",
    "    \n",
    "#  <functiom_name>"
   ]
  },
  {
   "cell_type": "code",
   "execution_count": 3,
   "id": "6506258c-cb9e-4b95-8e5e-a031e8d95a9e",
   "metadata": {},
   "outputs": [
    {
     "name": "stdout",
     "output_type": "stream",
     "text": [
      "hello world\n"
     ]
    }
   ],
   "source": [
    "def hello():\n",
    "    print(\"hello world\")\n",
    "    \n",
    "\n",
    "hello()"
   ]
  },
  {
   "cell_type": "code",
   "execution_count": 4,
   "id": "6b3ade80-9e91-4df9-9f40-8af9cd29a4fe",
   "metadata": {},
   "outputs": [
    {
     "name": "stdin",
     "output_type": "stream",
     "text": [
      "enter p 10000\n",
      "enter t 4.5\n",
      "enter r 10\n"
     ]
    },
    {
     "name": "stdout",
     "output_type": "stream",
     "text": [
      "4500.0\n"
     ]
    }
   ],
   "source": [
    "def cal():\n",
    "    p= int(input(\"enter p\"))     #local variable\n",
    "    t= float(input(\"enter t\"))   #local variable\n",
    "    r= float(input(\"enter r\"))   #local variable\n",
    "    i=(p*t*r)/100                #local variable\n",
    "    print(i)\n",
    "    \n",
    "cal()    "
   ]
  },
  {
   "cell_type": "code",
   "execution_count": 6,
   "id": "77b0b370-8218-403a-a043-95ee65115882",
   "metadata": {},
   "outputs": [
    {
     "name": "stdin",
     "output_type": "stream",
     "text": [
      "enter p 10000\n",
      "enter t 4.5\n",
      "enter r 10\n"
     ]
    },
    {
     "name": "stdout",
     "output_type": "stream",
     "text": [
      "4500.0\n"
     ]
    }
   ],
   "source": [
    "def cal():\n",
    "    i=(p*t*r)/100                #local variable\n",
    "    print(i)\n",
    "\n",
    "p= int(input(\"enter p\"))     #global variable\n",
    "t= float(input(\"enter t\"))   #global variable\n",
    "r= float(input(\"enter r\"))   #global variable    \n",
    "cal()    "
   ]
  },
  {
   "cell_type": "code",
   "execution_count": 7,
   "id": "57edb343-2cf2-4301-a339-a4048f3a4502",
   "metadata": {},
   "outputs": [
    {
     "name": "stdin",
     "output_type": "stream",
     "text": [
      "enter p 10000\n",
      "enter t 4.5\n",
      "enter r 10\n"
     ]
    },
    {
     "name": "stdout",
     "output_type": "stream",
     "text": [
      "4500.0\n"
     ]
    }
   ],
   "source": [
    "p= int(input(\"enter p\"))     #global variable\n",
    "t= float(input(\"enter t\"))   #global variable\n",
    "r= float(input(\"enter r\"))   #global variable\n",
    "def cal():\n",
    "    i=(p*t*r)/100                #local variable\n",
    "    print(i)\n",
    "\n",
    "    \n",
    "cal()    "
   ]
  },
  {
   "cell_type": "code",
   "execution_count": 8,
   "id": "a3122b9c-5567-4c67-b0ea-f3d70ae4f0b2",
   "metadata": {},
   "outputs": [],
   "source": [
    "#argument\n",
    "# return value"
   ]
  },
  {
   "cell_type": "code",
   "execution_count": 10,
   "id": "e373ae2d-f916-4dc1-9059-6a4d75b67157",
   "metadata": {},
   "outputs": [],
   "source": [
    "# function with argument and no return type\n",
    "# function without argument and no return type\n",
    "# function without argument and return type\n",
    "# function with argument and return type\n"
   ]
  },
  {
   "cell_type": "code",
   "execution_count": 11,
   "id": "934e934a-e7d6-4c74-9e87-4e492bdf2128",
   "metadata": {},
   "outputs": [
    {
     "name": "stdout",
     "output_type": "stream",
     "text": [
      "hello world\n"
     ]
    }
   ],
   "source": [
    "# function with argument and no return type\n",
    "\n",
    "def hello(x):   #parameter\n",
    "    print(x)\n",
    "    \n",
    "hello (\"hello world\")#argument"
   ]
  },
  {
   "cell_type": "code",
   "execution_count": 13,
   "id": "7a0ba0f9-ce2f-4bab-a761-62733a05786d",
   "metadata": {},
   "outputs": [
    {
     "name": "stdin",
     "output_type": "stream",
     "text": [
      "enter p 100\n",
      "enter t 3\n",
      "enter r 4\n"
     ]
    },
    {
     "name": "stdout",
     "output_type": "stream",
     "text": [
      "12.0\n"
     ]
    }
   ],
   "source": [
    "# function without argument and no return type\n",
    "\n",
    "\n",
    "def cal(p,t,r):\n",
    "   \n",
    "    i=(p*t*r)/100                #local variable\n",
    "    print(i)\n",
    "p= int(input(\"enter p\"))         #global variable\n",
    "t= float(input(\"enter t\"))       #global variable\n",
    "r= float(input(\"enter r\"))       #global variable\n",
    "cal(p,t,r)                       #p,t,r => argument"
   ]
  },
  {
   "cell_type": "code",
   "execution_count": 19,
   "id": "5cd0e101-9819-4bd0-b4a5-f2f191f41ab0",
   "metadata": {},
   "outputs": [
    {
     "name": "stdin",
     "output_type": "stream",
     "text": [
      "enter p 1000\n",
      "enter t 3\n",
      "enter r 4\n"
     ]
    },
    {
     "name": "stdout",
     "output_type": "stream",
     "text": [
      "120.0\n"
     ]
    }
   ],
   "source": [
    "# function without argument and no return type\n",
    "p= int(input(\"enter p\"))         #global variable\n",
    "t= float(input(\"enter t\"))       #global variable\n",
    "r= float(input(\"enter r\"))       #global variable\n",
    "\n",
    "def cal(l):\n",
    "    x,y,z=l\n",
    "    i=(x*y*z)/100                #local variable\n",
    "    print(i)\n",
    "l=[p,t,r]\n",
    "cal(l)                       #l => argument"
   ]
  },
  {
   "cell_type": "code",
   "execution_count": 14,
   "id": "4f6561c3-d07e-4c8b-925e-466f6c96388a",
   "metadata": {},
   "outputs": [
    {
     "data": {
      "text/plain": [
       "(1, 2, 3)"
      ]
     },
     "execution_count": 14,
     "metadata": {},
     "output_type": "execute_result"
    }
   ],
   "source": [
    "x=1,2,3\n",
    "x"
   ]
  },
  {
   "cell_type": "code",
   "execution_count": 15,
   "id": "46f6c6a6-a13c-488d-a176-6578b5ff469c",
   "metadata": {},
   "outputs": [],
   "source": [
    "a,b,c=x"
   ]
  },
  {
   "cell_type": "code",
   "execution_count": 3,
   "id": "27e65741-2e45-4308-94ac-c696697f8f2f",
   "metadata": {},
   "outputs": [
    {
     "name": "stdout",
     "output_type": "stream",
     "text": [
      "hello worl\n"
     ]
    }
   ],
   "source": [
    "#return type\n",
    "def hello():\n",
    "    return\"hello worl\"\n",
    "print(hello())\n"
   ]
  },
  {
   "cell_type": "code",
   "execution_count": 6,
   "id": "df58b7de-a614-45d0-9b43-fd31e7e88012",
   "metadata": {},
   "outputs": [
    {
     "name": "stdout",
     "output_type": "stream",
     "text": [
      "hello world i am python\n"
     ]
    }
   ],
   "source": [
    "#return type\n",
    "def hello():\n",
    "    return\"hello world\"\n",
    "x=hello()\n",
    "print(x+\" i am python\")"
   ]
  },
  {
   "cell_type": "code",
   "execution_count": null,
   "id": "7b39406e-5a36-4f58-acdc-4987b930d8c6",
   "metadata": {
    "tags": []
   },
   "outputs": [],
   "source": [
    "# function without argument and no return type\n",
    "def area():\n",
    "    l= int(input(\"enter l\"))\n",
    "    b= int(input(\"enter b\"))\n",
    "    h= int(input(\"enter h\"))\n",
    "    a=l*b\n",
    "    v=a*h\n",
    "    return a,v\n",
    "ar=area()\n",
    "print(area())\n",
    "x,y=ar\n",
    "print(\"the area is\",ar)\n",
    "print(\"the volume is \",v)    "
   ]
  },
  {
   "cell_type": "code",
   "execution_count": 17,
   "id": "1dada29e-fd24-48a1-8a2a-2bb32c5150c1",
   "metadata": {},
   "outputs": [],
   "source": [
    "# function without argument and return type"
   ]
  },
  {
   "cell_type": "code",
   "execution_count": 18,
   "id": "72669263-7a21-439e-afa7-3c061dc231bd",
   "metadata": {},
   "outputs": [
    {
     "name": "stdout",
     "output_type": "stream",
     "text": [
      "C\n",
      "C++\n",
      "NET\n",
      "Java\n",
      "python\n"
     ]
    }
   ],
   "source": [
    "def language (lan=\"python\"):\n",
    "    print(lan)\n",
    "\n",
    "language(\"C\")\n",
    "language(\"C++\")\n",
    "language(\"NET\")\n",
    "language(\"Java\")\n",
    "language()"
   ]
  },
  {
   "cell_type": "code",
   "execution_count": 21,
   "id": "419c1f85-b50b-4610-9455-41028b3153f2",
   "metadata": {},
   "outputs": [
    {
     "name": "stdout",
     "output_type": "stream",
     "text": [
      "hello world\n",
      "hello world\n"
     ]
    }
   ],
   "source": [
    "def hello():\n",
    "    print(\"hello world\")\n",
    "hello()    \n",
    "hello()    "
   ]
  },
  {
   "cell_type": "code",
   "execution_count": 23,
   "id": "b4df38b1-6cdb-4bfa-aaa0-5fdfa7264d14",
   "metadata": {},
   "outputs": [
    {
     "name": "stdout",
     "output_type": "stream",
     "text": [
      "hello world\n"
     ]
    },
    {
     "name": "stdin",
     "output_type": "stream",
     "text": [
      "enter for more print= \n"
     ]
    },
    {
     "name": "stdout",
     "output_type": "stream",
     "text": [
      "hello world\n"
     ]
    },
    {
     "name": "stdin",
     "output_type": "stream",
     "text": [
      "enter for more print= \n"
     ]
    },
    {
     "name": "stdout",
     "output_type": "stream",
     "text": [
      "hello world\n"
     ]
    },
    {
     "name": "stdin",
     "output_type": "stream",
     "text": [
      "enter for more print= \n"
     ]
    },
    {
     "name": "stdout",
     "output_type": "stream",
     "text": [
      "hello world\n"
     ]
    },
    {
     "name": "stdin",
     "output_type": "stream",
     "text": [
      "enter for more print= \n"
     ]
    },
    {
     "name": "stdout",
     "output_type": "stream",
     "text": [
      "hello world\n"
     ]
    },
    {
     "name": "stdin",
     "output_type": "stream",
     "text": [
      "enter for more print= gh\n"
     ]
    }
   ],
   "source": [
    "def hello():\n",
    "    print(\"hello world\")\n",
    "    x= input(\"enter for more print=\")\n",
    "    if x=='':\n",
    "        hello()    \n",
    "\n",
    "hello()    "
   ]
  },
  {
   "cell_type": "code",
   "execution_count": 28,
   "id": "1188ab8d-5232-482e-8f91-9fddf18891bc",
   "metadata": {},
   "outputs": [
    {
     "name": "stdout",
     "output_type": "stream",
     "text": [
      "3.141592653589793\n"
     ]
    }
   ],
   "source": [
    "#math function\n",
    "import math as m\n",
    "print(m.pi)\n"
   ]
  },
  {
   "cell_type": "code",
   "execution_count": 29,
   "id": "dbd99556-a16a-4746-a7ab-2820e47b704b",
   "metadata": {},
   "outputs": [
    {
     "name": "stdin",
     "output_type": "stream",
     "text": [
      "enter r = 100\n"
     ]
    },
    {
     "name": "stdout",
     "output_type": "stream",
     "text": [
      "the area is= 31415.926535897932\n"
     ]
    }
   ],
   "source": [
    "r=int(input(\"enter r =\"))\n",
    "a=m.pi*m.pow(r,2)\n",
    "print(\"the area is=\",a)\n"
   ]
  },
  {
   "cell_type": "code",
   "execution_count": 33,
   "id": "5f453a87-23a9-45d2-9e03-8b8c7838f3e3",
   "metadata": {},
   "outputs": [
    {
     "name": "stdin",
     "output_type": "stream",
     "text": [
      "enter mass= 12\n",
      "enter acceleration= 12\n"
     ]
    },
    {
     "data": {
      "text/plain": [
       "101.82337649086286"
      ]
     },
     "execution_count": 33,
     "metadata": {},
     "output_type": "execute_result"
    }
   ],
   "source": [
    "#f=ma*sin(t)\n",
    "import math as m\n",
    "mass= int(input(\"enter mass=\"))\n",
    "acc= int(input(\"enter acceleration=\"))\n",
    "\n",
    "f=mass*acc*m.cos(m.pi/4)\n",
    "f"
   ]
  },
  {
   "cell_type": "code",
   "execution_count": null,
   "id": "ee958760-9621-47cb-9aa2-eb5d58114e40",
   "metadata": {},
   "outputs": [],
   "source": []
  }
 ],
 "metadata": {
  "kernelspec": {
   "display_name": "Python 3 (ipykernel)",
   "language": "python",
   "name": "python3"
  },
  "language_info": {
   "codemirror_mode": {
    "name": "ipython",
    "version": 3
   },
   "file_extension": ".py",
   "mimetype": "text/x-python",
   "name": "python",
   "nbconvert_exporter": "python",
   "pygments_lexer": "ipython3",
   "version": "3.11.0"
  }
 },
 "nbformat": 4,
 "nbformat_minor": 5
}
