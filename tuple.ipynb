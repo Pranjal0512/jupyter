{
 "cells": [
  {
   "cell_type": "markdown",
   "id": "3c581a99-2e30-4ab8-85b2-009fbdfca076",
   "metadata": {},
   "source": [
    "***TUPLE***"
   ]
  },
  {
   "cell_type": "code",
   "execution_count": 1,
   "id": "af66d406-031c-47ef-9472-42762309530c",
   "metadata": {},
   "outputs": [],
   "source": [
    "#Tuple\n",
    "#indexing\n",
    "#ordered\n",
    "#duplicate and multiply\n",
    "#imutable"
   ]
  },
  {
   "cell_type": "code",
   "execution_count": 3,
   "id": "5900599c-d840-44b4-b73c-7a2768e98347",
   "metadata": {},
   "outputs": [
    {
     "name": "stdout",
     "output_type": "stream",
     "text": [
      "<class 'tuple'>\n"
     ]
    }
   ],
   "source": [
    "a=(1,2,3,4)\n",
    "print(type(a))"
   ]
  },
  {
   "cell_type": "code",
   "execution_count": 4,
   "id": "2edffc46-b000-415e-961c-c2f748d5fd61",
   "metadata": {},
   "outputs": [
    {
     "name": "stdout",
     "output_type": "stream",
     "text": [
      "<class 'int'>\n"
     ]
    }
   ],
   "source": [
    "a=(1)\n",
    "print(type(a))"
   ]
  },
  {
   "cell_type": "code",
   "execution_count": 5,
   "id": "c25cbde8-0d28-4db6-856c-8a95908f216e",
   "metadata": {},
   "outputs": [
    {
     "name": "stdout",
     "output_type": "stream",
     "text": [
      "<class 'str'>\n"
     ]
    }
   ],
   "source": [
    "a=(\"apple\")\n",
    "print(type(a))"
   ]
  },
  {
   "cell_type": "code",
   "execution_count": 6,
   "id": "09720b53-8168-4186-a0fb-59a2455ac473",
   "metadata": {},
   "outputs": [
    {
     "name": "stdout",
     "output_type": "stream",
     "text": [
      "<class 'tuple'>\n"
     ]
    }
   ],
   "source": [
    "a=(\"apple\",)\n",
    "print(type(a))"
   ]
  },
  {
   "cell_type": "code",
   "execution_count": 7,
   "id": "e8f72b51-3c8b-4564-aa81-2010c99a9bcc",
   "metadata": {},
   "outputs": [
    {
     "name": "stdout",
     "output_type": "stream",
     "text": [
      "<class 'tuple'>\n"
     ]
    }
   ],
   "source": [
    "b=('apple','ball','cat')\n",
    "print(type(a))"
   ]
  },
  {
   "cell_type": "code",
   "execution_count": 9,
   "id": "cb82afa6-c6a2-4cff-926e-1177aaf605aa",
   "metadata": {},
   "outputs": [],
   "source": [
    "#no create\n",
    "#no update\n",
    "#no del remove() pop()\n",
    "#yes read by using loops and index"
   ]
  },
  {
   "cell_type": "code",
   "execution_count": 10,
   "id": "5e72aa7d-d1f9-4476-a9d8-4c91075ef4e5",
   "metadata": {},
   "outputs": [
    {
     "data": {
      "text/plain": [
       "('ball',)"
      ]
     },
     "execution_count": 10,
     "metadata": {},
     "output_type": "execute_result"
    }
   ],
   "source": [
    "a=()\n",
    "b=('ball',)\n",
    "a=a+b\n",
    "a"
   ]
  },
  {
   "cell_type": "code",
   "execution_count": 13,
   "id": "f1e11ccf-0382-4323-a959-1b162fde5eed",
   "metadata": {},
   "outputs": [
    {
     "name": "stdin",
     "output_type": "stream",
     "text": [
      "enter n= 3\n",
      "enter x= apple\n",
      "enter x= ball\n",
      "enter x= cat\n"
     ]
    },
    {
     "name": "stdout",
     "output_type": "stream",
     "text": [
      "('apple', 'ball', 'cat')\n"
     ]
    }
   ],
   "source": [
    "data=()\n",
    "n=int(input(\"enter n=\"))\n",
    "for i in range(n):\n",
    "    x= input(\"enter x=\")\n",
    "    data=data+(x,)\n",
    "print(data)"
   ]
  },
  {
   "cell_type": "code",
   "execution_count": 14,
   "id": "ad2b1587-110e-46c0-a278-aa35b22b3c85",
   "metadata": {},
   "outputs": [
    {
     "data": {
      "text/plain": [
       "['apple', 'ball', 'cat']"
      ]
     },
     "execution_count": 14,
     "metadata": {},
     "output_type": "execute_result"
    }
   ],
   "source": [
    "a=('apple', 'ball', 'cat')\n",
    "list(a)"
   ]
  },
  {
   "cell_type": "code",
   "execution_count": 15,
   "id": "6ba2ed2f-abd4-4e51-9928-54bb75326e27",
   "metadata": {},
   "outputs": [
    {
     "data": {
      "text/plain": [
       "('apple', 'ball', 'cat')"
      ]
     },
     "execution_count": 15,
     "metadata": {},
     "output_type": "execute_result"
    }
   ],
   "source": [
    "a=('apple', 'ball', 'cat')\n",
    "tuple(a)"
   ]
  },
  {
   "cell_type": "code",
   "execution_count": 17,
   "id": "19818c3a-7d61-4480-858e-fe5086848d4a",
   "metadata": {},
   "outputs": [
    {
     "data": {
      "text/plain": [
       "('ball', 'cat')"
      ]
     },
     "execution_count": 17,
     "metadata": {},
     "output_type": "execute_result"
    }
   ],
   "source": [
    "a=('apple', 'ball', 'cat')\n",
    "a=list(a)\n",
    "del a[0]\n",
    "a=tuple(a)\n",
    "a"
   ]
  },
  {
   "cell_type": "code",
   "execution_count": null,
   "id": "9441edc8-e81d-4f84-a096-c0c3e667197b",
   "metadata": {},
   "outputs": [],
   "source": []
  },
  {
   "cell_type": "raw",
   "id": "54367729-c311-4c19-a56c-c4cee5479214",
   "metadata": {},
   "source": []
  }
 ],
 "metadata": {
  "kernelspec": {
   "display_name": "Python 3 (ipykernel)",
   "language": "python",
   "name": "python3"
  },
  "language_info": {
   "codemirror_mode": {
    "name": "ipython",
    "version": 3
   },
   "file_extension": ".py",
   "mimetype": "text/x-python",
   "name": "python",
   "nbconvert_exporter": "python",
   "pygments_lexer": "ipython3",
   "version": "3.11.0"
  }
 },
 "nbformat": 4,
 "nbformat_minor": 5
}
