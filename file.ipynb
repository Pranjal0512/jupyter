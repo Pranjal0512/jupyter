{
 "cells": [
  {
   "cell_type": "code",
   "execution_count": 1,
   "id": "64c3d7ab-085f-4240-92d4-b9918c89de91",
   "metadata": {},
   "outputs": [],
   "source": [
    "# file = open('<file_name>','<mode>')\n",
    "# file.close()\n",
    "\n",
    "# with open('<file_name','<mode>')as file:\n",
    "#      <operations>"
   ]
  },
  {
   "cell_type": "code",
   "execution_count": 2,
   "id": "48138157-ce92-499a-afad-07051d54c8a8",
   "metadata": {},
   "outputs": [],
   "source": [
    "# mode\n",
    "# r => read\n",
    "# a => append\n",
    "# x => create\n",
    "# w => write"
   ]
  },
  {
   "cell_type": "code",
   "execution_count": 7,
   "id": "1ec3722b-2c6b-4c32-a60f-35abb9eeab36",
   "metadata": {},
   "outputs": [
    {
     "name": "stdout",
     "output_type": "stream",
     "text": [
      "The file already exists \n"
     ]
    }
   ],
   "source": [
    "try:\n",
    "    file = open('new_file.txt','x')\n",
    "    file.close()\n",
    "except:\n",
    "    print(\"The file already exists \")"
   ]
  },
  {
   "cell_type": "code",
   "execution_count": 11,
   "id": "f1899d4d-b9dc-4bb6-89e0-f274b1d5a38c",
   "metadata": {},
   "outputs": [
    {
     "name": "stdout",
     "output_type": "stream",
     "text": [
      "<class 'str'>\n",
      "1.hello world\n",
      "2.hello world\n",
      "3.hello world\n",
      "4.hello world\n",
      "5.hello world\n"
     ]
    }
   ],
   "source": [
    "try:\n",
    "    file = open('new_file.txt','r')\n",
    "    x=file.read()\n",
    "    print(type(x))\n",
    "    print(x)\n",
    "    file.close()\n",
    "except:\n",
    "    print(\"The file already exists \")"
   ]
  },
  {
   "cell_type": "code",
   "execution_count": 12,
   "id": "c8493a43-ffcf-4ac6-a063-8326b5ccb43e",
   "metadata": {},
   "outputs": [
    {
     "data": {
      "text/plain": [
       "'1.hello world\\n2.hello world\\n3.hello world\\n4.hello world\\n5.hello world'"
      ]
     },
     "execution_count": 12,
     "metadata": {},
     "output_type": "execute_result"
    }
   ],
   "source": [
    "x"
   ]
  },
  {
   "cell_type": "code",
   "execution_count": 13,
   "id": "22b72e86-25bb-4a42-ad01-ac4aecb31ecb",
   "metadata": {},
   "outputs": [
    {
     "data": {
      "text/plain": [
       "['1.hello world',\n",
       " '2.hello world',\n",
       " '3.hello world',\n",
       " '4.hello world',\n",
       " '5.hello world']"
      ]
     },
     "execution_count": 13,
     "metadata": {},
     "output_type": "execute_result"
    }
   ],
   "source": [
    "x.split('\\n')"
   ]
  },
  {
   "cell_type": "code",
   "execution_count": 14,
   "id": "c9fef172-7a9f-4b65-b0fa-11be535de650",
   "metadata": {},
   "outputs": [
    {
     "data": {
      "text/plain": [
       "'1.hello world'"
      ]
     },
     "execution_count": 14,
     "metadata": {},
     "output_type": "execute_result"
    }
   ],
   "source": [
    "x.split('\\n')[0]"
   ]
  },
  {
   "cell_type": "code",
   "execution_count": 15,
   "id": "ddbe958a-ca76-4a3a-bff3-24d2853960b1",
   "metadata": {},
   "outputs": [
    {
     "data": {
      "text/plain": [
       "'2.hello world'"
      ]
     },
     "execution_count": 15,
     "metadata": {},
     "output_type": "execute_result"
    }
   ],
   "source": [
    "x.split('\\n')[1]"
   ]
  },
  {
   "cell_type": "code",
   "execution_count": 18,
   "id": "b2336f11-4565-4b73-9912-7ccf68fd9eda",
   "metadata": {},
   "outputs": [],
   "source": [
    "with open('data.txt','w')as file:\n",
    "    file.write('hello world i am python')"
   ]
  },
  {
   "cell_type": "code",
   "execution_count": 19,
   "id": "7267196f-ce49-4e22-a15b-536bfa4c9c05",
   "metadata": {},
   "outputs": [],
   "source": [
    "with open('data.txt','w')as file:\n",
    "    file.write('hello world i am  not python')"
   ]
  },
  {
   "cell_type": "code",
   "execution_count": 26,
   "id": "21927c81-c861-4388-a356-fff411287f4d",
   "metadata": {},
   "outputs": [
    {
     "name": "stdin",
     "output_type": "stream",
     "text": [
      "Enter n =  2\n",
      "Enter product name =  apple\n",
      "Enter price =  200\n",
      "Enter quantity =  2\n",
      "Enter product name =  ball\n",
      "Enter price =  233\n",
      "Enter quantity =  2\n"
     ]
    },
    {
     "name": "stdout",
     "output_type": "stream",
     "text": [
      "apple 200 2 400\n",
      "ball 233 2 466\n",
      "\n"
     ]
    }
   ],
   "source": [
    "info = str()\n",
    "n = int(input(\"Enter n = \"))\n",
    "for i in range(n):\n",
    "    name = input(\"Enter product name = \")\n",
    "    price = int(input(\"Enter price = \"))\n",
    "    quantity = int(input(\"Enter quantity = \"))\n",
    "    total = price*quantity\n",
    "    info = info +f\"{name} {price} {quantity} {total}\\n\"\n",
    "    \n",
    "print(info)\n",
    "\n",
    "with open('data.txt','w')as file:\n",
    "    file.write(info)"
   ]
  },
  {
   "cell_type": "code",
   "execution_count": 28,
   "id": "fcee3065-49ba-4ab0-96b8-50a594c70cda",
   "metadata": {},
   "outputs": [
    {
     "name": "stdin",
     "output_type": "stream",
     "text": [
      "Enter n =  2\n",
      "Enter product name =  cat\n",
      "Enter price =  233\n",
      "Enter quantity =  2\n",
      "Enter product name =  dog\n",
      "Enter price =  233\n",
      "Enter quantity =  2\n"
     ]
    },
    {
     "name": "stdout",
     "output_type": "stream",
     "text": [
      "cat 233 2 466\n",
      "dog 233 2 466\n",
      "\n"
     ]
    }
   ],
   "source": [
    " info = str()\n",
    "n = int(input(\"Enter n = \"))\n",
    "for i in range(n):\n",
    "    name = input(\"Enter product name = \")\n",
    "    price = int(input(\"Enter price = \"))\n",
    "    quantity = int(input(\"Enter quantity = \"))\n",
    "    total = price*quantity\n",
    "    info = info +f\"{name} {price} {quantity} {total}\\n\"\n",
    "    \n",
    "print(info)\n",
    "\n",
    "with open('data.txt','a')as file:\n",
    "    file.write(info)"
   ]
  },
  {
   "cell_type": "code",
   "execution_count": 30,
   "id": "2a234906-99ee-4e5f-a978-745ac85ef7a0",
   "metadata": {},
   "outputs": [
    {
     "name": "stdout",
     "output_type": "stream",
     "text": [
      "apple 200 2 400\n",
      "ball 233 2 466\n",
      "cat 233 2 466\n",
      "dog 233 2 466\n",
      "\n"
     ]
    }
   ],
   "source": [
    "with open('data.txt','r')as file:\n",
    "    x=file.read()\n",
    "    print(x)"
   ]
  },
  {
   "cell_type": "code",
   "execution_count": 33,
   "id": "e7de54bc-4173-4818-b01d-678e04716924",
   "metadata": {},
   "outputs": [],
   "source": [
    "data=x.split(\"\\n\")[0:-1]"
   ]
  },
  {
   "cell_type": "code",
   "execution_count": 34,
   "id": "1f1e17f2-d36a-4966-9e93-2ecf503e601b",
   "metadata": {},
   "outputs": [
    {
     "data": {
      "text/plain": [
       "['apple 200 2 400', 'ball 233 2 466', 'cat 233 2 466', 'dog 233 2 466']"
      ]
     },
     "execution_count": 34,
     "metadata": {},
     "output_type": "execute_result"
    }
   ],
   "source": [
    "data"
   ]
  },
  {
   "cell_type": "code",
   "execution_count": 42,
   "id": "bb360ff5-9edf-4bd9-8a6d-68c4cf636801",
   "metadata": {},
   "outputs": [
    {
     "data": {
      "text/plain": [
       "[['apple', '200', '2', '400'],\n",
       " ['ball', '233', '2', '466'],\n",
       " ['cat', '233', '2', '466'],\n",
       " ['dog', '233', '2', '466']]"
      ]
     },
     "execution_count": 42,
     "metadata": {},
     "output_type": "execute_result"
    }
   ],
   "source": [
    "new_data=[]\n",
    "for i in data:\n",
    "    split_data=i.split()\n",
    "    new_data.append(split_data)\n",
    "    \n",
    "new_data"
   ]
  },
  {
   "cell_type": "code",
   "execution_count": 37,
   "id": "8d7f5724-063e-4a33-b7ae-1caa1f4b40f1",
   "metadata": {},
   "outputs": [
    {
     "data": {
      "text/plain": [
       "['apple', '200', '2', '400']"
      ]
     },
     "execution_count": 37,
     "metadata": {},
     "output_type": "execute_result"
    }
   ],
   "source": [
    "x='apple 200 2 400'\n",
    "x.split()"
   ]
  },
  {
   "cell_type": "code",
   "execution_count": 44,
   "id": "02e81fd5-8ccc-4ae2-aaec-14bd6cacba05",
   "metadata": {},
   "outputs": [
    {
     "data": {
      "text/plain": [
       "1798"
      ]
     },
     "execution_count": 44,
     "metadata": {},
     "output_type": "execute_result"
    }
   ],
   "source": [
    "all_total=0\n",
    "\n",
    "for cal in new_data:\n",
    "    all_total=all_total+int(cal[3])\n",
    "\n",
    "all_total"
   ]
  },
  {
   "cell_type": "code",
   "execution_count": null,
   "id": "26d0172c-4940-4035-baf9-2c686d53c783",
   "metadata": {},
   "outputs": [],
   "source": []
  }
 ],
 "metadata": {
  "kernelspec": {
   "display_name": "Python 3 (ipykernel)",
   "language": "python",
   "name": "python3"
  },
  "language_info": {
   "codemirror_mode": {
    "name": "ipython",
    "version": 3
   },
   "file_extension": ".py",
   "mimetype": "text/x-python",
   "name": "python",
   "nbconvert_exporter": "python",
   "pygments_lexer": "ipython3",
   "version": "3.11.0"
  }
 },
 "nbformat": 4,
 "nbformat_minor": 5
}
