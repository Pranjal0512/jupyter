{
 "cells": [
  {
   "cell_type": "markdown",
   "id": "1f7db871-7785-4dc4-89c4-5eb715038d37",
   "metadata": {},
   "source": [
    "***SET***"
   ]
  },
  {
   "cell_type": "code",
   "execution_count": 1,
   "id": "b82e40ac-48a3-4b45-af0b-99ca12ea9f47",
   "metadata": {},
   "outputs": [],
   "source": [
    "#set\n",
    "#No indexing\n",
    "#unordered\n",
    "#multiple but no duplicate data\n",
    "#mutable"
   ]
  },
  {
   "cell_type": "code",
   "execution_count": 2,
   "id": "4204963a-5cbf-41d2-869e-f5171d9ae3a4",
   "metadata": {},
   "outputs": [
    {
     "name": "stdout",
     "output_type": "stream",
     "text": [
      "<class 'set'>\n",
      "{1, 2, 3, 4, 5, 6}\n"
     ]
    }
   ],
   "source": [
    "s={1,2,3,4,5,6}\n",
    "print(type(s))\n",
    "print(s)"
   ]
  },
  {
   "cell_type": "code",
   "execution_count": 3,
   "id": "7b830e90-f530-439c-8162-febb08c2ea9a",
   "metadata": {},
   "outputs": [
    {
     "data": {
      "text/plain": [
       "set"
      ]
     },
     "execution_count": 3,
     "metadata": {},
     "output_type": "execute_result"
    }
   ],
   "source": [
    "s={1}\n",
    "type(s)"
   ]
  },
  {
   "cell_type": "code",
   "execution_count": 4,
   "id": "7f3e9695-5db1-43f1-8256-fccc3f3be607",
   "metadata": {},
   "outputs": [
    {
     "name": "stdout",
     "output_type": "stream",
     "text": [
      "{'ball', 'cat', 'dog', 'apple'}\n"
     ]
    }
   ],
   "source": [
    "s={'apple','ball','cat','dog'}\n",
    "print(s)"
   ]
  },
  {
   "cell_type": "code",
   "execution_count": 5,
   "id": "5ea45d95-cde5-4208-894b-9c53dee3fc09",
   "metadata": {},
   "outputs": [
    {
     "data": {
      "text/plain": [
       "{'apple', 'ball', 'cat', 'dog'}"
      ]
     },
     "execution_count": 5,
     "metadata": {},
     "output_type": "execute_result"
    }
   ],
   "source": [
    "s"
   ]
  },
  {
   "cell_type": "code",
   "execution_count": 6,
   "id": "5efb6cd7-d03a-48b8-bc01-e8bf9ba40c70",
   "metadata": {},
   "outputs": [
    {
     "ename": "TypeError",
     "evalue": "'set' object is not subscriptable",
     "output_type": "error",
     "traceback": [
      "\u001b[1;31m---------------------------------------------------------------------------\u001b[0m",
      "\u001b[1;31mTypeError\u001b[0m                                 Traceback (most recent call last)",
      "Cell \u001b[1;32mIn[6], line 1\u001b[0m\n\u001b[1;32m----> 1\u001b[0m \u001b[43ms\u001b[49m\u001b[43m[\u001b[49m\u001b[38;5;241;43m0\u001b[39;49m\u001b[43m]\u001b[49m\n",
      "\u001b[1;31mTypeError\u001b[0m: 'set' object is not subscriptable"
     ]
    }
   ],
   "source": [
    "s[0]"
   ]
  },
  {
   "cell_type": "code",
   "execution_count": 7,
   "id": "113fce24-b94d-43b6-84bd-72d7244c7247",
   "metadata": {},
   "outputs": [
    {
     "name": "stdout",
     "output_type": "stream",
     "text": [
      "{0, 1, 2, 3, 4, 5, 6, 7, 8, 9}\n"
     ]
    }
   ],
   "source": [
    "a={1,2,3,4,5,6,7,8,9,0,9,8,7,6,5,4,3,2,1}\n",
    "print(a)"
   ]
  },
  {
   "cell_type": "code",
   "execution_count": 9,
   "id": "7225797e-1432-4ba1-97e7-4f628c9ee165",
   "metadata": {},
   "outputs": [
    {
     "name": "stdout",
     "output_type": "stream",
     "text": [
      "{'ball', 'cat', 'apple'}\n"
     ]
    }
   ],
   "source": [
    "s=set()\n",
    "s.add(\"apple\")\n",
    "s.add(\"ball\")\n",
    "s.add(\"cat\")\n",
    "\n",
    "print(s)"
   ]
  },
  {
   "cell_type": "code",
   "execution_count": 10,
   "id": "5235ef6e-7ae3-4e1e-a8fd-daacac69726b",
   "metadata": {},
   "outputs": [
    {
     "data": {
      "text/plain": [
       "{'apple', 'cat'}"
      ]
     },
     "execution_count": 10,
     "metadata": {},
     "output_type": "execute_result"
    }
   ],
   "source": [
    "a={'ball', 'cat', 'apple'}\n",
    "a.remove('ball')\n",
    "a"
   ]
  },
  {
   "cell_type": "code",
   "execution_count": 11,
   "id": "362265e9-f2a1-485b-bacf-8a7fe4f8ba4f",
   "metadata": {},
   "outputs": [],
   "source": [
    "a=[1,2,3,4,5,6,7,8,9,0,9,8,7,6,5,4,3,2,1]\n"
   ]
  },
  {
   "cell_type": "code",
   "execution_count": 12,
   "id": "050aafd6-cf1d-4d38-914e-7cd6f471dada",
   "metadata": {},
   "outputs": [
    {
     "data": {
      "text/plain": [
       "list"
      ]
     },
     "execution_count": 12,
     "metadata": {},
     "output_type": "execute_result"
    }
   ],
   "source": [
    "type(a)"
   ]
  },
  {
   "cell_type": "code",
   "execution_count": 13,
   "id": "28ae0d79-6ee2-4ab8-ae60-04330f2a85c0",
   "metadata": {},
   "outputs": [],
   "source": [
    "a=set(a)"
   ]
  },
  {
   "cell_type": "code",
   "execution_count": 14,
   "id": "438cd39d-68bf-47e1-92d1-d5e9dc54150a",
   "metadata": {},
   "outputs": [
    {
     "data": {
      "text/plain": [
       "{0, 1, 2, 3, 4, 5, 6, 7, 8, 9}"
      ]
     },
     "execution_count": 14,
     "metadata": {},
     "output_type": "execute_result"
    }
   ],
   "source": [
    "a"
   ]
  },
  {
   "cell_type": "code",
   "execution_count": 15,
   "id": "8b117746-0225-4aa1-9774-f9452b82f3b1",
   "metadata": {},
   "outputs": [
    {
     "data": {
      "text/plain": [
       "set"
      ]
     },
     "execution_count": 15,
     "metadata": {},
     "output_type": "execute_result"
    }
   ],
   "source": [
    "type(a)"
   ]
  },
  {
   "cell_type": "code",
   "execution_count": 19,
   "id": "45170c9b-a665-417c-9e85-b1df7d4309f5",
   "metadata": {},
   "outputs": [
    {
     "data": {
      "text/plain": [
       "[0, 1, 2, 3, 4, 5, 6, 7, 8, 9]"
      ]
     },
     "execution_count": 19,
     "metadata": {},
     "output_type": "execute_result"
    }
   ],
   "source": [
    "a={1,2,3,4,5,6,7,8,9,0,9,8,7,6,5,4,3,2,1}\n",
    "list(set(a))"
   ]
  },
  {
   "cell_type": "code",
   "execution_count": 20,
   "id": "bebac967-1aa2-4df3-9d18-4b5b75f73d15",
   "metadata": {},
   "outputs": [
    {
     "data": {
      "text/plain": [
       "[0, 1, 2, 3, 4, 5, 6, 7, 8, 9]"
      ]
     },
     "execution_count": 20,
     "metadata": {},
     "output_type": "execute_result"
    }
   ],
   "source": [
    "a=[1,2,3,4,5,6,7,8,9,0,9,8,7,6,5,4,3,2,1]\n",
    "list(set(a))"
   ]
  },
  {
   "cell_type": "code",
   "execution_count": 23,
   "id": "abb91e2b-e9fc-4015-a87b-2456e8d39048",
   "metadata": {},
   "outputs": [
    {
     "data": {
      "text/plain": [
       "{'pranjal', 'sweeta'}"
      ]
     },
     "execution_count": 23,
     "metadata": {},
     "output_type": "execute_result"
    }
   ],
   "source": [
    "apple={\"ram\",\"shyam\",\"pranjal\",\"sweeta\"}\n",
    "ms={\"pranjal\",\"sweeta\",\"pratik\",\"prabesh\"}\n",
    "apple.intersection(ms)"
   ]
  },
  {
   "cell_type": "code",
   "execution_count": 24,
   "id": "e40ef7e5-1028-4c45-af48-a80f796343e1",
   "metadata": {},
   "outputs": [
    {
     "data": {
      "text/plain": [
       "{'prabesh', 'pranjal', 'pratik', 'ram', 'shyam', 'sweeta'}"
      ]
     },
     "execution_count": 24,
     "metadata": {},
     "output_type": "execute_result"
    }
   ],
   "source": [
    "apple.union(ms)"
   ]
  },
  {
   "cell_type": "code",
   "execution_count": 25,
   "id": "25621249-5325-4299-bc3d-5f974bad123c",
   "metadata": {},
   "outputs": [
    {
     "data": {
      "text/plain": [
       "2"
      ]
     },
     "execution_count": 25,
     "metadata": {},
     "output_type": "execute_result"
    }
   ],
   "source": [
    "len(apple.intersection(ms))"
   ]
  },
  {
   "cell_type": "code",
   "execution_count": 26,
   "id": "f97b34c5-b8b9-49cd-87ac-872e32d44c0c",
   "metadata": {},
   "outputs": [
    {
     "data": {
      "text/plain": [
       "6"
      ]
     },
     "execution_count": 26,
     "metadata": {},
     "output_type": "execute_result"
    }
   ],
   "source": [
    "len(apple.union(ms))"
   ]
  },
  {
   "cell_type": "code",
   "execution_count": 27,
   "id": "926a370e-d024-4a45-9144-2fcbbaf84e11",
   "metadata": {},
   "outputs": [
    {
     "data": {
      "text/plain": [
       "{'ram', 'shyam'}"
      ]
     },
     "execution_count": 27,
     "metadata": {},
     "output_type": "execute_result"
    }
   ],
   "source": [
    "apple.difference(ms)"
   ]
  },
  {
   "cell_type": "code",
   "execution_count": 28,
   "id": "a06be958-2d80-4b52-aca0-15ebdfc0aa08",
   "metadata": {},
   "outputs": [
    {
     "data": {
      "text/plain": [
       "{'prabesh', 'pratik'}"
      ]
     },
     "execution_count": 28,
     "metadata": {},
     "output_type": "execute_result"
    }
   ],
   "source": [
    "ms.difference(apple)"
   ]
  },
  {
   "cell_type": "code",
   "execution_count": 29,
   "id": "8673d49b-2935-4f54-b3af-e29a817f9bc6",
   "metadata": {},
   "outputs": [
    {
     "data": {
      "text/plain": [
       "{'sweeta'}"
      ]
     },
     "execution_count": 29,
     "metadata": {},
     "output_type": "execute_result"
    }
   ],
   "source": [
    "apple={\"ram\",\"shyam\",\"pranjal\",\"sweeta\"}\n",
    "ms={\"pranjal\",\"sweeta\",\"pratik\",\"prabesh\"}\n",
    "ibm={\"shyam\",\"sweeta\",\"ram\",\"sita\"}\n",
    "apple.intersection(ms,ibm)\n",
    "  "
   ]
  },
  {
   "cell_type": "code",
   "execution_count": 35,
   "id": "8c67adb4-262d-4592-aeaa-817340987429",
   "metadata": {},
   "outputs": [
    {
     "data": {
      "text/plain": [
       "{'prabesh', 'pranjal', 'pratik', 'ram', 'shyam', 'sita', 'sweeta'}"
      ]
     },
     "execution_count": 35,
     "metadata": {},
     "output_type": "execute_result"
    }
   ],
   "source": [
    "apple.union(ms,ibm)"
   ]
  },
  {
   "cell_type": "code",
   "execution_count": 37,
   "id": "d6d60de0-bcda-4986-a98a-7be05859a46d",
   "metadata": {},
   "outputs": [
    {
     "data": {
      "text/plain": [
       "{'sweeta'}"
      ]
     },
     "execution_count": 37,
     "metadata": {},
     "output_type": "execute_result"
    }
   ],
   "source": [
    "ibm.intersection(ms)"
   ]
  },
  {
   "cell_type": "code",
   "execution_count": 38,
   "id": "541541a5-1a6a-4d8b-aa1f-49eca8e09d61",
   "metadata": {},
   "outputs": [
    {
     "data": {
      "text/plain": [
       "set()"
      ]
     },
     "execution_count": 38,
     "metadata": {},
     "output_type": "execute_result"
    }
   ],
   "source": [
    "ibm.intersection(ms)-apple"
   ]
  },
  {
   "cell_type": "code",
   "execution_count": null,
   "id": "f39df508-799f-4c28-a2f5-cba7c127d72b",
   "metadata": {},
   "outputs": [],
   "source": []
  }
 ],
 "metadata": {
  "kernelspec": {
   "display_name": "Python 3 (ipykernel)",
   "language": "python",
   "name": "python3"
  },
  "language_info": {
   "codemirror_mode": {
    "name": "ipython",
    "version": 3
   },
   "file_extension": ".py",
   "mimetype": "text/x-python",
   "name": "python",
   "nbconvert_exporter": "python",
   "pygments_lexer": "ipython3",
   "version": "3.11.0"
  }
 },
 "nbformat": 4,
 "nbformat_minor": 5
}
