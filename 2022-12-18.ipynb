{
 "cells": [
  {
   "cell_type": "code",
   "execution_count": 7,
   "id": "a2d38ab4-8a59-4539-9774-470ed76c29be",
   "metadata": {},
   "outputs": [],
   "source": [
    "s =\"this is jupyter notebook where we can run python programs\""
   ]
  },
  {
   "cell_type": "code",
   "execution_count": 8,
   "id": "5796608e-4cec-46bf-9dbb-61f90efb71ee",
   "metadata": {},
   "outputs": [
    {
     "data": {
      "text/plain": [
       "'this is jupyter notebook where we can run python programs'"
      ]
     },
     "execution_count": 8,
     "metadata": {},
     "output_type": "execute_result"
    }
   ],
   "source": [
    "s"
   ]
  },
  {
   "cell_type": "code",
   "execution_count": 12,
   "id": "2d3ad23c-0fd1-4636-9221-6b487951a506",
   "metadata": {},
   "outputs": [],
   "source": [
    "s=s.split()"
   ]
  },
  {
   "cell_type": "code",
   "execution_count": 13,
   "id": "70909c7d-ce35-4a0c-8bef-984c221f6324",
   "metadata": {},
   "outputs": [
    {
     "data": {
      "text/plain": [
       "['this',\n",
       " 'is',\n",
       " 'jupyter',\n",
       " 'notebook',\n",
       " 'where',\n",
       " 'we',\n",
       " 'can',\n",
       " 'run',\n",
       " 'python',\n",
       " 'programs']"
      ]
     },
     "execution_count": 13,
     "metadata": {},
     "output_type": "execute_result"
    }
   ],
   "source": [
    "s"
   ]
  },
  {
   "cell_type": "code",
   "execution_count": 14,
   "id": "e3d0a890-7af6-498a-a4f3-fde1c4f16279",
   "metadata": {},
   "outputs": [
    {
     "data": {
      "text/plain": [
       "{'this': 1,\n",
       " 'is': 1,\n",
       " 'jupyter': 1,\n",
       " 'notebook': 1,\n",
       " 'where': 1,\n",
       " 'we': 1,\n",
       " 'can': 1,\n",
       " 'run': 1,\n",
       " 'python': 1,\n",
       " 'programs': 1}"
      ]
     },
     "execution_count": 14,
     "metadata": {},
     "output_type": "execute_result"
    }
   ],
   "source": [
    "{x:x.count(x) for x in s}"
   ]
  },
  {
   "cell_type": "code",
   "execution_count": 15,
   "id": "59a4202f-3944-4fc9-afb6-d8edf11c606f",
   "metadata": {},
   "outputs": [],
   "source": [
    "x=3.14 "
   ]
  },
  {
   "cell_type": "code",
   "execution_count": 16,
   "id": "ea042c7b-67f3-4f4a-8119-83c84b4a9d9a",
   "metadata": {},
   "outputs": [
    {
     "ename": "NameError",
     "evalue": "name 'ceil' is not defined",
     "output_type": "error",
     "traceback": [
      "\u001b[1;31m---------------------------------------------------------------------------\u001b[0m",
      "\u001b[1;31mNameError\u001b[0m                                 Traceback (most recent call last)",
      "Cell \u001b[1;32mIn[16], line 1\u001b[0m\n\u001b[1;32m----> 1\u001b[0m \u001b[43mceil\u001b[49m\u001b[38;5;241m.\u001b[39mx\n",
      "\u001b[1;31mNameError\u001b[0m: name 'ceil' is not defined"
     ]
    }
   ],
   "source": [
    "ceil.x"
   ]
  },
  {
   "cell_type": "code",
   "execution_count": 17,
   "id": "ed7202af-e35b-4742-8b0e-55679115505e",
   "metadata": {},
   "outputs": [
    {
     "ename": "NameError",
     "evalue": "name 'ciel' is not defined",
     "output_type": "error",
     "traceback": [
      "\u001b[1;31m---------------------------------------------------------------------------\u001b[0m",
      "\u001b[1;31mNameError\u001b[0m                                 Traceback (most recent call last)",
      "Cell \u001b[1;32mIn[17], line 1\u001b[0m\n\u001b[1;32m----> 1\u001b[0m \u001b[43mciel\u001b[49m\u001b[38;5;241m.\u001b[39mx\n",
      "\u001b[1;31mNameError\u001b[0m: name 'ciel' is not defined"
     ]
    }
   ],
   "source": [
    "ciel.x"
   ]
  },
  {
   "cell_type": "code",
   "execution_count": 18,
   "id": "389e02ed-7dea-471c-8a6b-bbe3dd402b15",
   "metadata": {},
   "outputs": [
    {
     "ename": "NameError",
     "evalue": "name 'cell' is not defined",
     "output_type": "error",
     "traceback": [
      "\u001b[1;31m---------------------------------------------------------------------------\u001b[0m",
      "\u001b[1;31mNameError\u001b[0m                                 Traceback (most recent call last)",
      "Cell \u001b[1;32mIn[18], line 1\u001b[0m\n\u001b[1;32m----> 1\u001b[0m \u001b[43mcell\u001b[49m\u001b[38;5;241m.\u001b[39mx\n",
      "\u001b[1;31mNameError\u001b[0m: name 'cell' is not defined"
     ]
    }
   ],
   "source": [
    "cell.x"
   ]
  },
  {
   "cell_type": "code",
   "execution_count": 19,
   "id": "58d0d400-4ba0-4377-b6f3-105927ca3ef2",
   "metadata": {},
   "outputs": [
    {
     "ename": "AttributeError",
     "evalue": "'builtin_function_or_method' object has no attribute 'x'",
     "output_type": "error",
     "traceback": [
      "\u001b[1;31m---------------------------------------------------------------------------\u001b[0m",
      "\u001b[1;31mAttributeError\u001b[0m                            Traceback (most recent call last)",
      "Cell \u001b[1;32mIn[19], line 1\u001b[0m\n\u001b[1;32m----> 1\u001b[0m \u001b[38;5;28;43mround\u001b[39;49m\u001b[38;5;241;43m.\u001b[39;49m\u001b[43mx\u001b[49m\n",
      "\u001b[1;31mAttributeError\u001b[0m: 'builtin_function_or_method' object has no attribute 'x'"
     ]
    }
   ],
   "source": [
    "round.x"
   ]
  },
  {
   "cell_type": "code",
   "execution_count": 20,
   "id": "43199bce-a1db-4300-b932-235c01e5ec31",
   "metadata": {},
   "outputs": [
    {
     "data": {
      "text/plain": [
       "['__abs__',\n",
       " '__add__',\n",
       " '__bool__',\n",
       " '__ceil__',\n",
       " '__class__',\n",
       " '__delattr__',\n",
       " '__dir__',\n",
       " '__divmod__',\n",
       " '__doc__',\n",
       " '__eq__',\n",
       " '__float__',\n",
       " '__floor__',\n",
       " '__floordiv__',\n",
       " '__format__',\n",
       " '__ge__',\n",
       " '__getattribute__',\n",
       " '__getformat__',\n",
       " '__getnewargs__',\n",
       " '__getstate__',\n",
       " '__gt__',\n",
       " '__hash__',\n",
       " '__init__',\n",
       " '__init_subclass__',\n",
       " '__int__',\n",
       " '__le__',\n",
       " '__lt__',\n",
       " '__mod__',\n",
       " '__mul__',\n",
       " '__ne__',\n",
       " '__neg__',\n",
       " '__new__',\n",
       " '__pos__',\n",
       " '__pow__',\n",
       " '__radd__',\n",
       " '__rdivmod__',\n",
       " '__reduce__',\n",
       " '__reduce_ex__',\n",
       " '__repr__',\n",
       " '__rfloordiv__',\n",
       " '__rmod__',\n",
       " '__rmul__',\n",
       " '__round__',\n",
       " '__rpow__',\n",
       " '__rsub__',\n",
       " '__rtruediv__',\n",
       " '__setattr__',\n",
       " '__sizeof__',\n",
       " '__str__',\n",
       " '__sub__',\n",
       " '__subclasshook__',\n",
       " '__truediv__',\n",
       " '__trunc__',\n",
       " 'as_integer_ratio',\n",
       " 'conjugate',\n",
       " 'fromhex',\n",
       " 'hex',\n",
       " 'imag',\n",
       " 'is_integer',\n",
       " 'real']"
      ]
     },
     "execution_count": 20,
     "metadata": {},
     "output_type": "execute_result"
    }
   ],
   "source": [
    "dir(x)"
   ]
  },
  {
   "cell_type": "code",
   "execution_count": 21,
   "id": "74fc65c6-4308-49b6-a762-7bf2d207a2bc",
   "metadata": {},
   "outputs": [
    {
     "name": "stdout",
     "output_type": "stream",
     "text": [
      "Help on built-in function round in module builtins:\n",
      "\n",
      "round(number, ndigits=None)\n",
      "    Round a number to a given precision in decimal digits.\n",
      "    \n",
      "    The return value is an integer if ndigits is omitted or None.  Otherwise\n",
      "    the return value has the same type as the number.  ndigits may be negative.\n",
      "\n"
     ]
    }
   ],
   "source": [
    "help(round)"
   ]
  },
  {
   "cell_type": "code",
   "execution_count": 23,
   "id": "def8bd6f-29c4-4187-a3d4-3bcc24bd0c5e",
   "metadata": {},
   "outputs": [
    {
     "data": {
      "text/plain": [
       "9"
      ]
     },
     "execution_count": 23,
     "metadata": {},
     "output_type": "execute_result"
    }
   ],
   "source": [
    "round(8.75)"
   ]
  },
  {
   "cell_type": "code",
   "execution_count": null,
   "id": "e09514fb-1eee-447c-841a-2d4dbe648dde",
   "metadata": {},
   "outputs": [],
   "source": []
  },
  {
   "cell_type": "code",
   "execution_count": 24,
   "id": "030cdcfd-d8e0-427f-a73c-434387c79089",
   "metadata": {},
   "outputs": [
    {
     "data": {
      "text/plain": [
       "11.75"
      ]
     },
     "execution_count": 24,
     "metadata": {},
     "output_type": "execute_result"
    }
   ],
   "source": [
    "8.75+3\n"
   ]
  },
  {
   "cell_type": "code",
   "execution_count": 27,
   "id": "849ccd64-5675-4500-be71-3b7887cbd6be",
   "metadata": {},
   "outputs": [],
   "source": [
    "l=[8.75,3,5,8,3,9.8,\"pranjal\",\"apple\"]"
   ]
  },
  {
   "cell_type": "code",
   "execution_count": 28,
   "id": "72ec90de-d868-4217-9f26-7bf802a06aa4",
   "metadata": {},
   "outputs": [],
   "source": [
    "li=[]"
   ]
  },
  {
   "cell_type": "code",
   "execution_count": 29,
   "id": "ec07f826-11ff-461f-b647-63fe7a54114c",
   "metadata": {},
   "outputs": [],
   "source": [
    "l=str(l)"
   ]
  },
  {
   "cell_type": "code",
   "execution_count": 30,
   "id": "4f8b41a0-0ba2-43c6-9acc-f394d153d3fe",
   "metadata": {},
   "outputs": [
    {
     "data": {
      "text/plain": [
       "\"[8.75, 3, 5, 8, 3, 9.8, 'pranjal', 'apple']\""
      ]
     },
     "execution_count": 30,
     "metadata": {},
     "output_type": "execute_result"
    }
   ],
   "source": [
    "l"
   ]
  },
  {
   "cell_type": "code",
   "execution_count": 38,
   "id": "e2603ac9-7fcd-455b-b95f-0a1235ead098",
   "metadata": {},
   "outputs": [],
   "source": [
    "s=\"apple\""
   ]
  },
  {
   "cell_type": "code",
   "execution_count": 40,
   "id": "530667d9-a66f-4b61-95f5-176681bcae39",
   "metadata": {},
   "outputs": [
    {
     "data": {
      "text/plain": [
       "False"
      ]
     },
     "execution_count": 40,
     "metadata": {},
     "output_type": "execute_result"
    }
   ],
   "source": [
    "s.isdigit()"
   ]
  },
  {
   "cell_type": "code",
   "execution_count": 42,
   "id": "92699fc7-81b7-4bff-90cf-fdead43c3096",
   "metadata": {},
   "outputs": [
    {
     "data": {
      "text/plain": [
       "['__add__',\n",
       " '__class__',\n",
       " '__contains__',\n",
       " '__delattr__',\n",
       " '__dir__',\n",
       " '__doc__',\n",
       " '__eq__',\n",
       " '__format__',\n",
       " '__ge__',\n",
       " '__getattribute__',\n",
       " '__getitem__',\n",
       " '__getnewargs__',\n",
       " '__getstate__',\n",
       " '__gt__',\n",
       " '__hash__',\n",
       " '__init__',\n",
       " '__init_subclass__',\n",
       " '__iter__',\n",
       " '__le__',\n",
       " '__len__',\n",
       " '__lt__',\n",
       " '__mod__',\n",
       " '__mul__',\n",
       " '__ne__',\n",
       " '__new__',\n",
       " '__reduce__',\n",
       " '__reduce_ex__',\n",
       " '__repr__',\n",
       " '__rmod__',\n",
       " '__rmul__',\n",
       " '__setattr__',\n",
       " '__sizeof__',\n",
       " '__str__',\n",
       " '__subclasshook__',\n",
       " 'capitalize',\n",
       " 'casefold',\n",
       " 'center',\n",
       " 'count',\n",
       " 'encode',\n",
       " 'endswith',\n",
       " 'expandtabs',\n",
       " 'find',\n",
       " 'format',\n",
       " 'format_map',\n",
       " 'index',\n",
       " 'isalnum',\n",
       " 'isalpha',\n",
       " 'isascii',\n",
       " 'isdecimal',\n",
       " 'isdigit',\n",
       " 'isidentifier',\n",
       " 'islower',\n",
       " 'isnumeric',\n",
       " 'isprintable',\n",
       " 'isspace',\n",
       " 'istitle',\n",
       " 'isupper',\n",
       " 'join',\n",
       " 'ljust',\n",
       " 'lower',\n",
       " 'lstrip',\n",
       " 'maketrans',\n",
       " 'partition',\n",
       " 'removeprefix',\n",
       " 'removesuffix',\n",
       " 'replace',\n",
       " 'rfind',\n",
       " 'rindex',\n",
       " 'rjust',\n",
       " 'rpartition',\n",
       " 'rsplit',\n",
       " 'rstrip',\n",
       " 'split',\n",
       " 'splitlines',\n",
       " 'startswith',\n",
       " 'strip',\n",
       " 'swapcase',\n",
       " 'title',\n",
       " 'translate',\n",
       " 'upper',\n",
       " 'zfill']"
      ]
     },
     "execution_count": 42,
     "metadata": {},
     "output_type": "execute_result"
    }
   ],
   "source": [
    "dir(s)"
   ]
  },
  {
   "cell_type": "code",
   "execution_count": 45,
   "id": "a22b40dd-5c41-4a11-8823-365963786459",
   "metadata": {},
   "outputs": [
    {
     "ename": "NameError",
     "evalue": "name 'upper' is not defined",
     "output_type": "error",
     "traceback": [
      "\u001b[1;31m---------------------------------------------------------------------------\u001b[0m",
      "\u001b[1;31mNameError\u001b[0m                                 Traceback (most recent call last)",
      "Cell \u001b[1;32mIn[45], line 1\u001b[0m\n\u001b[1;32m----> 1\u001b[0m help(\u001b[43mupper\u001b[49m)\n",
      "\u001b[1;31mNameError\u001b[0m: name 'upper' is not defined"
     ]
    }
   ],
   "source": [
    "help(upper)"
   ]
  },
  {
   "cell_type": "code",
   "execution_count": null,
   "id": "b1057ca0-8416-49e7-bd7a-810d7e067040",
   "metadata": {},
   "outputs": [],
   "source": []
  },
  {
   "cell_type": "code",
   "execution_count": 46,
   "id": "f6caf655-1d48-4697-87c4-7bb0089d641f",
   "metadata": {},
   "outputs": [
    {
     "ename": "NameError",
     "evalue": "name 'add' is not defined",
     "output_type": "error",
     "traceback": [
      "\u001b[1;31m---------------------------------------------------------------------------\u001b[0m",
      "\u001b[1;31mNameError\u001b[0m                                 Traceback (most recent call last)",
      "Cell \u001b[1;32mIn[46], line 1\u001b[0m\n\u001b[1;32m----> 1\u001b[0m help(\u001b[43madd\u001b[49m)\n",
      "\u001b[1;31mNameError\u001b[0m: name 'add' is not defined"
     ]
    }
   ],
   "source": [
    "help(add)"
   ]
  },
  {
   "cell_type": "code",
   "execution_count": 76,
   "id": "036b0e07-8287-469f-b1a9-2a26c8c1633b",
   "metadata": {},
   "outputs": [],
   "source": [
    "def add(*a):\n",
    "    for x in a :\n",
    "        if str(x).isalpha():\n",
    "            remove(x)\n",
    "            return sum(x)"
   ]
  },
  {
   "cell_type": "code",
   "execution_count": 77,
   "id": "8085df35-0d3d-4099-997c-d3b2c0984e71",
   "metadata": {},
   "outputs": [],
   "source": [
    "add(1,1.2,3)"
   ]
  },
  {
   "cell_type": "code",
   "execution_count": 62,
   "id": "1c7c8020-ce37-4be5-9c7b-359febe6158f",
   "metadata": {},
   "outputs": [
    {
     "data": {
      "text/plain": [
       "'  \\n         create a function\\n         name function add()\\n         add() should accept multiple parameter\\n         there can be many values inthe list,identify only numeric values\\n         sum all numeric values\\n         return the sum\\n'"
      ]
     },
     "execution_count": 62,
     "metadata": {},
     "output_type": "execute_result"
    }
   ],
   "source": [
    "#algorithm\n",
    "\"\"\"  \n",
    "         create a function\n",
    "         name function add()\n",
    "         add() should accept multiple parameter\n",
    "         there can be many values inthe list,identify only numeric values\n",
    "         sum all numeric values\n",
    "         return the sum\n",
    "\"\"\""
   ]
  },
  {
   "cell_type": "code",
   "execution_count": 1,
   "id": "f7382e5d-6ae0-4e3a-9b86-c6b1a343e126",
   "metadata": {},
   "outputs": [],
   "source": [
    "var1=\"54\""
   ]
  },
  {
   "cell_type": "code",
   "execution_count": 2,
   "id": "73c6e5f3-9dd5-4539-884a-809d9af29502",
   "metadata": {},
   "outputs": [],
   "source": [
    "var2=\"32\""
   ]
  },
  {
   "cell_type": "code",
   "execution_count": 3,
   "id": "606c4431-f3aa-4fbe-a188-9c00a3401550",
   "metadata": {},
   "outputs": [
    {
     "data": {
      "text/plain": [
       "'5432'"
      ]
     },
     "execution_count": 3,
     "metadata": {},
     "output_type": "execute_result"
    }
   ],
   "source": [
    "var1+var2"
   ]
  },
  {
   "cell_type": "code",
   "execution_count": 5,
   "id": "e011da5e-24dd-498a-8ad6-9a9f21d120b0",
   "metadata": {},
   "outputs": [
    {
     "data": {
      "text/plain": [
       "86"
      ]
     },
     "execution_count": 5,
     "metadata": {},
     "output_type": "execute_result"
    }
   ],
   "source": [
    "int(var1)+int(var2)\n"
   ]
  },
  {
   "cell_type": "code",
   "execution_count": 6,
   "id": "a1739725-4895-48aa-8e18-1f2f272fff64",
   "metadata": {},
   "outputs": [
    {
     "data": {
      "text/plain": [
       "5432"
      ]
     },
     "execution_count": 6,
     "metadata": {},
     "output_type": "execute_result"
    }
   ],
   "source": [
    "100*int(var1)+int(var2)"
   ]
  },
  {
   "cell_type": "code",
   "execution_count": 8,
   "id": "1a91924e-8849-4f5c-8d8a-5c7cd9cb838e",
   "metadata": {},
   "outputs": [],
   "source": [
    "var1=int(var1)"
   ]
  },
  {
   "cell_type": "code",
   "execution_count": 9,
   "id": "3bbff2b2-57a7-4a19-8efc-aa61bee6577c",
   "metadata": {},
   "outputs": [],
   "source": [
    "var2=int(var2)"
   ]
  },
  {
   "cell_type": "code",
   "execution_count": 10,
   "id": "16edd572-b654-4887-8fc4-a2ac1199c57a",
   "metadata": {},
   "outputs": [
    {
     "data": {
      "text/plain": [
       "86"
      ]
     },
     "execution_count": 10,
     "metadata": {},
     "output_type": "execute_result"
    }
   ],
   "source": [
    "var1+var2"
   ]
  },
  {
   "cell_type": "code",
   "execution_count": 17,
   "id": "1c7368f3-9b55-440c-8d8d-53f875ca116e",
   "metadata": {},
   "outputs": [
    {
     "name": "stdin",
     "output_type": "stream",
     "text": [
      "enter your number 500\n"
     ]
    },
    {
     "name": "stdout",
     "output_type": "stream",
     "text": [
      "your number is  600\n"
     ]
    }
   ],
   "source": [
    "num= input(\"enter your number\")\n",
    "print(\"your number is \",int(num)+100)"
   ]
  },
  {
   "cell_type": "code",
   "execution_count": 18,
   "id": "9f1dd7ca-2010-4591-874d-22be5f1475c2",
   "metadata": {},
   "outputs": [
    {
     "data": {
      "text/plain": [
       "int"
      ]
     },
     "execution_count": 18,
     "metadata": {},
     "output_type": "execute_result"
    }
   ],
   "source": [
    "type(int(num))"
   ]
  },
  {
   "cell_type": "code",
   "execution_count": 19,
   "id": "e913936e-9dff-4cc3-9ad2-624a9c8321c8",
   "metadata": {},
   "outputs": [],
   "source": [
    "num=int(num)"
   ]
  },
  {
   "cell_type": "code",
   "execution_count": 20,
   "id": "3e51b251-3dee-421a-92e6-a43b91da1c0e",
   "metadata": {},
   "outputs": [
    {
     "data": {
      "text/plain": [
       "['__abs__',\n",
       " '__add__',\n",
       " '__and__',\n",
       " '__bool__',\n",
       " '__ceil__',\n",
       " '__class__',\n",
       " '__delattr__',\n",
       " '__dir__',\n",
       " '__divmod__',\n",
       " '__doc__',\n",
       " '__eq__',\n",
       " '__float__',\n",
       " '__floor__',\n",
       " '__floordiv__',\n",
       " '__format__',\n",
       " '__ge__',\n",
       " '__getattribute__',\n",
       " '__getnewargs__',\n",
       " '__getstate__',\n",
       " '__gt__',\n",
       " '__hash__',\n",
       " '__index__',\n",
       " '__init__',\n",
       " '__init_subclass__',\n",
       " '__int__',\n",
       " '__invert__',\n",
       " '__le__',\n",
       " '__lshift__',\n",
       " '__lt__',\n",
       " '__mod__',\n",
       " '__mul__',\n",
       " '__ne__',\n",
       " '__neg__',\n",
       " '__new__',\n",
       " '__or__',\n",
       " '__pos__',\n",
       " '__pow__',\n",
       " '__radd__',\n",
       " '__rand__',\n",
       " '__rdivmod__',\n",
       " '__reduce__',\n",
       " '__reduce_ex__',\n",
       " '__repr__',\n",
       " '__rfloordiv__',\n",
       " '__rlshift__',\n",
       " '__rmod__',\n",
       " '__rmul__',\n",
       " '__ror__',\n",
       " '__round__',\n",
       " '__rpow__',\n",
       " '__rrshift__',\n",
       " '__rshift__',\n",
       " '__rsub__',\n",
       " '__rtruediv__',\n",
       " '__rxor__',\n",
       " '__setattr__',\n",
       " '__sizeof__',\n",
       " '__str__',\n",
       " '__sub__',\n",
       " '__subclasshook__',\n",
       " '__truediv__',\n",
       " '__trunc__',\n",
       " '__xor__',\n",
       " 'as_integer_ratio',\n",
       " 'bit_count',\n",
       " 'bit_length',\n",
       " 'conjugate',\n",
       " 'denominator',\n",
       " 'from_bytes',\n",
       " 'imag',\n",
       " 'numerator',\n",
       " 'real',\n",
       " 'to_bytes']"
      ]
     },
     "execution_count": 20,
     "metadata": {},
     "output_type": "execute_result"
    }
   ],
   "source": [
    "dir(num)"
   ]
  },
  {
   "cell_type": "code",
   "execution_count": null,
   "id": "35018ff4-c143-44a6-aa8a-0e61b2c18f1a",
   "metadata": {},
   "outputs": [],
   "source": []
  },
  {
   "cell_type": "code",
   "execution_count": 25,
   "id": "540fe4b8-1e34-43b4-be38-45b668f655a0",
   "metadata": {},
   "outputs": [
    {
     "name": "stdin",
     "output_type": "stream",
     "text": [
      "enter first number 223\n",
      "enter second number 3334\n"
     ]
    },
    {
     "name": "stdout",
     "output_type": "stream",
     "text": [
      "sum= 3557\n",
      "multiply= 743482\n",
      "divide= 0.06688662267546491\n"
     ]
    }
   ],
   "source": [
    "num1=input(\"enter first number\")\n",
    "num2=input(\"enter second number\")\n",
    "num1=int(num1)\n",
    "num2=int(num2)\n",
    "print(\"sum=\",num1+num2)\n",
    "print(\"multiply=\",num1*num2)\n",
    "print(\"divide=\",num1/num2)"
   ]
  },
  {
   "cell_type": "code",
   "execution_count": 29,
   "id": "2fb9c2f4-d229-4988-9cb5-590c5cea155f",
   "metadata": {},
   "outputs": [
    {
     "ename": "SyntaxError",
     "evalue": "can't use starred expression here (2860612214.py, line 2)",
     "output_type": "error",
     "traceback": [
      "\u001b[1;36m  Cell \u001b[1;32mIn[29], line 2\u001b[1;36m\u001b[0m\n\u001b[1;33m    for x in *a:\u001b[0m\n\u001b[1;37m             ^\u001b[0m\n\u001b[1;31mSyntaxError\u001b[0m\u001b[1;31m:\u001b[0m can't use starred expression here\n"
     ]
    }
   ],
   "source": [
    "def add(*a):\n",
    "    for x in *a:\n",
    "     print(sum(x))"
   ]
  },
  {
   "cell_type": "code",
   "execution_count": 27,
   "id": "ef529f94-6568-432a-b915-177e16da474c",
   "metadata": {},
   "outputs": [
    {
     "ename": "TypeError",
     "evalue": "sum() takes at most 2 arguments (3 given)",
     "output_type": "error",
     "traceback": [
      "\u001b[1;31m---------------------------------------------------------------------------\u001b[0m",
      "\u001b[1;31mTypeError\u001b[0m                                 Traceback (most recent call last)",
      "Cell \u001b[1;32mIn[27], line 1\u001b[0m\n\u001b[1;32m----> 1\u001b[0m \u001b[43madd\u001b[49m\u001b[43m(\u001b[49m\u001b[38;5;241;43m1\u001b[39;49m\u001b[43m,\u001b[49m\u001b[38;5;241;43m2\u001b[39;49m\u001b[43m,\u001b[49m\u001b[38;5;241;43m33\u001b[39;49m\u001b[43m)\u001b[49m\n",
      "Cell \u001b[1;32mIn[26], line 2\u001b[0m, in \u001b[0;36madd\u001b[1;34m(*a)\u001b[0m\n\u001b[0;32m      1\u001b[0m \u001b[38;5;28;01mdef\u001b[39;00m \u001b[38;5;21madd\u001b[39m(\u001b[38;5;241m*\u001b[39ma):\n\u001b[1;32m----> 2\u001b[0m     \u001b[38;5;28mprint\u001b[39m(\u001b[38;5;28;43msum\u001b[39;49m\u001b[43m(\u001b[49m\u001b[38;5;241;43m*\u001b[39;49m\u001b[43ma\u001b[49m\u001b[43m)\u001b[49m)\n",
      "\u001b[1;31mTypeError\u001b[0m: sum() takes at most 2 arguments (3 given)"
     ]
    }
   ],
   "source": [
    "add(1,2,33)"
   ]
  },
  {
   "cell_type": "code",
   "execution_count": 42,
   "id": "3c5e2fc1-576e-415a-9b78-3c9d92402afe",
   "metadata": {},
   "outputs": [],
   "source": [
    "p=\"pranjal barnwal is a good boy\""
   ]
  },
  {
   "cell_type": "code",
   "execution_count": 43,
   "id": "591c3086-3fdf-4c65-a550-129995776bcd",
   "metadata": {},
   "outputs": [
    {
     "data": {
      "text/plain": [
       "'pranjal barnwal is a good boy'"
      ]
     },
     "execution_count": 43,
     "metadata": {},
     "output_type": "execute_result"
    }
   ],
   "source": [
    "p[::1]"
   ]
  },
  {
   "cell_type": "code",
   "execution_count": 35,
   "id": "bd4364d3-6bee-4ee6-af06-06536abd4ed6",
   "metadata": {},
   "outputs": [],
   "source": [
    "p=p[::-1]"
   ]
  },
  {
   "cell_type": "code",
   "execution_count": 36,
   "id": "d1afc827-9aef-4ab3-85ff-bbf1302e0f5c",
   "metadata": {},
   "outputs": [
    {
     "data": {
      "text/plain": [
       "'pranjal barnwal is a good boy'"
      ]
     },
     "execution_count": 36,
     "metadata": {},
     "output_type": "execute_result"
    }
   ],
   "source": [
    "p"
   ]
  },
  {
   "cell_type": "code",
   "execution_count": 37,
   "id": "7f579b1f-2c79-49a2-9286-516620687d95",
   "metadata": {},
   "outputs": [
    {
     "data": {
      "text/plain": [
       "29"
      ]
     },
     "execution_count": 37,
     "metadata": {},
     "output_type": "execute_result"
    }
   ],
   "source": [
    "len(p)"
   ]
  },
  {
   "cell_type": "code",
   "execution_count": 49,
   "id": "c30aa598-efb2-4881-8600-e66a4c553dbc",
   "metadata": {},
   "outputs": [
    {
     "data": {
      "text/plain": [
       "3"
      ]
     },
     "execution_count": 49,
     "metadata": {},
     "output_type": "execute_result"
    }
   ],
   "source": [
    "p.count('o')"
   ]
  },
  {
   "cell_type": "code",
   "execution_count": 56,
   "id": "eb3413a5-bae2-4786-a331-06ad94a27c27",
   "metadata": {},
   "outputs": [
    {
     "data": {
      "text/plain": [
       "'boy'"
      ]
     },
     "execution_count": 56,
     "metadata": {},
     "output_type": "execute_result"
    }
   ],
   "source": [
    "p[-3::1]"
   ]
  },
  {
   "cell_type": "code",
   "execution_count": 57,
   "id": "b5419ec6-d2e4-4acf-98ce-fb496d971dfb",
   "metadata": {},
   "outputs": [
    {
     "data": {
      "text/plain": [
       "True"
      ]
     },
     "execution_count": 57,
     "metadata": {},
     "output_type": "execute_result"
    }
   ],
   "source": [
    "p.endswith(\"boy\")"
   ]
  },
  {
   "cell_type": "code",
   "execution_count": 58,
   "id": "0ee9fcd4-0164-4dfe-9f96-0bf8e6c7bca6",
   "metadata": {},
   "outputs": [
    {
     "data": {
      "text/plain": [
       "'Pranjal barnwal is a good boy'"
      ]
     },
     "execution_count": 58,
     "metadata": {},
     "output_type": "execute_result"
    }
   ],
   "source": [
    "p.capitalize()"
   ]
  },
  {
   "cell_type": "code",
   "execution_count": 59,
   "id": "8e6999a3-dcad-461f-8647-a576d16399c2",
   "metadata": {},
   "outputs": [
    {
     "data": {
      "text/plain": [
       "['__add__',\n",
       " '__class__',\n",
       " '__contains__',\n",
       " '__delattr__',\n",
       " '__dir__',\n",
       " '__doc__',\n",
       " '__eq__',\n",
       " '__format__',\n",
       " '__ge__',\n",
       " '__getattribute__',\n",
       " '__getitem__',\n",
       " '__getnewargs__',\n",
       " '__getstate__',\n",
       " '__gt__',\n",
       " '__hash__',\n",
       " '__init__',\n",
       " '__init_subclass__',\n",
       " '__iter__',\n",
       " '__le__',\n",
       " '__len__',\n",
       " '__lt__',\n",
       " '__mod__',\n",
       " '__mul__',\n",
       " '__ne__',\n",
       " '__new__',\n",
       " '__reduce__',\n",
       " '__reduce_ex__',\n",
       " '__repr__',\n",
       " '__rmod__',\n",
       " '__rmul__',\n",
       " '__setattr__',\n",
       " '__sizeof__',\n",
       " '__str__',\n",
       " '__subclasshook__',\n",
       " 'capitalize',\n",
       " 'casefold',\n",
       " 'center',\n",
       " 'count',\n",
       " 'encode',\n",
       " 'endswith',\n",
       " 'expandtabs',\n",
       " 'find',\n",
       " 'format',\n",
       " 'format_map',\n",
       " 'index',\n",
       " 'isalnum',\n",
       " 'isalpha',\n",
       " 'isascii',\n",
       " 'isdecimal',\n",
       " 'isdigit',\n",
       " 'isidentifier',\n",
       " 'islower',\n",
       " 'isnumeric',\n",
       " 'isprintable',\n",
       " 'isspace',\n",
       " 'istitle',\n",
       " 'isupper',\n",
       " 'join',\n",
       " 'ljust',\n",
       " 'lower',\n",
       " 'lstrip',\n",
       " 'maketrans',\n",
       " 'partition',\n",
       " 'removeprefix',\n",
       " 'removesuffix',\n",
       " 'replace',\n",
       " 'rfind',\n",
       " 'rindex',\n",
       " 'rjust',\n",
       " 'rpartition',\n",
       " 'rsplit',\n",
       " 'rstrip',\n",
       " 'split',\n",
       " 'splitlines',\n",
       " 'startswith',\n",
       " 'strip',\n",
       " 'swapcase',\n",
       " 'title',\n",
       " 'translate',\n",
       " 'upper',\n",
       " 'zfill']"
      ]
     },
     "execution_count": 59,
     "metadata": {},
     "output_type": "execute_result"
    }
   ],
   "source": [
    "dir(p)"
   ]
  },
  {
   "cell_type": "code",
   "execution_count": 60,
   "id": "63db1907-f02a-4cbf-8865-ede1bfefba8e",
   "metadata": {},
   "outputs": [
    {
     "ename": "SyntaxError",
     "evalue": "invalid syntax (4163822946.py, line 1)",
     "output_type": "error",
     "traceback": [
      "\u001b[1;36m  Cell \u001b[1;32mIn[60], line 1\u001b[1;36m\u001b[0m\n\u001b[1;33m    p.class()\u001b[0m\n\u001b[1;37m      ^\u001b[0m\n\u001b[1;31mSyntaxError\u001b[0m\u001b[1;31m:\u001b[0m invalid syntax\n"
     ]
    }
   ],
   "source": [
    "p.class()"
   ]
  },
  {
   "cell_type": "code",
   "execution_count": 61,
   "id": "83e7ec99-cabb-4493-aafb-f6c612095d92",
   "metadata": {},
   "outputs": [
    {
     "ename": "TypeError",
     "evalue": "center expected at least 1 argument, got 0",
     "output_type": "error",
     "traceback": [
      "\u001b[1;31m---------------------------------------------------------------------------\u001b[0m",
      "\u001b[1;31mTypeError\u001b[0m                                 Traceback (most recent call last)",
      "Cell \u001b[1;32mIn[61], line 1\u001b[0m\n\u001b[1;32m----> 1\u001b[0m \u001b[43mp\u001b[49m\u001b[38;5;241;43m.\u001b[39;49m\u001b[43mcenter\u001b[49m\u001b[43m(\u001b[49m\u001b[43m)\u001b[49m\n",
      "\u001b[1;31mTypeError\u001b[0m: center expected at least 1 argument, got 0"
     ]
    }
   ],
   "source": [
    "p.center()"
   ]
  },
  {
   "cell_type": "code",
   "execution_count": 62,
   "id": "67349299-3136-4c3c-a1b0-677cd1542e48",
   "metadata": {},
   "outputs": [
    {
     "data": {
      "text/plain": [
       "'pranjal barnwal is a good boy'"
      ]
     },
     "execution_count": 62,
     "metadata": {},
     "output_type": "execute_result"
    }
   ],
   "source": [
    "p.casefold()"
   ]
  },
  {
   "cell_type": "code",
   "execution_count": 64,
   "id": "968ab5a9-5440-4595-ad74-d3e534b3ef2c",
   "metadata": {},
   "outputs": [
    {
     "data": {
      "text/plain": [
       "'harry is a good boy'"
      ]
     },
     "execution_count": 64,
     "metadata": {},
     "output_type": "execute_result"
    }
   ],
   "source": [
    "p.replace(\"pranjal barnwal\",\"harry\")"
   ]
  },
  {
   "cell_type": "code",
   "execution_count": 67,
   "id": "ecc3205c-3509-4d95-a414-f32b2d7ac42f",
   "metadata": {},
   "outputs": [],
   "source": [
    "p=p.title()"
   ]
  },
  {
   "cell_type": "code",
   "execution_count": 68,
   "id": "985f6b4d-615f-49bc-8343-6c3fed4afb1f",
   "metadata": {},
   "outputs": [
    {
     "data": {
      "text/plain": [
       "True"
      ]
     },
     "execution_count": 68,
     "metadata": {},
     "output_type": "execute_result"
    }
   ],
   "source": [
    "p.istitle()"
   ]
  },
  {
   "cell_type": "code",
   "execution_count": 78,
   "id": "be22da51-0008-4398-8e64-8919df1dcb20",
   "metadata": {},
   "outputs": [],
   "source": [
    "def add(*a):\n",
    "    for x in a :\n",
    "        if str(x).isalpha():\n",
    "            remove(x)\n",
    "            return sum(x)\n",
    "    "
   ]
  },
  {
   "cell_type": "markdown",
   "id": "93055546-d640-498b-a67f-49dfda469661",
   "metadata": {},
   "source": [
    "***TASK: from list of strings and all kind of integers print sum of integers only***"
   ]
  },
  {
   "cell_type": "code",
   "execution_count": 14,
   "id": "b01a4a32-0bda-4a19-bfd5-e5c80819c301",
   "metadata": {},
   "outputs": [],
   "source": [
    "lis=[1,2,3,4.5,6,7.8,\"pranjal\",\"barnwal\"]"
   ]
  },
  {
   "cell_type": "code",
   "execution_count": 21,
   "id": "172c7602-198e-4cd5-9979-4993602de588",
   "metadata": {},
   "outputs": [],
   "source": [
    "def add(lis):\n",
    "    a=[]\n",
    "    for x in lis:\n",
    "        if not str(x).isalpha():\n",
    "            a.append(x)\n",
    "    return sum(a)        "
   ]
  },
  {
   "cell_type": "code",
   "execution_count": 22,
   "id": "8b51d60a-db2c-407b-9e16-015f5ac69270",
   "metadata": {},
   "outputs": [
    {
     "data": {
      "text/plain": [
       "24.3"
      ]
     },
     "execution_count": 22,
     "metadata": {},
     "output_type": "execute_result"
    }
   ],
   "source": [
    "add(lis)"
   ]
  },
  {
   "cell_type": "code",
   "execution_count": null,
   "id": "63e8e1b5-bf5c-414f-adb9-84f141f71b56",
   "metadata": {},
   "outputs": [],
   "source": []
  }
 ],
 "metadata": {
  "kernelspec": {
   "display_name": "Python 3 (ipykernel)",
   "language": "python",
   "name": "python3"
  },
  "language_info": {
   "codemirror_mode": {
    "name": "ipython",
    "version": 3
   },
   "file_extension": ".py",
   "mimetype": "text/x-python",
   "name": "python",
   "nbconvert_exporter": "python",
   "pygments_lexer": "ipython3",
   "version": "3.11.0"
  }
 },
 "nbformat": 4,
 "nbformat_minor": 5
}
