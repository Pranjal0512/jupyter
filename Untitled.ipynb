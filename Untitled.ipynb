{
 "cells": [
  {
   "cell_type": "code",
   "execution_count": 3,
   "id": "6a999d66-cf49-4421-9d16-4fd235a59928",
   "metadata": {},
   "outputs": [
    {
     "name": "stdout",
     "output_type": "stream",
     "text": [
      "Tue Jan  3 15:28:55 2023\n"
     ]
    }
   ],
   "source": [
    "import datetime\n",
    "\n",
    "x=datetime.datetime.now()\n",
    "\n",
    "print(x.strftime(\"%c\"))"
   ]
  },
  {
   "cell_type": "code",
   "execution_count": 5,
   "id": "604a6a9c-63fc-4aad-a738-4b9e0c5247fd",
   "metadata": {},
   "outputs": [
    {
     "name": "stdout",
     "output_type": "stream",
     "text": [
      "0:00:00\n"
     ]
    }
   ],
   "source": [
    "import datetime\n",
    "x=datetime.datetime.now()\n",
    "for i in range(10000):\n",
    "    pass\n",
    "y=datetime.datetime.now()\n",
    "print(y-x)"
   ]
  },
  {
   "cell_type": "code",
   "execution_count": 8,
   "id": "6d972f0b-7920-4a92-9aec-2058717f629c",
   "metadata": {},
   "outputs": [
    {
     "name": "stdin",
     "output_type": "stream",
     "text": [
      "enter name= sweeta\n"
     ]
    },
    {
     "name": "stdout",
     "output_type": "stream",
     "text": [
      "0:00:01.549921\n"
     ]
    }
   ],
   "source": [
    "import datetime\n",
    "x=datetime.datetime.now()\n",
    "name= input(\"enter name=\")\n",
    "y=datetime.datetime.now()\n",
    "print(y-x)"
   ]
  },
  {
   "cell_type": "code",
   "execution_count": 9,
   "id": "23c52f97-10e4-4e91-b30c-2e8dccddd28d",
   "metadata": {},
   "outputs": [
    {
     "name": "stdout",
     "output_type": "stream",
     "text": [
      "2020-05-17 12:10:59\n"
     ]
    }
   ],
   "source": [
    "import datetime\n",
    "x=datetime.datetime(2020,5,17,12,10,59)\n",
    "print(x)"
   ]
  },
  {
   "cell_type": "code",
   "execution_count": 10,
   "id": "ea9cb670-0c9d-4eff-8a49-8e4dfd73dd7d",
   "metadata": {},
   "outputs": [
    {
     "data": {
      "text/plain": [
       "datetime.datetime"
      ]
     },
     "execution_count": 10,
     "metadata": {},
     "output_type": "execute_result"
    }
   ],
   "source": [
    "type(x)"
   ]
  },
  {
   "cell_type": "code",
   "execution_count": 11,
   "id": "043d9e8f-b46d-4595-88c3-9aa8c46bd4e8",
   "metadata": {},
   "outputs": [
    {
     "name": "stdout",
     "output_type": "stream",
     "text": [
      "0:00:20\n",
      "2020-05-17 12:10:59\n"
     ]
    }
   ],
   "source": [
    "import datetime\n",
    "\n",
    "x=datetime.datetime(2020,5,17,12,10,59)\n",
    "y=datetime.datetime(2020,5,17,12,10,39)\n",
    "\n",
    "print(x-y)\n",
    "print(str(x))"
   ]
  },
  {
   "cell_type": "code",
   "execution_count": 12,
   "id": "2257e783-bfb5-46b7-969b-17483281ade8",
   "metadata": {},
   "outputs": [
    {
     "data": {
      "text/plain": [
       "[0, 1, 2, 3, 4]"
      ]
     },
     "execution_count": 12,
     "metadata": {},
     "output_type": "execute_result"
    }
   ],
   "source": [
    "#comprehension : list,dictionary\n",
    "a=[i for i in range(5)]\n",
    "a"
   ]
  },
  {
   "cell_type": "code",
   "execution_count": 13,
   "id": "dc46eee8-1da9-4cbe-9b82-f4d7d4a214e1",
   "metadata": {},
   "outputs": [
    {
     "data": {
      "text/plain": [
       "[0, 2, 4, 6, 8, 10, 12, 14, 16, 18]"
      ]
     },
     "execution_count": 13,
     "metadata": {},
     "output_type": "execute_result"
    }
   ],
   "source": [
    "a=[i for i in range (20) if i%2==0]\n",
    "a"
   ]
  },
  {
   "cell_type": "code",
   "execution_count": 14,
   "id": "8825cd1f-8b12-4e2d-9453-25df9ad08346",
   "metadata": {},
   "outputs": [
    {
     "name": "stdin",
     "output_type": "stream",
     "text": [
      "enter name= pranjal\n",
      "enter name= ram\n",
      "enter name= seeta\n",
      "enter name= sweeta baby\n",
      "enter name= loveyou\n"
     ]
    }
   ],
   "source": [
    "a=[input(\"enter name=\") for i in range(5)]"
   ]
  },
  {
   "cell_type": "code",
   "execution_count": 15,
   "id": "ffd7e611-0ce6-4de6-8395-a81f8b62e6dc",
   "metadata": {},
   "outputs": [
    {
     "name": "stdout",
     "output_type": "stream",
     "text": [
      "['pranjal', 'ram', 'seeta', 'sweeta baby', 'loveyou']\n"
     ]
    }
   ],
   "source": [
    "print(a)"
   ]
  },
  {
   "cell_type": "code",
   "execution_count": 16,
   "id": "48b09bd3-c417-4671-9eea-c0aa74b8ff03",
   "metadata": {},
   "outputs": [
    {
     "name": "stdin",
     "output_type": "stream",
     "text": [
      "enter number= 1\n",
      "enter number= 2\n",
      "enter number= 3\n",
      "enter number= 4\n",
      "enter number= 5\n"
     ]
    }
   ],
   "source": [
    "a=sum([int(input(\"enter number=\")) for i in range(5)])"
   ]
  },
  {
   "cell_type": "code",
   "execution_count": 17,
   "id": "4b654f83-badd-424d-b13d-fd21cbedfa12",
   "metadata": {},
   "outputs": [
    {
     "data": {
      "text/plain": [
       "15"
      ]
     },
     "execution_count": 17,
     "metadata": {},
     "output_type": "execute_result"
    }
   ],
   "source": [
    "a"
   ]
  },
  {
   "cell_type": "code",
   "execution_count": 20,
   "id": "04660276-77f6-42ae-8f2b-57335abd8896",
   "metadata": {},
   "outputs": [
    {
     "data": {
      "text/plain": [
       "['Apple', 'Bus']"
      ]
     },
     "execution_count": 20,
     "metadata": {},
     "output_type": "execute_result"
    }
   ],
   "source": [
    "a=['Apple','ball','cat','Bus','air','zebra']\n",
    "b=[i for i in a if i[0].isupper()]\n",
    "b"
   ]
  },
  {
   "cell_type": "code",
   "execution_count": 22,
   "id": "84c9aba7-c571-4d32-a9d6-246cad7821a2",
   "metadata": {},
   "outputs": [
    {
     "data": {
      "text/plain": [
       "{1: 1, 2: 4, 3: 9, 4: 16}"
      ]
     },
     "execution_count": 22,
     "metadata": {},
     "output_type": "execute_result"
    }
   ],
   "source": [
    "d={i:i**2 for i in range(1,5)}\n",
    "d"
   ]
  },
  {
   "cell_type": "code",
   "execution_count": 23,
   "id": "f13a021d-2320-4dcc-a424-4a71fe7da9bb",
   "metadata": {},
   "outputs": [
    {
     "data": {
      "text/plain": [
       "dict_values([1, 4, 9, 16])"
      ]
     },
     "execution_count": 23,
     "metadata": {},
     "output_type": "execute_result"
    }
   ],
   "source": [
    "d={i:i**2 for i in range(1,5)}\n",
    "d.values()"
   ]
  },
  {
   "cell_type": "code",
   "execution_count": 25,
   "id": "c8bd9b28-4bf5-4d29-b3d7-50a49bd40823",
   "metadata": {},
   "outputs": [
    {
     "data": {
      "text/plain": [
       "[1, 4, 9, 16]"
      ]
     },
     "execution_count": 25,
     "metadata": {},
     "output_type": "execute_result"
    }
   ],
   "source": [
    "d={i:i**2 for i in range(1,5)}\n",
    "list(d.values())"
   ]
  },
  {
   "cell_type": "code",
   "execution_count": 26,
   "id": "321804ab-4ca3-4d0e-9490-e4b6ef0053ba",
   "metadata": {},
   "outputs": [
    {
     "name": "stdout",
     "output_type": "stream",
     "text": [
      "{'apple': 'apple', 'cat': 'cat', 'bus': 'bus', 'air': 'air'}\n"
     ]
    },
    {
     "data": {
      "text/plain": [
       "['apple', 'cat', 'bus', 'air']"
      ]
     },
     "execution_count": 26,
     "metadata": {},
     "output_type": "execute_result"
    }
   ],
   "source": [
    "a=['apple','cat','bus','air']\n",
    "d={i:i.lower() for i in a}\n",
    "print(d)\n",
    "list(d.values())"
   ]
  },
  {
   "cell_type": "code",
   "execution_count": 27,
   "id": "840726e4-f729-4754-ac5e-2345a9610171",
   "metadata": {},
   "outputs": [],
   "source": [
    "#lamda function"
   ]
  },
  {
   "cell_type": "code",
   "execution_count": null,
   "id": "b9d39302-cc4a-4db7-b495-3104784bf007",
   "metadata": {},
   "outputs": [],
   "source": []
  }
 ],
 "metadata": {
  "kernelspec": {
   "display_name": "Python 3 (ipykernel)",
   "language": "python",
   "name": "python3"
  },
  "language_info": {
   "codemirror_mode": {
    "name": "ipython",
    "version": 3
   },
   "file_extension": ".py",
   "mimetype": "text/x-python",
   "name": "python",
   "nbconvert_exporter": "python",
   "pygments_lexer": "ipython3",
   "version": "3.11.0"
  }
 },
 "nbformat": 4,
 "nbformat_minor": 5
}
