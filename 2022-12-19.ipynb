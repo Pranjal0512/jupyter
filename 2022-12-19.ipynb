{
 "cells": [
  {
   "cell_type": "markdown",
   "id": "f74b6478-fd78-4dc3-9d0d-e685aa822699",
   "metadata": {},
   "source": [
    "**NUMPY TUTORIAL**"
   ]
  },
  {
   "cell_type": "code",
   "execution_count": 1,
   "id": "3b1df5dc-7279-4b9b-9eb4-258711c7096e",
   "metadata": {},
   "outputs": [],
   "source": [
    "import numpy as np"
   ]
  },
  {
   "cell_type": "code",
   "execution_count": 2,
   "id": "8d07808b-d98a-464c-b239-aded77583c24",
   "metadata": {},
   "outputs": [],
   "source": [
    "parr = np.array([[1,2,3,3277]], np.int64)"
   ]
  },
  {
   "cell_type": "code",
   "execution_count": 3,
   "id": "1e4c749a-2329-4b01-a180-7238d2b85d92",
   "metadata": {},
   "outputs": [
    {
     "data": {
      "text/plain": [
       "(1, 4)"
      ]
     },
     "execution_count": 3,
     "metadata": {},
     "output_type": "execute_result"
    }
   ],
   "source": [
    "parr.shape"
   ]
  },
  {
   "cell_type": "code",
   "execution_count": 4,
   "id": "244051d5-1d90-42e4-8846-ddd3648a457f",
   "metadata": {},
   "outputs": [
    {
     "data": {
      "text/plain": [
       "array([   1,    2,    3, 3277], dtype=int64)"
      ]
     },
     "execution_count": 4,
     "metadata": {},
     "output_type": "execute_result"
    }
   ],
   "source": [
    "parr[0]"
   ]
  },
  {
   "cell_type": "code",
   "execution_count": 5,
   "id": "d9db6388-0c0b-4151-83e1-e5194b3b593e",
   "metadata": {},
   "outputs": [
    {
     "data": {
      "text/plain": [
       "2"
      ]
     },
     "execution_count": 5,
     "metadata": {},
     "output_type": "execute_result"
    }
   ],
   "source": [
    "parr[0,1]"
   ]
  },
  {
   "cell_type": "code",
   "execution_count": 6,
   "id": "e3fff14b-5fd8-4ef7-8e44-09b27a21cb1a",
   "metadata": {},
   "outputs": [
    {
     "data": {
      "text/plain": [
       "dtype('int64')"
      ]
     },
     "execution_count": 6,
     "metadata": {},
     "output_type": "execute_result"
    }
   ],
   "source": [
    "parr.dtype"
   ]
  },
  {
   "cell_type": "code",
   "execution_count": 7,
   "id": "78f686e6-8177-4918-bee6-97b919c3b67b",
   "metadata": {},
   "outputs": [],
   "source": [
    "parr[0,1]=4"
   ]
  },
  {
   "cell_type": "code",
   "execution_count": 8,
   "id": "a522b1a3-0bf4-4b4a-9e6b-104e622cfdde",
   "metadata": {},
   "outputs": [
    {
     "data": {
      "text/plain": [
       "array([[   1,    4,    3, 3277]], dtype=int64)"
      ]
     },
     "execution_count": 8,
     "metadata": {},
     "output_type": "execute_result"
    }
   ],
   "source": [
    "parr"
   ]
  },
  {
   "cell_type": "code",
   "execution_count": 9,
   "id": "11b39cec-b98b-433a-8805-e84e688591c1",
   "metadata": {},
   "outputs": [],
   "source": [
    "#ARRAY CREATION:CONVERSION FROM OTHER PYTHON STRUCTURES"
   ]
  },
  {
   "cell_type": "code",
   "execution_count": 10,
   "id": "0d3f7371-a72c-438f-8632-ea868b4bf3ba",
   "metadata": {},
   "outputs": [],
   "source": [
    "listarray=np.array([[1,2,3], [5,6,5], [6,7,8]])"
   ]
  },
  {
   "cell_type": "code",
   "execution_count": 11,
   "id": "6932079f-479e-44cc-983e-2aca55f3f4af",
   "metadata": {},
   "outputs": [
    {
     "data": {
      "text/plain": [
       "array([[1, 2, 3],\n",
       "       [5, 6, 5],\n",
       "       [6, 7, 8]])"
      ]
     },
     "execution_count": 11,
     "metadata": {},
     "output_type": "execute_result"
    }
   ],
   "source": [
    "listarray"
   ]
  },
  {
   "cell_type": "code",
   "execution_count": 12,
   "id": "debd2b3b-124e-484b-bc31-893d39ab50bb",
   "metadata": {},
   "outputs": [
    {
     "data": {
      "text/plain": [
       "dtype('int32')"
      ]
     },
     "execution_count": 12,
     "metadata": {},
     "output_type": "execute_result"
    }
   ],
   "source": [
    "listarray.dtype"
   ]
  },
  {
   "cell_type": "code",
   "execution_count": 13,
   "id": "26fbd9d5-932d-491c-b81c-ddf5480df871",
   "metadata": {},
   "outputs": [
    {
     "data": {
      "text/plain": [
       "(3, 3)"
      ]
     },
     "execution_count": 13,
     "metadata": {},
     "output_type": "execute_result"
    }
   ],
   "source": [
    "listarray.shape"
   ]
  },
  {
   "cell_type": "code",
   "execution_count": 14,
   "id": "664936fd-1b20-4838-95b7-439de47c9537",
   "metadata": {},
   "outputs": [
    {
     "data": {
      "text/plain": [
       "9"
      ]
     },
     "execution_count": 14,
     "metadata": {},
     "output_type": "execute_result"
    }
   ],
   "source": [
    "listarray.size"
   ]
  },
  {
   "cell_type": "code",
   "execution_count": 15,
   "id": "b8ee74c7-0dc5-43ba-a118-a772a0a2a248",
   "metadata": {},
   "outputs": [
    {
     "data": {
      "text/plain": [
       "array({34, 23}, dtype=object)"
      ]
     },
     "execution_count": 15,
     "metadata": {},
     "output_type": "execute_result"
    }
   ],
   "source": [
    "np.array({34,23,23})#dtype object it uses directory"
   ]
  },
  {
   "cell_type": "code",
   "execution_count": 16,
   "id": "dfd1bb53-8224-4d22-a30e-85f31cf49633",
   "metadata": {},
   "outputs": [],
   "source": [
    "zeros=np.zeros((3,3))#3 by 3 ki array consisting zeros"
   ]
  },
  {
   "cell_type": "code",
   "execution_count": null,
   "id": "854c2925-e2f4-4f02-918d-49aea6937ffa",
   "metadata": {},
   "outputs": [],
   "source": []
  },
  {
   "cell_type": "code",
   "execution_count": 17,
   "id": "a47bae7a-8e54-4118-8490-1d7111458bd9",
   "metadata": {},
   "outputs": [
    {
     "data": {
      "text/plain": [
       "dtype('float64')"
      ]
     },
     "execution_count": 17,
     "metadata": {},
     "output_type": "execute_result"
    }
   ],
   "source": [
    "zeros.dtype"
   ]
  },
  {
   "cell_type": "code",
   "execution_count": 18,
   "id": "edce6287-839e-4155-b099-4d35cf800d27",
   "metadata": {},
   "outputs": [],
   "source": [
    "rng=np.arange(15)#0se 15 tak elements ki list"
   ]
  },
  {
   "cell_type": "code",
   "execution_count": 19,
   "id": "9f1af845-de44-474b-ad1a-0b5b4231bc86",
   "metadata": {},
   "outputs": [
    {
     "data": {
      "text/plain": [
       "array([ 0,  1,  2,  3,  4,  5,  6,  7,  8,  9, 10, 11, 12, 13, 14])"
      ]
     },
     "execution_count": 19,
     "metadata": {},
     "output_type": "execute_result"
    }
   ],
   "source": [
    "rng"
   ]
  },
  {
   "cell_type": "code",
   "execution_count": 20,
   "id": "c0218964-154b-4e35-bf70-d6423a52a0fb",
   "metadata": {},
   "outputs": [],
   "source": [
    "lspace=np.linspace(1,50,4)# 1 se leke 50 tak 4 elements"
   ]
  },
  {
   "cell_type": "code",
   "execution_count": 21,
   "id": "0a9889de-bce8-44d0-88c3-a69004d0ba3b",
   "metadata": {},
   "outputs": [
    {
     "data": {
      "text/plain": [
       "array([ 1.        , 17.33333333, 33.66666667, 50.        ])"
      ]
     },
     "execution_count": 21,
     "metadata": {},
     "output_type": "execute_result"
    }
   ],
   "source": [
    "lspace"
   ]
  },
  {
   "cell_type": "code",
   "execution_count": 22,
   "id": "4a71866b-062c-46fa-9893-d0b6f25ac5f9",
   "metadata": {},
   "outputs": [],
   "source": [
    "emp=np.empty((4,6))#it gives empty array consisting of random numbers"
   ]
  },
  {
   "cell_type": "code",
   "execution_count": 23,
   "id": "ec6cfa9c-cb2e-43b6-a650-e81bb656b022",
   "metadata": {},
   "outputs": [
    {
     "data": {
      "text/plain": [
       "array([[6.23042070e-307, 3.56043053e-307, 1.37961641e-306,\n",
       "        9.45697982e-308, 8.01097889e-307, 1.78020169e-306],\n",
       "       [7.56601165e-307, 1.02359984e-306, 1.33510679e-306,\n",
       "        2.22522597e-306, 1.78019761e-306, 1.37962185e-306],\n",
       "       [1.78019625e-306, 6.89812281e-307, 9.34609790e-307,\n",
       "        1.24610723e-306, 1.05700515e-307, 2.04712906e-306],\n",
       "       [7.56589622e-307, 1.11258277e-307, 8.90111708e-307,\n",
       "        3.22643519e-307, 9.79103798e-307, 2.46155235e-312]])"
      ]
     },
     "execution_count": 23,
     "metadata": {},
     "output_type": "execute_result"
    }
   ],
   "source": [
    "emp"
   ]
  },
  {
   "cell_type": "code",
   "execution_count": 24,
   "id": "ddf04c20-4556-44cd-9d82-3aac03902788",
   "metadata": {},
   "outputs": [],
   "source": [
    "emp_like=np.empty_like(lspace)"
   ]
  },
  {
   "cell_type": "code",
   "execution_count": 25,
   "id": "afb8ccde-e9b9-4ce7-813a-c9c03571d9fa",
   "metadata": {},
   "outputs": [
    {
     "data": {
      "text/plain": [
       "array([ 1.        , 17.33333333, 33.66666667, 50.        ])"
      ]
     },
     "execution_count": 25,
     "metadata": {},
     "output_type": "execute_result"
    }
   ],
   "source": [
    "emp_like"
   ]
  },
  {
   "cell_type": "code",
   "execution_count": 26,
   "id": "fe4cbc7e-4ed1-42be-9f28-929e57c27c60",
   "metadata": {},
   "outputs": [],
   "source": [
    "id=np.identity(4)#identity array of order 4by 4"
   ]
  },
  {
   "cell_type": "code",
   "execution_count": 27,
   "id": "a94dafac-c112-4b88-85d6-9f5cba7022c2",
   "metadata": {},
   "outputs": [
    {
     "data": {
      "text/plain": [
       "array([[1., 0., 0., 0.],\n",
       "       [0., 1., 0., 0.],\n",
       "       [0., 0., 1., 0.],\n",
       "       [0., 0., 0., 1.]])"
      ]
     },
     "execution_count": 27,
     "metadata": {},
     "output_type": "execute_result"
    }
   ],
   "source": [
    "id"
   ]
  },
  {
   "cell_type": "code",
   "execution_count": 28,
   "id": "41f21c7a-27aa-4c72-a8e2-539be86fe0a7",
   "metadata": {},
   "outputs": [
    {
     "data": {
      "text/plain": [
       "(4, 4)"
      ]
     },
     "execution_count": 28,
     "metadata": {},
     "output_type": "execute_result"
    }
   ],
   "source": [
    "id.shape"
   ]
  },
  {
   "cell_type": "code",
   "execution_count": 29,
   "id": "d5f75712-1e19-4909-af83-ff0c5bfea7e5",
   "metadata": {},
   "outputs": [],
   "source": [
    "arr=np.arange(81)"
   ]
  },
  {
   "cell_type": "code",
   "execution_count": 30,
   "id": "1bf55515-0740-4763-99ec-71d1cfde55d9",
   "metadata": {},
   "outputs": [
    {
     "data": {
      "text/plain": [
       "array([ 0,  1,  2,  3,  4,  5,  6,  7,  8,  9, 10, 11, 12, 13, 14, 15, 16,\n",
       "       17, 18, 19, 20, 21, 22, 23, 24, 25, 26, 27, 28, 29, 30, 31, 32, 33,\n",
       "       34, 35, 36, 37, 38, 39, 40, 41, 42, 43, 44, 45, 46, 47, 48, 49, 50,\n",
       "       51, 52, 53, 54, 55, 56, 57, 58, 59, 60, 61, 62, 63, 64, 65, 66, 67,\n",
       "       68, 69, 70, 71, 72, 73, 74, 75, 76, 77, 78, 79, 80])"
      ]
     },
     "execution_count": 30,
     "metadata": {},
     "output_type": "execute_result"
    }
   ],
   "source": [
    "arr"
   ]
  },
  {
   "cell_type": "code",
   "execution_count": 31,
   "id": "037df5ff-4f6f-4948-a981-5042d55de2a3",
   "metadata": {},
   "outputs": [
    {
     "data": {
      "text/plain": [
       "array([[ 0,  1,  2,  3,  4,  5,  6,  7,  8],\n",
       "       [ 9, 10, 11, 12, 13, 14, 15, 16, 17],\n",
       "       [18, 19, 20, 21, 22, 23, 24, 25, 26],\n",
       "       [27, 28, 29, 30, 31, 32, 33, 34, 35],\n",
       "       [36, 37, 38, 39, 40, 41, 42, 43, 44],\n",
       "       [45, 46, 47, 48, 49, 50, 51, 52, 53],\n",
       "       [54, 55, 56, 57, 58, 59, 60, 61, 62],\n",
       "       [63, 64, 65, 66, 67, 68, 69, 70, 71],\n",
       "       [72, 73, 74, 75, 76, 77, 78, 79, 80]])"
      ]
     },
     "execution_count": 31,
     "metadata": {},
     "output_type": "execute_result"
    }
   ],
   "source": [
    "arr.reshape(9,9)#9by 9 me reshape kardega"
   ]
  },
  {
   "cell_type": "code",
   "execution_count": 32,
   "id": "db34c84a-3e58-44b4-9bf0-5319786b5059",
   "metadata": {},
   "outputs": [
    {
     "data": {
      "text/plain": [
       "array([ 0,  1,  2,  3,  4,  5,  6,  7,  8,  9, 10, 11, 12, 13, 14, 15, 16,\n",
       "       17, 18, 19, 20, 21, 22, 23, 24, 25, 26, 27, 28, 29, 30, 31, 32, 33,\n",
       "       34, 35, 36, 37, 38, 39, 40, 41, 42, 43, 44, 45, 46, 47, 48, 49, 50,\n",
       "       51, 52, 53, 54, 55, 56, 57, 58, 59, 60, 61, 62, 63, 64, 65, 66, 67,\n",
       "       68, 69, 70, 71, 72, 73, 74, 75, 76, 77, 78, 79, 80])"
      ]
     },
     "execution_count": 32,
     "metadata": {},
     "output_type": "execute_result"
    }
   ],
   "source": [
    "arr.ravel()#1d array"
   ]
  },
  {
   "cell_type": "code",
   "execution_count": 33,
   "id": "820cc7fd-88ef-4bed-ab1b-ead4046fbb8f",
   "metadata": {},
   "outputs": [],
   "source": [
    "x=[[1,2,3,4],[4,5,6,7],[7,1,0,4]]"
   ]
  },
  {
   "cell_type": "code",
   "execution_count": 34,
   "id": "f64abcd8-5f53-474e-8551-eb917db4645f",
   "metadata": {},
   "outputs": [],
   "source": [
    "ar=np.array(x)"
   ]
  },
  {
   "cell_type": "code",
   "execution_count": 35,
   "id": "f3f95b96-bf26-4d5f-a927-a8ff7fc826df",
   "metadata": {},
   "outputs": [
    {
     "data": {
      "text/plain": [
       "array([[1, 2, 3, 4],\n",
       "       [4, 5, 6, 7],\n",
       "       [7, 1, 0, 4]])"
      ]
     },
     "execution_count": 35,
     "metadata": {},
     "output_type": "execute_result"
    }
   ],
   "source": [
    "ar"
   ]
  },
  {
   "cell_type": "code",
   "execution_count": 36,
   "id": "bad1eac7-ee95-4737-9fa2-9c79ffebdfa3",
   "metadata": {},
   "outputs": [
    {
     "data": {
      "text/plain": [
       "array([12,  8,  9, 15])"
      ]
     },
     "execution_count": 36,
     "metadata": {},
     "output_type": "execute_result"
    }
   ],
   "source": [
    "ar.sum(axis=0)#axis=0 means column "
   ]
  },
  {
   "cell_type": "code",
   "execution_count": 37,
   "id": "211b74d1-9a84-469d-8783-f0a56f0a7b63",
   "metadata": {},
   "outputs": [
    {
     "data": {
      "text/plain": [
       "array([10, 22, 12])"
      ]
     },
     "execution_count": 37,
     "metadata": {},
     "output_type": "execute_result"
    }
   ],
   "source": [
    "ar.sum(axis=1) "
   ]
  },
  {
   "cell_type": "code",
   "execution_count": 38,
   "id": "fad6c613-df6c-4b0e-b67c-13f1082ca5cb",
   "metadata": {},
   "outputs": [
    {
     "data": {
      "text/plain": [
       "array([[1, 4, 7],\n",
       "       [2, 5, 1],\n",
       "       [3, 6, 0],\n",
       "       [4, 7, 4]])"
      ]
     },
     "execution_count": 38,
     "metadata": {},
     "output_type": "execute_result"
    }
   ],
   "source": [
    "ar.T#transpose"
   ]
  },
  {
   "cell_type": "code",
   "execution_count": 39,
   "id": "5ded274f-8234-44c2-aca7-97eaa05c45db",
   "metadata": {},
   "outputs": [
    {
     "data": {
      "text/plain": [
       "<numpy.flatiter at 0x27430bd6cd0>"
      ]
     },
     "execution_count": 39,
     "metadata": {},
     "output_type": "execute_result"
    }
   ],
   "source": [
    "ar.flat"
   ]
  },
  {
   "cell_type": "code",
   "execution_count": 40,
   "id": "b73583a2-7b7d-4042-b5be-f1470f5791da",
   "metadata": {},
   "outputs": [
    {
     "name": "stdout",
     "output_type": "stream",
     "text": [
      "1\n",
      "2\n",
      "3\n",
      "4\n",
      "4\n",
      "5\n",
      "6\n",
      "7\n",
      "7\n",
      "1\n",
      "0\n",
      "4\n"
     ]
    }
   ],
   "source": [
    "for x in ar.flat:\n",
    "    print(x)"
   ]
  },
  {
   "cell_type": "code",
   "execution_count": 41,
   "id": "1bae4cc9-bf46-42f1-9758-c231596113d4",
   "metadata": {},
   "outputs": [
    {
     "data": {
      "text/plain": [
       "2"
      ]
     },
     "execution_count": 41,
     "metadata": {},
     "output_type": "execute_result"
    }
   ],
   "source": [
    "ar.ndim #number of dimension"
   ]
  },
  {
   "cell_type": "code",
   "execution_count": 42,
   "id": "29a18ba7-4f81-41d1-b1c8-b7bc681652ab",
   "metadata": {},
   "outputs": [
    {
     "data": {
      "text/plain": [
       "12"
      ]
     },
     "execution_count": 42,
     "metadata": {},
     "output_type": "execute_result"
    }
   ],
   "source": [
    "ar.size"
   ]
  },
  {
   "cell_type": "code",
   "execution_count": 43,
   "id": "e4ce896e-3b7e-4cba-9667-26071d17bb9b",
   "metadata": {},
   "outputs": [
    {
     "data": {
      "text/plain": [
       "48"
      ]
     },
     "execution_count": 43,
     "metadata": {},
     "output_type": "execute_result"
    }
   ],
   "source": [
    "ar.nbytes"
   ]
  },
  {
   "cell_type": "code",
   "execution_count": 44,
   "id": "8569228a-5446-4f41-ad54-647fd618a0cb",
   "metadata": {},
   "outputs": [
    {
     "data": {
      "text/plain": [
       "<function ndarray.argmax>"
      ]
     },
     "execution_count": 44,
     "metadata": {},
     "output_type": "execute_result"
    }
   ],
   "source": [
    "ar.argmax"
   ]
  },
  {
   "cell_type": "code",
   "execution_count": 45,
   "id": "5a985aae-d919-42a5-b3b6-40b0757b6e61",
   "metadata": {},
   "outputs": [
    {
     "data": {
      "text/plain": [
       "7"
      ]
     },
     "execution_count": 45,
     "metadata": {},
     "output_type": "execute_result"
    }
   ],
   "source": [
    "ar.argmax()"
   ]
  },
  {
   "cell_type": "code",
   "execution_count": 46,
   "id": "b2cfb568-1c1f-40db-8dcf-4bfeaf36b919",
   "metadata": {},
   "outputs": [
    {
     "data": {
      "text/plain": [
       "10"
      ]
     },
     "execution_count": 46,
     "metadata": {},
     "output_type": "execute_result"
    }
   ],
   "source": [
    "ar.argmin()"
   ]
  },
  {
   "cell_type": "code",
   "execution_count": 47,
   "id": "bfa5f685-ee1a-4552-83af-d61ddebf96c7",
   "metadata": {},
   "outputs": [
    {
     "data": {
      "text/plain": [
       "array([[0, 1, 2, 3],\n",
       "       [0, 1, 2, 3],\n",
       "       [2, 1, 3, 0]], dtype=int64)"
      ]
     },
     "execution_count": 47,
     "metadata": {},
     "output_type": "execute_result"
    }
   ],
   "source": [
    "ar.argsort()#it sorts the element in the array by their postion"
   ]
  },
  {
   "cell_type": "code",
   "execution_count": 48,
   "id": "f28d5f3e-3c81-4856-926e-795e87270c7f",
   "metadata": {},
   "outputs": [],
   "source": [
    "#below gives position only not the element"
   ]
  },
  {
   "cell_type": "code",
   "execution_count": 49,
   "id": "083d9369-d339-411a-85ca-23c888732ce3",
   "metadata": {},
   "outputs": [
    {
     "data": {
      "text/plain": [
       "array([2, 1, 1, 1], dtype=int64)"
      ]
     },
     "execution_count": 49,
     "metadata": {},
     "output_type": "execute_result"
    }
   ],
   "source": [
    "ar.argmax(axis=0)"
   ]
  },
  {
   "cell_type": "code",
   "execution_count": 50,
   "id": "f8b557a5-61b3-4935-9ad4-4d12f4e4e751",
   "metadata": {},
   "outputs": [
    {
     "data": {
      "text/plain": [
       "array([3, 3, 0], dtype=int64)"
      ]
     },
     "execution_count": 50,
     "metadata": {},
     "output_type": "execute_result"
    }
   ],
   "source": [
    "ar.argmax(axis=1)"
   ]
  },
  {
   "cell_type": "code",
   "execution_count": 51,
   "id": "89163134-1303-4f2a-a0ca-ad9ea6c49b13",
   "metadata": {},
   "outputs": [
    {
     "data": {
      "text/plain": [
       "array([0, 2, 2, 0], dtype=int64)"
      ]
     },
     "execution_count": 51,
     "metadata": {},
     "output_type": "execute_result"
    }
   ],
   "source": [
    "ar.argmin(axis=0)"
   ]
  },
  {
   "cell_type": "code",
   "execution_count": 52,
   "id": "0dea3406-6aba-44a4-b36e-d846eecf2054",
   "metadata": {},
   "outputs": [
    {
     "data": {
      "text/plain": [
       "array([0, 0, 2], dtype=int64)"
      ]
     },
     "execution_count": 52,
     "metadata": {},
     "output_type": "execute_result"
    }
   ],
   "source": [
    "ar.argmin(axis=1)"
   ]
  },
  {
   "cell_type": "code",
   "execution_count": 53,
   "id": "5d2ba073-4173-4b17-81a9-3972be589349",
   "metadata": {},
   "outputs": [
    {
     "data": {
      "text/plain": [
       "array([[0, 2, 2, 0],\n",
       "       [1, 0, 0, 2],\n",
       "       [2, 1, 1, 1]], dtype=int64)"
      ]
     },
     "execution_count": 53,
     "metadata": {},
     "output_type": "execute_result"
    }
   ],
   "source": [
    "ar.argsort(axis=0)#it is sorting column where position of the element are given on the basis of ascending order "
   ]
  },
  {
   "cell_type": "code",
   "execution_count": 54,
   "id": "4dea39b3-e922-458c-9f60-9ee2c7a4055b",
   "metadata": {},
   "outputs": [
    {
     "data": {
      "text/plain": [
       "array([[1, 2, 3, 4],\n",
       "       [4, 5, 6, 7],\n",
       "       [7, 1, 0, 4]])"
      ]
     },
     "execution_count": 54,
     "metadata": {},
     "output_type": "execute_result"
    }
   ],
   "source": [
    "ar"
   ]
  },
  {
   "cell_type": "code",
   "execution_count": 55,
   "id": "e2e9867e-7d10-4154-9cef-3871e36cb67c",
   "metadata": {},
   "outputs": [
    {
     "data": {
      "text/plain": [
       "<function ndarray.ravel>"
      ]
     },
     "execution_count": 55,
     "metadata": {},
     "output_type": "execute_result"
    }
   ],
   "source": [
    "ar.ravel"
   ]
  },
  {
   "cell_type": "code",
   "execution_count": 56,
   "id": "49b3d948-3d54-4939-9ff7-ffafd885db41",
   "metadata": {},
   "outputs": [
    {
     "data": {
      "text/plain": [
       "array([1, 2, 3, 4, 4, 5, 6, 7, 7, 1, 0, 4])"
      ]
     },
     "execution_count": 56,
     "metadata": {},
     "output_type": "execute_result"
    }
   ],
   "source": [
    "ar.ravel()"
   ]
  },
  {
   "cell_type": "code",
   "execution_count": 57,
   "id": "bd8741fe-2930-4ac8-82e7-03640c9f1d3d",
   "metadata": {},
   "outputs": [
    {
     "data": {
      "text/plain": [
       "array([[1, 2],\n",
       "       [3, 4],\n",
       "       [4, 5],\n",
       "       [6, 7],\n",
       "       [7, 1],\n",
       "       [0, 4]])"
      ]
     },
     "execution_count": 57,
     "metadata": {},
     "output_type": "execute_result"
    }
   ],
   "source": [
    "ar.reshape((6,2))"
   ]
  },
  {
   "cell_type": "code",
   "execution_count": 58,
   "id": "95767f09-0861-48cc-b646-6dd27eb62401",
   "metadata": {},
   "outputs": [
    {
     "data": {
      "text/plain": [
       "array([[1, 2, 3, 4],\n",
       "       [4, 5, 6, 7],\n",
       "       [7, 1, 0, 4]])"
      ]
     },
     "execution_count": 58,
     "metadata": {},
     "output_type": "execute_result"
    }
   ],
   "source": [
    "ar"
   ]
  },
  {
   "cell_type": "code",
   "execution_count": 59,
   "id": "5dd7d5fe-5270-4c15-a923-f80c9b907c8b",
   "metadata": {},
   "outputs": [],
   "source": [
    "ar2=np.array([[1,2,3,4],[5,6,7,8],[9,10,11,12]])"
   ]
  },
  {
   "cell_type": "code",
   "execution_count": 60,
   "id": "4602aa65-36f6-4b25-8d80-ea5dfe1b0d89",
   "metadata": {},
   "outputs": [
    {
     "data": {
      "text/plain": [
       "array([[ 2,  4,  6,  8],\n",
       "       [ 9, 11, 13, 15],\n",
       "       [16, 11, 11, 16]])"
      ]
     },
     "execution_count": 60,
     "metadata": {},
     "output_type": "execute_result"
    }
   ],
   "source": [
    "ar+ar2"
   ]
  },
  {
   "cell_type": "code",
   "execution_count": 61,
   "id": "966c0b2e-37e3-4e39-bce0-1c7e887afb70",
   "metadata": {},
   "outputs": [
    {
     "data": {
      "text/plain": [
       "array([[ 1,  4,  9, 16],\n",
       "       [20, 30, 42, 56],\n",
       "       [63, 10,  0, 48]])"
      ]
     },
     "execution_count": 61,
     "metadata": {},
     "output_type": "execute_result"
    }
   ],
   "source": [
    "ar*ar2"
   ]
  },
  {
   "cell_type": "code",
   "execution_count": 62,
   "id": "2f1abf87-1134-45a5-8cf2-4f369feca2b3",
   "metadata": {},
   "outputs": [
    {
     "data": {
      "text/plain": [
       "array([[1.        , 1.41421356, 1.73205081, 2.        ],\n",
       "       [2.        , 2.23606798, 2.44948974, 2.64575131],\n",
       "       [2.64575131, 1.        , 0.        , 2.        ]])"
      ]
     },
     "execution_count": 62,
     "metadata": {},
     "output_type": "execute_result"
    }
   ],
   "source": [
    "np.sqrt(ar)"
   ]
  },
  {
   "cell_type": "code",
   "execution_count": 63,
   "id": "c0b0b891-7229-41e9-a0ca-8027e814deed",
   "metadata": {},
   "outputs": [
    {
     "data": {
      "text/plain": [
       "array([[1, 2, 3, 4],\n",
       "       [4, 5, 6, 7],\n",
       "       [7, 1, 0, 4]])"
      ]
     },
     "execution_count": 63,
     "metadata": {},
     "output_type": "execute_result"
    }
   ],
   "source": [
    "ar"
   ]
  },
  {
   "cell_type": "code",
   "execution_count": 64,
   "id": "722267eb-9f4e-4bfa-8243-f75042cb1dc1",
   "metadata": {},
   "outputs": [
    {
     "data": {
      "text/plain": [
       "(array([1, 2], dtype=int64), array([3, 0], dtype=int64))"
      ]
     },
     "execution_count": 64,
     "metadata": {},
     "output_type": "execute_result"
    }
   ],
   "source": [
    "np.where(ar>6)"
   ]
  },
  {
   "cell_type": "code",
   "execution_count": 65,
   "id": "9e6ee97e-ae9b-4c85-b433-659890d48cfe",
   "metadata": {},
   "outputs": [
    {
     "data": {
      "text/plain": [
       "11"
      ]
     },
     "execution_count": 65,
     "metadata": {},
     "output_type": "execute_result"
    }
   ],
   "source": [
    "np.count_nonzero(ar)"
   ]
  },
  {
   "cell_type": "code",
   "execution_count": 66,
   "id": "5dda2f21-6603-48d3-b98b-1f436b44a678",
   "metadata": {},
   "outputs": [
    {
     "data": {
      "text/plain": [
       "12"
      ]
     },
     "execution_count": 66,
     "metadata": {},
     "output_type": "execute_result"
    }
   ],
   "source": [
    "np.count_nonzero(ar2)"
   ]
  },
  {
   "cell_type": "code",
   "execution_count": 67,
   "id": "6d0098ef-9870-494f-95d4-ec46acb60bdf",
   "metadata": {},
   "outputs": [
    {
     "data": {
      "text/plain": [
       "(array([0, 0, 0, 0, 1, 1, 1, 1, 2, 2, 2], dtype=int64),\n",
       " array([0, 1, 2, 3, 0, 1, 2, 3, 0, 1, 3], dtype=int64))"
      ]
     },
     "execution_count": 67,
     "metadata": {},
     "output_type": "execute_result"
    }
   ],
   "source": [
    "np.nonzero(ar)#gives position where non zero elements are there in  ar i.e. (0,0),(0,1),(0,2),(0,3),(1,0),(1,1),(1,2)......."
   ]
  },
  {
   "cell_type": "code",
   "execution_count": 68,
   "id": "cbc0a885-8bc6-482e-bc24-d8560b617189",
   "metadata": {},
   "outputs": [],
   "source": [
    "ar[0,1]=0"
   ]
  },
  {
   "cell_type": "markdown",
   "id": "0ad48d84-f50f-46cc-9ba5-58fc914714d1",
   "metadata": {},
   "source": [
    "***Pandas tutorial***"
   ]
  },
  {
   "cell_type": "code",
   "execution_count": 69,
   "id": "6745810f-bc6f-478d-8fb8-2e78ace0fb24",
   "metadata": {},
   "outputs": [],
   "source": [
    "import pandas as pd"
   ]
  },
  {
   "cell_type": "code",
   "execution_count": 70,
   "id": "3e5eda8d-7f9b-4278-bd26-f89da77640f7",
   "metadata": {},
   "outputs": [],
   "source": [
    "import numpy as np"
   ]
  },
  {
   "cell_type": "code",
   "execution_count": 71,
   "id": "32257609-9c1c-43f8-abae-2fad805f2817",
   "metadata": {},
   "outputs": [],
   "source": [
    "dict1={\n",
    "    \"name\":['harry','subham','pranjal'],\n",
    "    \"marks\":[89,90,99],\n",
    "    \"adress\":['birgunj','hetauda','kathmandu']\n",
    "}"
   ]
  },
  {
   "cell_type": "code",
   "execution_count": 72,
   "id": "75d5dab5-2fa7-421b-982a-bcdddf51714f",
   "metadata": {},
   "outputs": [],
   "source": [
    "df=pd.DataFrame(dict1)#changes to excell format"
   ]
  },
  {
   "cell_type": "code",
   "execution_count": 73,
   "id": "01746d12-8041-4152-975e-acb02c5e589d",
   "metadata": {},
   "outputs": [
    {
     "data": {
      "text/html": [
       "<div>\n",
       "<style scoped>\n",
       "    .dataframe tbody tr th:only-of-type {\n",
       "        vertical-align: middle;\n",
       "    }\n",
       "\n",
       "    .dataframe tbody tr th {\n",
       "        vertical-align: top;\n",
       "    }\n",
       "\n",
       "    .dataframe thead th {\n",
       "        text-align: right;\n",
       "    }\n",
       "</style>\n",
       "<table border=\"1\" class=\"dataframe\">\n",
       "  <thead>\n",
       "    <tr style=\"text-align: right;\">\n",
       "      <th></th>\n",
       "      <th>name</th>\n",
       "      <th>marks</th>\n",
       "      <th>adress</th>\n",
       "    </tr>\n",
       "  </thead>\n",
       "  <tbody>\n",
       "    <tr>\n",
       "      <th>0</th>\n",
       "      <td>harry</td>\n",
       "      <td>89</td>\n",
       "      <td>birgunj</td>\n",
       "    </tr>\n",
       "    <tr>\n",
       "      <th>1</th>\n",
       "      <td>subham</td>\n",
       "      <td>90</td>\n",
       "      <td>hetauda</td>\n",
       "    </tr>\n",
       "    <tr>\n",
       "      <th>2</th>\n",
       "      <td>pranjal</td>\n",
       "      <td>99</td>\n",
       "      <td>kathmandu</td>\n",
       "    </tr>\n",
       "  </tbody>\n",
       "</table>\n",
       "</div>"
      ],
      "text/plain": [
       "      name  marks     adress\n",
       "0    harry     89    birgunj\n",
       "1   subham     90    hetauda\n",
       "2  pranjal     99  kathmandu"
      ]
     },
     "execution_count": 73,
     "metadata": {},
     "output_type": "execute_result"
    }
   ],
   "source": [
    "df"
   ]
  },
  {
   "cell_type": "code",
   "execution_count": 74,
   "id": "68aab83d-a853-4dce-b079-e851fc9539f2",
   "metadata": {},
   "outputs": [],
   "source": [
    "df.to_csv('friends.csv')#changes to csv form"
   ]
  },
  {
   "cell_type": "code",
   "execution_count": 75,
   "id": "47577f84-08e2-4a3c-a3b6-72d56549bd6f",
   "metadata": {},
   "outputs": [],
   "source": [
    "df.to_csv('friends_index.csv', index=False)#deletes the index"
   ]
  },
  {
   "cell_type": "code",
   "execution_count": 76,
   "id": "02cc4247-c65c-4b7d-a471-d8f8a19c82d5",
   "metadata": {},
   "outputs": [
    {
     "data": {
      "text/html": [
       "<div>\n",
       "<style scoped>\n",
       "    .dataframe tbody tr th:only-of-type {\n",
       "        vertical-align: middle;\n",
       "    }\n",
       "\n",
       "    .dataframe tbody tr th {\n",
       "        vertical-align: top;\n",
       "    }\n",
       "\n",
       "    .dataframe thead th {\n",
       "        text-align: right;\n",
       "    }\n",
       "</style>\n",
       "<table border=\"1\" class=\"dataframe\">\n",
       "  <thead>\n",
       "    <tr style=\"text-align: right;\">\n",
       "      <th></th>\n",
       "      <th>name</th>\n",
       "      <th>marks</th>\n",
       "      <th>adress</th>\n",
       "    </tr>\n",
       "  </thead>\n",
       "  <tbody>\n",
       "    <tr>\n",
       "      <th>0</th>\n",
       "      <td>harry</td>\n",
       "      <td>89</td>\n",
       "      <td>birgunj</td>\n",
       "    </tr>\n",
       "    <tr>\n",
       "      <th>1</th>\n",
       "      <td>subham</td>\n",
       "      <td>90</td>\n",
       "      <td>hetauda</td>\n",
       "    </tr>\n",
       "  </tbody>\n",
       "</table>\n",
       "</div>"
      ],
      "text/plain": [
       "     name  marks   adress\n",
       "0   harry     89  birgunj\n",
       "1  subham     90  hetauda"
      ]
     },
     "execution_count": 76,
     "metadata": {},
     "output_type": "execute_result"
    }
   ],
   "source": [
    "df.head(2)#prints the head "
   ]
  },
  {
   "cell_type": "code",
   "execution_count": 77,
   "id": "481b7b14-d9fa-4c9c-a09f-13786b6af951",
   "metadata": {},
   "outputs": [
    {
     "data": {
      "text/html": [
       "<div>\n",
       "<style scoped>\n",
       "    .dataframe tbody tr th:only-of-type {\n",
       "        vertical-align: middle;\n",
       "    }\n",
       "\n",
       "    .dataframe tbody tr th {\n",
       "        vertical-align: top;\n",
       "    }\n",
       "\n",
       "    .dataframe thead th {\n",
       "        text-align: right;\n",
       "    }\n",
       "</style>\n",
       "<table border=\"1\" class=\"dataframe\">\n",
       "  <thead>\n",
       "    <tr style=\"text-align: right;\">\n",
       "      <th></th>\n",
       "      <th>name</th>\n",
       "      <th>marks</th>\n",
       "      <th>adress</th>\n",
       "    </tr>\n",
       "  </thead>\n",
       "  <tbody>\n",
       "    <tr>\n",
       "      <th>1</th>\n",
       "      <td>subham</td>\n",
       "      <td>90</td>\n",
       "      <td>hetauda</td>\n",
       "    </tr>\n",
       "    <tr>\n",
       "      <th>2</th>\n",
       "      <td>pranjal</td>\n",
       "      <td>99</td>\n",
       "      <td>kathmandu</td>\n",
       "    </tr>\n",
       "  </tbody>\n",
       "</table>\n",
       "</div>"
      ],
      "text/plain": [
       "      name  marks     adress\n",
       "1   subham     90    hetauda\n",
       "2  pranjal     99  kathmandu"
      ]
     },
     "execution_count": 77,
     "metadata": {},
     "output_type": "execute_result"
    }
   ],
   "source": [
    "df.tail(2)#prints the column"
   ]
  },
  {
   "cell_type": "code",
   "execution_count": 78,
   "id": "95921eaf-06b6-4753-b315-68e13c396bac",
   "metadata": {},
   "outputs": [
    {
     "data": {
      "text/html": [
       "<div>\n",
       "<style scoped>\n",
       "    .dataframe tbody tr th:only-of-type {\n",
       "        vertical-align: middle;\n",
       "    }\n",
       "\n",
       "    .dataframe tbody tr th {\n",
       "        vertical-align: top;\n",
       "    }\n",
       "\n",
       "    .dataframe thead th {\n",
       "        text-align: right;\n",
       "    }\n",
       "</style>\n",
       "<table border=\"1\" class=\"dataframe\">\n",
       "  <thead>\n",
       "    <tr style=\"text-align: right;\">\n",
       "      <th></th>\n",
       "      <th>marks</th>\n",
       "    </tr>\n",
       "  </thead>\n",
       "  <tbody>\n",
       "    <tr>\n",
       "      <th>count</th>\n",
       "      <td>3.000000</td>\n",
       "    </tr>\n",
       "    <tr>\n",
       "      <th>mean</th>\n",
       "      <td>92.666667</td>\n",
       "    </tr>\n",
       "    <tr>\n",
       "      <th>std</th>\n",
       "      <td>5.507571</td>\n",
       "    </tr>\n",
       "    <tr>\n",
       "      <th>min</th>\n",
       "      <td>89.000000</td>\n",
       "    </tr>\n",
       "    <tr>\n",
       "      <th>25%</th>\n",
       "      <td>89.500000</td>\n",
       "    </tr>\n",
       "    <tr>\n",
       "      <th>50%</th>\n",
       "      <td>90.000000</td>\n",
       "    </tr>\n",
       "    <tr>\n",
       "      <th>75%</th>\n",
       "      <td>94.500000</td>\n",
       "    </tr>\n",
       "    <tr>\n",
       "      <th>max</th>\n",
       "      <td>99.000000</td>\n",
       "    </tr>\n",
       "  </tbody>\n",
       "</table>\n",
       "</div>"
      ],
      "text/plain": [
       "           marks\n",
       "count   3.000000\n",
       "mean   92.666667\n",
       "std     5.507571\n",
       "min    89.000000\n",
       "25%    89.500000\n",
       "50%    90.000000\n",
       "75%    94.500000\n",
       "max    99.000000"
      ]
     },
     "execution_count": 78,
     "metadata": {},
     "output_type": "execute_result"
    }
   ],
   "source": [
    "df.describe()#describes the numerical column"
   ]
  },
  {
   "cell_type": "code",
   "execution_count": 79,
   "id": "d6cbc88c-7a9e-43e8-b0f4-616782acfbb0",
   "metadata": {},
   "outputs": [],
   "source": [
    "pranjal= pd.read_csv('pranjal.csv')#reads file from folder"
   ]
  },
  {
   "cell_type": "code",
   "execution_count": 80,
   "id": "15f8a86a-5c64-4dd5-8073-8b60ae788218",
   "metadata": {},
   "outputs": [
    {
     "data": {
      "text/plain": [
       "45"
      ]
     },
     "execution_count": 80,
     "metadata": {},
     "output_type": "execute_result"
    }
   ],
   "source": [
    "pranjal['speed'][0]#shows which value is in the index 0"
   ]
  },
  {
   "cell_type": "code",
   "execution_count": 81,
   "id": "77781318-0772-4025-82df-ebea05668bdd",
   "metadata": {},
   "outputs": [
    {
     "data": {
      "text/html": [
       "<div>\n",
       "<style scoped>\n",
       "    .dataframe tbody tr th:only-of-type {\n",
       "        vertical-align: middle;\n",
       "    }\n",
       "\n",
       "    .dataframe tbody tr th {\n",
       "        vertical-align: top;\n",
       "    }\n",
       "\n",
       "    .dataframe thead th {\n",
       "        text-align: right;\n",
       "    }\n",
       "</style>\n",
       "<table border=\"1\" class=\"dataframe\">\n",
       "  <thead>\n",
       "    <tr style=\"text-align: right;\">\n",
       "      <th></th>\n",
       "      <th>Unnamed: 0.1</th>\n",
       "      <th>Unnamed: 0</th>\n",
       "      <th>train no</th>\n",
       "      <th>pilot name</th>\n",
       "      <th>speed</th>\n",
       "      <th>adress</th>\n",
       "    </tr>\n",
       "  </thead>\n",
       "  <tbody>\n",
       "    <tr>\n",
       "      <th>0</th>\n",
       "      <td>0</td>\n",
       "      <td>0</td>\n",
       "      <td>12345</td>\n",
       "      <td>harry</td>\n",
       "      <td>45</td>\n",
       "      <td>birgunj</td>\n",
       "    </tr>\n",
       "    <tr>\n",
       "      <th>1</th>\n",
       "      <td>1</td>\n",
       "      <td>1</td>\n",
       "      <td>67891</td>\n",
       "      <td>subham</td>\n",
       "      <td>90</td>\n",
       "      <td>hetauda</td>\n",
       "    </tr>\n",
       "    <tr>\n",
       "      <th>2</th>\n",
       "      <td>2</td>\n",
       "      <td>2</td>\n",
       "      <td>13222</td>\n",
       "      <td>pranjal</td>\n",
       "      <td>99</td>\n",
       "      <td>kathmandu</td>\n",
       "    </tr>\n",
       "  </tbody>\n",
       "</table>\n",
       "</div>"
      ],
      "text/plain": [
       "   Unnamed: 0.1  Unnamed: 0  train no pilot name  speed     adress\n",
       "0             0           0     12345      harry     45    birgunj\n",
       "1             1           1     67891     subham     90    hetauda\n",
       "2             2           2     13222    pranjal     99  kathmandu"
      ]
     },
     "execution_count": 81,
     "metadata": {},
     "output_type": "execute_result"
    }
   ],
   "source": [
    "pranjal"
   ]
  },
  {
   "cell_type": "code",
   "execution_count": 82,
   "id": "774a2688-3b34-43f8-b7ba-7e836bfa4388",
   "metadata": {},
   "outputs": [
    {
     "data": {
      "text/plain": [
       "0    45\n",
       "1    90\n",
       "2    99\n",
       "Name: speed, dtype: int64"
      ]
     },
     "execution_count": 82,
     "metadata": {},
     "output_type": "execute_result"
    }
   ],
   "source": [
    "pranjal['speed']"
   ]
  },
  {
   "cell_type": "code",
   "execution_count": 83,
   "id": "c4e15b17-916f-4fce-b15c-7317d0176bdb",
   "metadata": {},
   "outputs": [
    {
     "name": "stderr",
     "output_type": "stream",
     "text": [
      "C:\\Users\\HP\\AppData\\Local\\Temp\\ipykernel_1388\\3725862682.py:1: SettingWithCopyWarning: \n",
      "A value is trying to be set on a copy of a slice from a DataFrame\n",
      "\n",
      "See the caveats in the documentation: https://pandas.pydata.org/pandas-docs/stable/user_guide/indexing.html#returning-a-view-versus-a-copy\n",
      "  pranjal['speed'][0]=45\n"
     ]
    }
   ],
   "source": [
    "pranjal['speed'][0]=45"
   ]
  },
  {
   "cell_type": "code",
   "execution_count": 84,
   "id": "7257fd85-2643-4017-8fb3-7b06cddbe3dc",
   "metadata": {},
   "outputs": [
    {
     "data": {
      "text/html": [
       "<div>\n",
       "<style scoped>\n",
       "    .dataframe tbody tr th:only-of-type {\n",
       "        vertical-align: middle;\n",
       "    }\n",
       "\n",
       "    .dataframe tbody tr th {\n",
       "        vertical-align: top;\n",
       "    }\n",
       "\n",
       "    .dataframe thead th {\n",
       "        text-align: right;\n",
       "    }\n",
       "</style>\n",
       "<table border=\"1\" class=\"dataframe\">\n",
       "  <thead>\n",
       "    <tr style=\"text-align: right;\">\n",
       "      <th></th>\n",
       "      <th>Unnamed: 0.1</th>\n",
       "      <th>Unnamed: 0</th>\n",
       "      <th>train no</th>\n",
       "      <th>pilot name</th>\n",
       "      <th>speed</th>\n",
       "      <th>adress</th>\n",
       "    </tr>\n",
       "  </thead>\n",
       "  <tbody>\n",
       "    <tr>\n",
       "      <th>0</th>\n",
       "      <td>0</td>\n",
       "      <td>0</td>\n",
       "      <td>12345</td>\n",
       "      <td>harry</td>\n",
       "      <td>45</td>\n",
       "      <td>birgunj</td>\n",
       "    </tr>\n",
       "    <tr>\n",
       "      <th>1</th>\n",
       "      <td>1</td>\n",
       "      <td>1</td>\n",
       "      <td>67891</td>\n",
       "      <td>subham</td>\n",
       "      <td>90</td>\n",
       "      <td>hetauda</td>\n",
       "    </tr>\n",
       "    <tr>\n",
       "      <th>2</th>\n",
       "      <td>2</td>\n",
       "      <td>2</td>\n",
       "      <td>13222</td>\n",
       "      <td>pranjal</td>\n",
       "      <td>99</td>\n",
       "      <td>kathmandu</td>\n",
       "    </tr>\n",
       "  </tbody>\n",
       "</table>\n",
       "</div>"
      ],
      "text/plain": [
       "   Unnamed: 0.1  Unnamed: 0  train no pilot name  speed     adress\n",
       "0             0           0     12345      harry     45    birgunj\n",
       "1             1           1     67891     subham     90    hetauda\n",
       "2             2           2     13222    pranjal     99  kathmandu"
      ]
     },
     "execution_count": 84,
     "metadata": {},
     "output_type": "execute_result"
    }
   ],
   "source": [
    "pranjal"
   ]
  },
  {
   "cell_type": "code",
   "execution_count": 85,
   "id": "0ede02e9-85e0-456a-abf6-70313785d969",
   "metadata": {},
   "outputs": [],
   "source": [
    "pranjal.to_csv('pranjal.csv')"
   ]
  },
  {
   "cell_type": "code",
   "execution_count": 86,
   "id": "f2812aa2-bffb-4412-b0c8-29a69d3d40ec",
   "metadata": {},
   "outputs": [
    {
     "data": {
      "text/plain": [
       "13222"
      ]
     },
     "execution_count": 86,
     "metadata": {},
     "output_type": "execute_result"
    }
   ],
   "source": [
    "pranjal['train no'][2]"
   ]
  },
  {
   "cell_type": "code",
   "execution_count": 87,
   "id": "55326b0d-77d4-4ee6-843b-114c63a7473b",
   "metadata": {},
   "outputs": [
    {
     "name": "stderr",
     "output_type": "stream",
     "text": [
      "C:\\Users\\HP\\AppData\\Local\\Temp\\ipykernel_1388\\1665086430.py:1: SettingWithCopyWarning: \n",
      "A value is trying to be set on a copy of a slice from a DataFrame\n",
      "\n",
      "See the caveats in the documentation: https://pandas.pydata.org/pandas-docs/stable/user_guide/indexing.html#returning-a-view-versus-a-copy\n",
      "  pranjal['train no'][2]=13222\n"
     ]
    }
   ],
   "source": [
    "pranjal['train no'][2]=13222"
   ]
  },
  {
   "cell_type": "code",
   "execution_count": 88,
   "id": "c61fbc56-a8a6-4f6c-9f47-37d70f805245",
   "metadata": {},
   "outputs": [
    {
     "data": {
      "text/html": [
       "<div>\n",
       "<style scoped>\n",
       "    .dataframe tbody tr th:only-of-type {\n",
       "        vertical-align: middle;\n",
       "    }\n",
       "\n",
       "    .dataframe tbody tr th {\n",
       "        vertical-align: top;\n",
       "    }\n",
       "\n",
       "    .dataframe thead th {\n",
       "        text-align: right;\n",
       "    }\n",
       "</style>\n",
       "<table border=\"1\" class=\"dataframe\">\n",
       "  <thead>\n",
       "    <tr style=\"text-align: right;\">\n",
       "      <th></th>\n",
       "      <th>Unnamed: 0.1</th>\n",
       "      <th>Unnamed: 0</th>\n",
       "      <th>train no</th>\n",
       "      <th>pilot name</th>\n",
       "      <th>speed</th>\n",
       "      <th>adress</th>\n",
       "    </tr>\n",
       "  </thead>\n",
       "  <tbody>\n",
       "    <tr>\n",
       "      <th>0</th>\n",
       "      <td>0</td>\n",
       "      <td>0</td>\n",
       "      <td>12345</td>\n",
       "      <td>harry</td>\n",
       "      <td>45</td>\n",
       "      <td>birgunj</td>\n",
       "    </tr>\n",
       "    <tr>\n",
       "      <th>1</th>\n",
       "      <td>1</td>\n",
       "      <td>1</td>\n",
       "      <td>67891</td>\n",
       "      <td>subham</td>\n",
       "      <td>90</td>\n",
       "      <td>hetauda</td>\n",
       "    </tr>\n",
       "    <tr>\n",
       "      <th>2</th>\n",
       "      <td>2</td>\n",
       "      <td>2</td>\n",
       "      <td>13222</td>\n",
       "      <td>pranjal</td>\n",
       "      <td>99</td>\n",
       "      <td>kathmandu</td>\n",
       "    </tr>\n",
       "  </tbody>\n",
       "</table>\n",
       "</div>"
      ],
      "text/plain": [
       "   Unnamed: 0.1  Unnamed: 0  train no pilot name  speed     adress\n",
       "0             0           0     12345      harry     45    birgunj\n",
       "1             1           1     67891     subham     90    hetauda\n",
       "2             2           2     13222    pranjal     99  kathmandu"
      ]
     },
     "execution_count": 88,
     "metadata": {},
     "output_type": "execute_result"
    }
   ],
   "source": [
    "pranjal"
   ]
  },
  {
   "cell_type": "code",
   "execution_count": 89,
   "id": "96d63449-ec4e-46e5-82fa-fa4f54117ce3",
   "metadata": {},
   "outputs": [],
   "source": [
    "pranjal.to_csv('pranjal.csv')"
   ]
  },
  {
   "cell_type": "code",
   "execution_count": 90,
   "id": "cf7ecfc9-de2c-430a-88a1-9f1bad3ccde7",
   "metadata": {},
   "outputs": [],
   "source": [
    "pranjal.speed=[78,56,89]#this syntax can change anything"
   ]
  },
  {
   "cell_type": "code",
   "execution_count": 91,
   "id": "eccdbc27-e8d1-4179-8099-07d6c97cddb5",
   "metadata": {},
   "outputs": [
    {
     "data": {
      "text/html": [
       "<div>\n",
       "<style scoped>\n",
       "    .dataframe tbody tr th:only-of-type {\n",
       "        vertical-align: middle;\n",
       "    }\n",
       "\n",
       "    .dataframe tbody tr th {\n",
       "        vertical-align: top;\n",
       "    }\n",
       "\n",
       "    .dataframe thead th {\n",
       "        text-align: right;\n",
       "    }\n",
       "</style>\n",
       "<table border=\"1\" class=\"dataframe\">\n",
       "  <thead>\n",
       "    <tr style=\"text-align: right;\">\n",
       "      <th></th>\n",
       "      <th>Unnamed: 0.1</th>\n",
       "      <th>Unnamed: 0</th>\n",
       "      <th>train no</th>\n",
       "      <th>pilot name</th>\n",
       "      <th>speed</th>\n",
       "      <th>adress</th>\n",
       "    </tr>\n",
       "  </thead>\n",
       "  <tbody>\n",
       "    <tr>\n",
       "      <th>0</th>\n",
       "      <td>0</td>\n",
       "      <td>0</td>\n",
       "      <td>12345</td>\n",
       "      <td>harry</td>\n",
       "      <td>78</td>\n",
       "      <td>birgunj</td>\n",
       "    </tr>\n",
       "    <tr>\n",
       "      <th>1</th>\n",
       "      <td>1</td>\n",
       "      <td>1</td>\n",
       "      <td>67891</td>\n",
       "      <td>subham</td>\n",
       "      <td>56</td>\n",
       "      <td>hetauda</td>\n",
       "    </tr>\n",
       "    <tr>\n",
       "      <th>2</th>\n",
       "      <td>2</td>\n",
       "      <td>2</td>\n",
       "      <td>13222</td>\n",
       "      <td>pranjal</td>\n",
       "      <td>89</td>\n",
       "      <td>kathmandu</td>\n",
       "    </tr>\n",
       "  </tbody>\n",
       "</table>\n",
       "</div>"
      ],
      "text/plain": [
       "   Unnamed: 0.1  Unnamed: 0  train no pilot name  speed     adress\n",
       "0             0           0     12345      harry     78    birgunj\n",
       "1             1           1     67891     subham     56    hetauda\n",
       "2             2           2     13222    pranjal     89  kathmandu"
      ]
     },
     "execution_count": 91,
     "metadata": {},
     "output_type": "execute_result"
    }
   ],
   "source": [
    "pranjal"
   ]
  },
  {
   "cell_type": "code",
   "execution_count": 92,
   "id": "1cc1d3e6-b47a-4b26-a34b-700171ca36a2",
   "metadata": {},
   "outputs": [],
   "source": [
    "pranjal.index=['first','second','third']#changes index "
   ]
  },
  {
   "cell_type": "code",
   "execution_count": 93,
   "id": "3ce28b5f-b613-483e-af46-62e04970a018",
   "metadata": {},
   "outputs": [
    {
     "data": {
      "text/html": [
       "<div>\n",
       "<style scoped>\n",
       "    .dataframe tbody tr th:only-of-type {\n",
       "        vertical-align: middle;\n",
       "    }\n",
       "\n",
       "    .dataframe tbody tr th {\n",
       "        vertical-align: top;\n",
       "    }\n",
       "\n",
       "    .dataframe thead th {\n",
       "        text-align: right;\n",
       "    }\n",
       "</style>\n",
       "<table border=\"1\" class=\"dataframe\">\n",
       "  <thead>\n",
       "    <tr style=\"text-align: right;\">\n",
       "      <th></th>\n",
       "      <th>Unnamed: 0.1</th>\n",
       "      <th>Unnamed: 0</th>\n",
       "      <th>train no</th>\n",
       "      <th>pilot name</th>\n",
       "      <th>speed</th>\n",
       "      <th>adress</th>\n",
       "    </tr>\n",
       "  </thead>\n",
       "  <tbody>\n",
       "    <tr>\n",
       "      <th>first</th>\n",
       "      <td>0</td>\n",
       "      <td>0</td>\n",
       "      <td>12345</td>\n",
       "      <td>harry</td>\n",
       "      <td>78</td>\n",
       "      <td>birgunj</td>\n",
       "    </tr>\n",
       "    <tr>\n",
       "      <th>second</th>\n",
       "      <td>1</td>\n",
       "      <td>1</td>\n",
       "      <td>67891</td>\n",
       "      <td>subham</td>\n",
       "      <td>56</td>\n",
       "      <td>hetauda</td>\n",
       "    </tr>\n",
       "    <tr>\n",
       "      <th>third</th>\n",
       "      <td>2</td>\n",
       "      <td>2</td>\n",
       "      <td>13222</td>\n",
       "      <td>pranjal</td>\n",
       "      <td>89</td>\n",
       "      <td>kathmandu</td>\n",
       "    </tr>\n",
       "  </tbody>\n",
       "</table>\n",
       "</div>"
      ],
      "text/plain": [
       "        Unnamed: 0.1  Unnamed: 0  train no pilot name  speed     adress\n",
       "first              0           0     12345      harry     78    birgunj\n",
       "second             1           1     67891     subham     56    hetauda\n",
       "third              2           2     13222    pranjal     89  kathmandu"
      ]
     },
     "execution_count": 93,
     "metadata": {},
     "output_type": "execute_result"
    }
   ],
   "source": [
    "pranjal"
   ]
  },
  {
   "cell_type": "code",
   "execution_count": 94,
   "id": "8ad0dd9f-e8e7-44be-9733-e29b55d44605",
   "metadata": {},
   "outputs": [],
   "source": [
    "pranjal.index=['first','second','third']"
   ]
  },
  {
   "cell_type": "code",
   "execution_count": 95,
   "id": "14e581de-92a6-44ab-9296-2b6eb90da373",
   "metadata": {},
   "outputs": [
    {
     "data": {
      "text/html": [
       "<div>\n",
       "<style scoped>\n",
       "    .dataframe tbody tr th:only-of-type {\n",
       "        vertical-align: middle;\n",
       "    }\n",
       "\n",
       "    .dataframe tbody tr th {\n",
       "        vertical-align: top;\n",
       "    }\n",
       "\n",
       "    .dataframe thead th {\n",
       "        text-align: right;\n",
       "    }\n",
       "</style>\n",
       "<table border=\"1\" class=\"dataframe\">\n",
       "  <thead>\n",
       "    <tr style=\"text-align: right;\">\n",
       "      <th></th>\n",
       "      <th>Unnamed: 0.1</th>\n",
       "      <th>Unnamed: 0</th>\n",
       "      <th>train no</th>\n",
       "      <th>pilot name</th>\n",
       "      <th>speed</th>\n",
       "      <th>adress</th>\n",
       "    </tr>\n",
       "  </thead>\n",
       "  <tbody>\n",
       "    <tr>\n",
       "      <th>first</th>\n",
       "      <td>0</td>\n",
       "      <td>0</td>\n",
       "      <td>12345</td>\n",
       "      <td>harry</td>\n",
       "      <td>78</td>\n",
       "      <td>birgunj</td>\n",
       "    </tr>\n",
       "    <tr>\n",
       "      <th>second</th>\n",
       "      <td>1</td>\n",
       "      <td>1</td>\n",
       "      <td>67891</td>\n",
       "      <td>subham</td>\n",
       "      <td>56</td>\n",
       "      <td>hetauda</td>\n",
       "    </tr>\n",
       "    <tr>\n",
       "      <th>third</th>\n",
       "      <td>2</td>\n",
       "      <td>2</td>\n",
       "      <td>13222</td>\n",
       "      <td>pranjal</td>\n",
       "      <td>89</td>\n",
       "      <td>kathmandu</td>\n",
       "    </tr>\n",
       "  </tbody>\n",
       "</table>\n",
       "</div>"
      ],
      "text/plain": [
       "        Unnamed: 0.1  Unnamed: 0  train no pilot name  speed     adress\n",
       "first              0           0     12345      harry     78    birgunj\n",
       "second             1           1     67891     subham     56    hetauda\n",
       "third              2           2     13222    pranjal     89  kathmandu"
      ]
     },
     "execution_count": 95,
     "metadata": {},
     "output_type": "execute_result"
    }
   ],
   "source": [
    "pranjal"
   ]
  },
  {
   "cell_type": "code",
   "execution_count": 96,
   "id": "fe6970f8-e307-4109-9b9f-e68d6e2cfaca",
   "metadata": {},
   "outputs": [],
   "source": [
    "ser=pd.Series(np.random.rand(34))"
   ]
  },
  {
   "cell_type": "code",
   "execution_count": 97,
   "id": "ae01bc68-3d43-4109-91ef-ef7947b96f48",
   "metadata": {},
   "outputs": [
    {
     "data": {
      "text/plain": [
       "pandas.core.series.Series"
      ]
     },
     "execution_count": 97,
     "metadata": {},
     "output_type": "execute_result"
    }
   ],
   "source": [
    "type(ser)"
   ]
  },
  {
   "cell_type": "code",
   "execution_count": 98,
   "id": "36b4483c-3332-4aee-9c81-6d986e5dbb53",
   "metadata": {},
   "outputs": [
    {
     "data": {
      "text/plain": [
       "0     0.915845\n",
       "1     0.277511\n",
       "2     0.619333\n",
       "3     0.975168\n",
       "4     0.247673\n",
       "5     0.135787\n",
       "6     0.534515\n",
       "7     0.940396\n",
       "8     0.783636\n",
       "9     0.269402\n",
       "10    0.581354\n",
       "11    0.950964\n",
       "12    0.347790\n",
       "13    0.560867\n",
       "14    0.684142\n",
       "15    0.164882\n",
       "16    0.062925\n",
       "17    0.723380\n",
       "18    0.934595\n",
       "19    0.296202\n",
       "20    0.910340\n",
       "21    0.817685\n",
       "22    0.982004\n",
       "23    0.870489\n",
       "24    0.406591\n",
       "25    0.456049\n",
       "26    0.246701\n",
       "27    0.414042\n",
       "28    0.857435\n",
       "29    0.179848\n",
       "30    0.429611\n",
       "31    0.357363\n",
       "32    0.471823\n",
       "33    0.066074\n",
       "dtype: float64"
      ]
     },
     "execution_count": 98,
     "metadata": {},
     "output_type": "execute_result"
    }
   ],
   "source": [
    "ser"
   ]
  },
  {
   "cell_type": "code",
   "execution_count": 99,
   "id": "3650f3fe-d01c-4ceb-891e-5cc81383368f",
   "metadata": {},
   "outputs": [],
   "source": [
    "newdf=pd.DataFrame(np.random.rand(334,5))#generate random number from 0-1of 334by 5 order"
   ]
  },
  {
   "cell_type": "code",
   "execution_count": 100,
   "id": "137f8cf7-75fc-4f58-a9aa-945990ed13e3",
   "metadata": {},
   "outputs": [
    {
     "data": {
      "text/html": [
       "<div>\n",
       "<style scoped>\n",
       "    .dataframe tbody tr th:only-of-type {\n",
       "        vertical-align: middle;\n",
       "    }\n",
       "\n",
       "    .dataframe tbody tr th {\n",
       "        vertical-align: top;\n",
       "    }\n",
       "\n",
       "    .dataframe thead th {\n",
       "        text-align: right;\n",
       "    }\n",
       "</style>\n",
       "<table border=\"1\" class=\"dataframe\">\n",
       "  <thead>\n",
       "    <tr style=\"text-align: right;\">\n",
       "      <th></th>\n",
       "      <th>0</th>\n",
       "      <th>1</th>\n",
       "      <th>2</th>\n",
       "      <th>3</th>\n",
       "      <th>4</th>\n",
       "    </tr>\n",
       "  </thead>\n",
       "  <tbody>\n",
       "    <tr>\n",
       "      <th>0</th>\n",
       "      <td>0.737146</td>\n",
       "      <td>0.241934</td>\n",
       "      <td>0.179161</td>\n",
       "      <td>0.581572</td>\n",
       "      <td>0.426221</td>\n",
       "    </tr>\n",
       "    <tr>\n",
       "      <th>1</th>\n",
       "      <td>0.724851</td>\n",
       "      <td>0.573840</td>\n",
       "      <td>0.703963</td>\n",
       "      <td>0.285495</td>\n",
       "      <td>0.874050</td>\n",
       "    </tr>\n",
       "    <tr>\n",
       "      <th>2</th>\n",
       "      <td>0.069039</td>\n",
       "      <td>0.624153</td>\n",
       "      <td>0.710759</td>\n",
       "      <td>0.164209</td>\n",
       "      <td>0.687675</td>\n",
       "    </tr>\n",
       "    <tr>\n",
       "      <th>3</th>\n",
       "      <td>0.446299</td>\n",
       "      <td>0.233823</td>\n",
       "      <td>0.618435</td>\n",
       "      <td>0.389579</td>\n",
       "      <td>0.179922</td>\n",
       "    </tr>\n",
       "    <tr>\n",
       "      <th>4</th>\n",
       "      <td>0.000149</td>\n",
       "      <td>0.144515</td>\n",
       "      <td>0.041252</td>\n",
       "      <td>0.921733</td>\n",
       "      <td>0.052663</td>\n",
       "    </tr>\n",
       "    <tr>\n",
       "      <th>...</th>\n",
       "      <td>...</td>\n",
       "      <td>...</td>\n",
       "      <td>...</td>\n",
       "      <td>...</td>\n",
       "      <td>...</td>\n",
       "    </tr>\n",
       "    <tr>\n",
       "      <th>329</th>\n",
       "      <td>0.935349</td>\n",
       "      <td>0.849615</td>\n",
       "      <td>0.142253</td>\n",
       "      <td>0.033243</td>\n",
       "      <td>0.192692</td>\n",
       "    </tr>\n",
       "    <tr>\n",
       "      <th>330</th>\n",
       "      <td>0.972089</td>\n",
       "      <td>0.122026</td>\n",
       "      <td>0.304454</td>\n",
       "      <td>0.572321</td>\n",
       "      <td>0.509655</td>\n",
       "    </tr>\n",
       "    <tr>\n",
       "      <th>331</th>\n",
       "      <td>0.081118</td>\n",
       "      <td>0.292882</td>\n",
       "      <td>0.528585</td>\n",
       "      <td>0.133788</td>\n",
       "      <td>0.412033</td>\n",
       "    </tr>\n",
       "    <tr>\n",
       "      <th>332</th>\n",
       "      <td>0.245113</td>\n",
       "      <td>0.561250</td>\n",
       "      <td>0.885682</td>\n",
       "      <td>0.164834</td>\n",
       "      <td>0.578285</td>\n",
       "    </tr>\n",
       "    <tr>\n",
       "      <th>333</th>\n",
       "      <td>0.744827</td>\n",
       "      <td>0.031921</td>\n",
       "      <td>0.795566</td>\n",
       "      <td>0.386392</td>\n",
       "      <td>0.920613</td>\n",
       "    </tr>\n",
       "  </tbody>\n",
       "</table>\n",
       "<p>334 rows × 5 columns</p>\n",
       "</div>"
      ],
      "text/plain": [
       "            0         1         2         3         4\n",
       "0    0.737146  0.241934  0.179161  0.581572  0.426221\n",
       "1    0.724851  0.573840  0.703963  0.285495  0.874050\n",
       "2    0.069039  0.624153  0.710759  0.164209  0.687675\n",
       "3    0.446299  0.233823  0.618435  0.389579  0.179922\n",
       "4    0.000149  0.144515  0.041252  0.921733  0.052663\n",
       "..        ...       ...       ...       ...       ...\n",
       "329  0.935349  0.849615  0.142253  0.033243  0.192692\n",
       "330  0.972089  0.122026  0.304454  0.572321  0.509655\n",
       "331  0.081118  0.292882  0.528585  0.133788  0.412033\n",
       "332  0.245113  0.561250  0.885682  0.164834  0.578285\n",
       "333  0.744827  0.031921  0.795566  0.386392  0.920613\n",
       "\n",
       "[334 rows x 5 columns]"
      ]
     },
     "execution_count": 100,
     "metadata": {},
     "output_type": "execute_result"
    }
   ],
   "source": [
    "newdf"
   ]
  },
  {
   "cell_type": "code",
   "execution_count": 101,
   "id": "66365512-51da-4179-bd38-70e9f1ccbc00",
   "metadata": {},
   "outputs": [
    {
     "data": {
      "text/plain": [
       "pandas.core.frame.DataFrame"
      ]
     },
     "execution_count": 101,
     "metadata": {},
     "output_type": "execute_result"
    }
   ],
   "source": [
    "type(newdf)"
   ]
  },
  {
   "cell_type": "code",
   "execution_count": 102,
   "id": "457b94ab-77a4-4098-8f76-da901dbc9b0e",
   "metadata": {},
   "outputs": [
    {
     "data": {
      "text/html": [
       "<div>\n",
       "<style scoped>\n",
       "    .dataframe tbody tr th:only-of-type {\n",
       "        vertical-align: middle;\n",
       "    }\n",
       "\n",
       "    .dataframe tbody tr th {\n",
       "        vertical-align: top;\n",
       "    }\n",
       "\n",
       "    .dataframe thead th {\n",
       "        text-align: right;\n",
       "    }\n",
       "</style>\n",
       "<table border=\"1\" class=\"dataframe\">\n",
       "  <thead>\n",
       "    <tr style=\"text-align: right;\">\n",
       "      <th></th>\n",
       "      <th>0</th>\n",
       "      <th>1</th>\n",
       "      <th>2</th>\n",
       "      <th>3</th>\n",
       "      <th>4</th>\n",
       "    </tr>\n",
       "  </thead>\n",
       "  <tbody>\n",
       "    <tr>\n",
       "      <th>0</th>\n",
       "      <td>0.737146</td>\n",
       "      <td>0.241934</td>\n",
       "      <td>0.179161</td>\n",
       "      <td>0.581572</td>\n",
       "      <td>0.426221</td>\n",
       "    </tr>\n",
       "    <tr>\n",
       "      <th>1</th>\n",
       "      <td>0.724851</td>\n",
       "      <td>0.573840</td>\n",
       "      <td>0.703963</td>\n",
       "      <td>0.285495</td>\n",
       "      <td>0.874050</td>\n",
       "    </tr>\n",
       "    <tr>\n",
       "      <th>2</th>\n",
       "      <td>0.069039</td>\n",
       "      <td>0.624153</td>\n",
       "      <td>0.710759</td>\n",
       "      <td>0.164209</td>\n",
       "      <td>0.687675</td>\n",
       "    </tr>\n",
       "    <tr>\n",
       "      <th>3</th>\n",
       "      <td>0.446299</td>\n",
       "      <td>0.233823</td>\n",
       "      <td>0.618435</td>\n",
       "      <td>0.389579</td>\n",
       "      <td>0.179922</td>\n",
       "    </tr>\n",
       "    <tr>\n",
       "      <th>4</th>\n",
       "      <td>0.000149</td>\n",
       "      <td>0.144515</td>\n",
       "      <td>0.041252</td>\n",
       "      <td>0.921733</td>\n",
       "      <td>0.052663</td>\n",
       "    </tr>\n",
       "  </tbody>\n",
       "</table>\n",
       "</div>"
      ],
      "text/plain": [
       "          0         1         2         3         4\n",
       "0  0.737146  0.241934  0.179161  0.581572  0.426221\n",
       "1  0.724851  0.573840  0.703963  0.285495  0.874050\n",
       "2  0.069039  0.624153  0.710759  0.164209  0.687675\n",
       "3  0.446299  0.233823  0.618435  0.389579  0.179922\n",
       "4  0.000149  0.144515  0.041252  0.921733  0.052663"
      ]
     },
     "execution_count": 102,
     "metadata": {},
     "output_type": "execute_result"
    }
   ],
   "source": [
    "newdf.head()#prints head only"
   ]
  },
  {
   "cell_type": "code",
   "execution_count": 103,
   "id": "b074949d-921b-4e04-b863-30e87c7df136",
   "metadata": {},
   "outputs": [
    {
     "data": {
      "text/html": [
       "<div>\n",
       "<style scoped>\n",
       "    .dataframe tbody tr th:only-of-type {\n",
       "        vertical-align: middle;\n",
       "    }\n",
       "\n",
       "    .dataframe tbody tr th {\n",
       "        vertical-align: top;\n",
       "    }\n",
       "\n",
       "    .dataframe thead th {\n",
       "        text-align: right;\n",
       "    }\n",
       "</style>\n",
       "<table border=\"1\" class=\"dataframe\">\n",
       "  <thead>\n",
       "    <tr style=\"text-align: right;\">\n",
       "      <th></th>\n",
       "      <th>0</th>\n",
       "      <th>1</th>\n",
       "      <th>2</th>\n",
       "      <th>3</th>\n",
       "      <th>4</th>\n",
       "    </tr>\n",
       "  </thead>\n",
       "  <tbody>\n",
       "    <tr>\n",
       "      <th>count</th>\n",
       "      <td>334.000000</td>\n",
       "      <td>334.000000</td>\n",
       "      <td>334.000000</td>\n",
       "      <td>334.000000</td>\n",
       "      <td>334.000000</td>\n",
       "    </tr>\n",
       "    <tr>\n",
       "      <th>mean</th>\n",
       "      <td>0.474388</td>\n",
       "      <td>0.478049</td>\n",
       "      <td>0.490853</td>\n",
       "      <td>0.456448</td>\n",
       "      <td>0.501095</td>\n",
       "    </tr>\n",
       "    <tr>\n",
       "      <th>std</th>\n",
       "      <td>0.295772</td>\n",
       "      <td>0.293219</td>\n",
       "      <td>0.286114</td>\n",
       "      <td>0.288330</td>\n",
       "      <td>0.286956</td>\n",
       "    </tr>\n",
       "    <tr>\n",
       "      <th>min</th>\n",
       "      <td>0.000149</td>\n",
       "      <td>0.000997</td>\n",
       "      <td>0.003936</td>\n",
       "      <td>0.000815</td>\n",
       "      <td>0.001534</td>\n",
       "    </tr>\n",
       "    <tr>\n",
       "      <th>25%</th>\n",
       "      <td>0.201255</td>\n",
       "      <td>0.220578</td>\n",
       "      <td>0.248400</td>\n",
       "      <td>0.208829</td>\n",
       "      <td>0.248198</td>\n",
       "    </tr>\n",
       "    <tr>\n",
       "      <th>50%</th>\n",
       "      <td>0.461331</td>\n",
       "      <td>0.474162</td>\n",
       "      <td>0.495159</td>\n",
       "      <td>0.442299</td>\n",
       "      <td>0.516121</td>\n",
       "    </tr>\n",
       "    <tr>\n",
       "      <th>75%</th>\n",
       "      <td>0.729787</td>\n",
       "      <td>0.743162</td>\n",
       "      <td>0.732418</td>\n",
       "      <td>0.682514</td>\n",
       "      <td>0.740431</td>\n",
       "    </tr>\n",
       "    <tr>\n",
       "      <th>max</th>\n",
       "      <td>0.997752</td>\n",
       "      <td>0.998867</td>\n",
       "      <td>0.998329</td>\n",
       "      <td>0.997017</td>\n",
       "      <td>0.993482</td>\n",
       "    </tr>\n",
       "  </tbody>\n",
       "</table>\n",
       "</div>"
      ],
      "text/plain": [
       "                0           1           2           3           4\n",
       "count  334.000000  334.000000  334.000000  334.000000  334.000000\n",
       "mean     0.474388    0.478049    0.490853    0.456448    0.501095\n",
       "std      0.295772    0.293219    0.286114    0.288330    0.286956\n",
       "min      0.000149    0.000997    0.003936    0.000815    0.001534\n",
       "25%      0.201255    0.220578    0.248400    0.208829    0.248198\n",
       "50%      0.461331    0.474162    0.495159    0.442299    0.516121\n",
       "75%      0.729787    0.743162    0.732418    0.682514    0.740431\n",
       "max      0.997752    0.998867    0.998329    0.997017    0.993482"
      ]
     },
     "execution_count": 103,
     "metadata": {},
     "output_type": "execute_result"
    }
   ],
   "source": [
    "newdf.describe()"
   ]
  },
  {
   "cell_type": "code",
   "execution_count": 104,
   "id": "c91de223-fc2c-4cdd-b28e-03b7ac503122",
   "metadata": {},
   "outputs": [
    {
     "data": {
      "text/plain": [
       "0    float64\n",
       "1    float64\n",
       "2    float64\n",
       "3    float64\n",
       "4    float64\n",
       "dtype: object"
      ]
     },
     "execution_count": 104,
     "metadata": {},
     "output_type": "execute_result"
    }
   ],
   "source": [
    "newdf.dtypes"
   ]
  },
  {
   "cell_type": "code",
   "execution_count": 105,
   "id": "0d7a101d-c67f-49e7-a189-59da0d2d3fb9",
   "metadata": {},
   "outputs": [],
   "source": [
    "newdf[0][0] =\"pranjal\""
   ]
  },
  {
   "cell_type": "code",
   "execution_count": 106,
   "id": "9b3d54c2-0748-43ed-a0bf-e685e50e2bdd",
   "metadata": {},
   "outputs": [
    {
     "data": {
      "text/html": [
       "<div>\n",
       "<style scoped>\n",
       "    .dataframe tbody tr th:only-of-type {\n",
       "        vertical-align: middle;\n",
       "    }\n",
       "\n",
       "    .dataframe tbody tr th {\n",
       "        vertical-align: top;\n",
       "    }\n",
       "\n",
       "    .dataframe thead th {\n",
       "        text-align: right;\n",
       "    }\n",
       "</style>\n",
       "<table border=\"1\" class=\"dataframe\">\n",
       "  <thead>\n",
       "    <tr style=\"text-align: right;\">\n",
       "      <th></th>\n",
       "      <th>0</th>\n",
       "      <th>1</th>\n",
       "      <th>2</th>\n",
       "      <th>3</th>\n",
       "      <th>4</th>\n",
       "    </tr>\n",
       "  </thead>\n",
       "  <tbody>\n",
       "    <tr>\n",
       "      <th>0</th>\n",
       "      <td>pranjal</td>\n",
       "      <td>0.241934</td>\n",
       "      <td>0.179161</td>\n",
       "      <td>0.581572</td>\n",
       "      <td>0.426221</td>\n",
       "    </tr>\n",
       "    <tr>\n",
       "      <th>1</th>\n",
       "      <td>0.724851</td>\n",
       "      <td>0.573840</td>\n",
       "      <td>0.703963</td>\n",
       "      <td>0.285495</td>\n",
       "      <td>0.874050</td>\n",
       "    </tr>\n",
       "    <tr>\n",
       "      <th>2</th>\n",
       "      <td>0.069039</td>\n",
       "      <td>0.624153</td>\n",
       "      <td>0.710759</td>\n",
       "      <td>0.164209</td>\n",
       "      <td>0.687675</td>\n",
       "    </tr>\n",
       "    <tr>\n",
       "      <th>3</th>\n",
       "      <td>0.446299</td>\n",
       "      <td>0.233823</td>\n",
       "      <td>0.618435</td>\n",
       "      <td>0.389579</td>\n",
       "      <td>0.179922</td>\n",
       "    </tr>\n",
       "    <tr>\n",
       "      <th>4</th>\n",
       "      <td>0.000149</td>\n",
       "      <td>0.144515</td>\n",
       "      <td>0.041252</td>\n",
       "      <td>0.921733</td>\n",
       "      <td>0.052663</td>\n",
       "    </tr>\n",
       "  </tbody>\n",
       "</table>\n",
       "</div>"
      ],
      "text/plain": [
       "          0         1         2         3         4\n",
       "0   pranjal  0.241934  0.179161  0.581572  0.426221\n",
       "1  0.724851  0.573840  0.703963  0.285495  0.874050\n",
       "2  0.069039  0.624153  0.710759  0.164209  0.687675\n",
       "3  0.446299  0.233823  0.618435  0.389579  0.179922\n",
       "4  0.000149  0.144515  0.041252  0.921733  0.052663"
      ]
     },
     "execution_count": 106,
     "metadata": {},
     "output_type": "execute_result"
    }
   ],
   "source": [
    "newdf.head()"
   ]
  },
  {
   "cell_type": "code",
   "execution_count": 107,
   "id": "6da7d8fe-36b3-4398-bf97-19fd27caffe7",
   "metadata": {},
   "outputs": [
    {
     "name": "stderr",
     "output_type": "stream",
     "text": [
      "C:\\Users\\HP\\AppData\\Local\\Temp\\ipykernel_1388\\2950907591.py:1: SettingWithCopyWarning: \n",
      "A value is trying to be set on a copy of a slice from a DataFrame\n",
      "\n",
      "See the caveats in the documentation: https://pandas.pydata.org/pandas-docs/stable/user_guide/indexing.html#returning-a-view-versus-a-copy\n",
      "  newdf[1][2]=\"sweeta\"#changes in the dataframe\n"
     ]
    }
   ],
   "source": [
    "newdf[1][2]=\"sweeta\"#changes in the dataframe"
   ]
  },
  {
   "cell_type": "code",
   "execution_count": 108,
   "id": "b0086a6e-d8d6-47e1-b0c5-0964f1aeeba7",
   "metadata": {},
   "outputs": [
    {
     "data": {
      "text/html": [
       "<div>\n",
       "<style scoped>\n",
       "    .dataframe tbody tr th:only-of-type {\n",
       "        vertical-align: middle;\n",
       "    }\n",
       "\n",
       "    .dataframe tbody tr th {\n",
       "        vertical-align: top;\n",
       "    }\n",
       "\n",
       "    .dataframe thead th {\n",
       "        text-align: right;\n",
       "    }\n",
       "</style>\n",
       "<table border=\"1\" class=\"dataframe\">\n",
       "  <thead>\n",
       "    <tr style=\"text-align: right;\">\n",
       "      <th></th>\n",
       "      <th>0</th>\n",
       "      <th>1</th>\n",
       "      <th>2</th>\n",
       "      <th>3</th>\n",
       "      <th>4</th>\n",
       "    </tr>\n",
       "  </thead>\n",
       "  <tbody>\n",
       "    <tr>\n",
       "      <th>0</th>\n",
       "      <td>pranjal</td>\n",
       "      <td>0.241934</td>\n",
       "      <td>0.179161</td>\n",
       "      <td>0.581572</td>\n",
       "      <td>0.426221</td>\n",
       "    </tr>\n",
       "    <tr>\n",
       "      <th>1</th>\n",
       "      <td>0.724851</td>\n",
       "      <td>0.57384</td>\n",
       "      <td>0.703963</td>\n",
       "      <td>0.285495</td>\n",
       "      <td>0.874050</td>\n",
       "    </tr>\n",
       "    <tr>\n",
       "      <th>2</th>\n",
       "      <td>0.069039</td>\n",
       "      <td>sweeta</td>\n",
       "      <td>0.710759</td>\n",
       "      <td>0.164209</td>\n",
       "      <td>0.687675</td>\n",
       "    </tr>\n",
       "    <tr>\n",
       "      <th>3</th>\n",
       "      <td>0.446299</td>\n",
       "      <td>0.233823</td>\n",
       "      <td>0.618435</td>\n",
       "      <td>0.389579</td>\n",
       "      <td>0.179922</td>\n",
       "    </tr>\n",
       "    <tr>\n",
       "      <th>4</th>\n",
       "      <td>0.000149</td>\n",
       "      <td>0.144515</td>\n",
       "      <td>0.041252</td>\n",
       "      <td>0.921733</td>\n",
       "      <td>0.052663</td>\n",
       "    </tr>\n",
       "  </tbody>\n",
       "</table>\n",
       "</div>"
      ],
      "text/plain": [
       "          0         1         2         3         4\n",
       "0   pranjal  0.241934  0.179161  0.581572  0.426221\n",
       "1  0.724851   0.57384  0.703963  0.285495  0.874050\n",
       "2  0.069039    sweeta  0.710759  0.164209  0.687675\n",
       "3  0.446299  0.233823  0.618435  0.389579  0.179922\n",
       "4  0.000149  0.144515  0.041252  0.921733  0.052663"
      ]
     },
     "execution_count": 108,
     "metadata": {},
     "output_type": "execute_result"
    }
   ],
   "source": [
    "newdf.head()"
   ]
  },
  {
   "cell_type": "code",
   "execution_count": 109,
   "id": "b8f6b762-457d-4def-858f-d873f101fb1c",
   "metadata": {},
   "outputs": [
    {
     "data": {
      "text/plain": [
       "0     object\n",
       "1     object\n",
       "2    float64\n",
       "3    float64\n",
       "4    float64\n",
       "dtype: object"
      ]
     },
     "execution_count": 109,
     "metadata": {},
     "output_type": "execute_result"
    }
   ],
   "source": [
    "newdf.dtypes#shows datattypes"
   ]
  },
  {
   "cell_type": "code",
   "execution_count": 110,
   "id": "79771fd2-df3d-47cc-875f-9b1e89355052",
   "metadata": {},
   "outputs": [
    {
     "data": {
      "text/plain": [
       "RangeIndex(start=0, stop=334, step=1)"
      ]
     },
     "execution_count": 110,
     "metadata": {},
     "output_type": "execute_result"
    }
   ],
   "source": [
    "newdf.index#shows index"
   ]
  },
  {
   "cell_type": "code",
   "execution_count": 111,
   "id": "7ea32160-f5ba-49af-b167-a61c66b3b79e",
   "metadata": {},
   "outputs": [
    {
     "data": {
      "text/plain": [
       "RangeIndex(start=0, stop=5, step=1)"
      ]
     },
     "execution_count": 111,
     "metadata": {},
     "output_type": "execute_result"
    }
   ],
   "source": [
    "newdf.columns#SHOWS NUMBER OF COLUMN"
   ]
  },
  {
   "cell_type": "code",
   "execution_count": 114,
   "id": "7af56b48-70bb-43db-bc1f-c38d05a7682e",
   "metadata": {},
   "outputs": [
    {
     "data": {
      "text/plain": [
       "array([['pranjal', 0.24193409250598108, 0.17916078402547198,\n",
       "        0.5815724677738664, 0.42622149671322607],\n",
       "       [0.7248510034436979, 0.5738403162450623, 0.7039632688219651,\n",
       "        0.285495127172971, 0.874049598649421],\n",
       "       [0.06903939948337923, 'sweeta', 0.7107585036051649,\n",
       "        0.16420928195833928, 0.6876754656203897],\n",
       "       ...,\n",
       "       [0.08111799403457454, 0.2928819275935759, 0.5285848477349108,\n",
       "        0.13378836503415115, 0.4120327927335944],\n",
       "       [0.24511305063892175, 0.5612503479258485, 0.885682158853012,\n",
       "        0.16483355813252587, 0.5782853859430781],\n",
       "       [0.7448272431033285, 0.03192129408883271, 0.7955659137394671,\n",
       "        0.3863916902553104, 0.9206129012838311]], dtype=object)"
      ]
     },
     "execution_count": 114,
     "metadata": {},
     "output_type": "execute_result"
    }
   ],
   "source": [
    "newdf.to_numpy()#if we change the strings to an integer its datatype will remain object"
   ]
  },
  {
   "cell_type": "code",
   "execution_count": 116,
   "id": "96629535-7880-4428-93bf-b2d6173baedd",
   "metadata": {},
   "outputs": [
    {
     "data": {
      "text/html": [
       "<div>\n",
       "<style scoped>\n",
       "    .dataframe tbody tr th:only-of-type {\n",
       "        vertical-align: middle;\n",
       "    }\n",
       "\n",
       "    .dataframe tbody tr th {\n",
       "        vertical-align: top;\n",
       "    }\n",
       "\n",
       "    .dataframe thead th {\n",
       "        text-align: right;\n",
       "    }\n",
       "</style>\n",
       "<table border=\"1\" class=\"dataframe\">\n",
       "  <thead>\n",
       "    <tr style=\"text-align: right;\">\n",
       "      <th></th>\n",
       "      <th>0</th>\n",
       "      <th>1</th>\n",
       "      <th>2</th>\n",
       "      <th>3</th>\n",
       "      <th>4</th>\n",
       "      <th>5</th>\n",
       "      <th>6</th>\n",
       "      <th>7</th>\n",
       "      <th>8</th>\n",
       "      <th>9</th>\n",
       "      <th>...</th>\n",
       "      <th>324</th>\n",
       "      <th>325</th>\n",
       "      <th>326</th>\n",
       "      <th>327</th>\n",
       "      <th>328</th>\n",
       "      <th>329</th>\n",
       "      <th>330</th>\n",
       "      <th>331</th>\n",
       "      <th>332</th>\n",
       "      <th>333</th>\n",
       "    </tr>\n",
       "  </thead>\n",
       "  <tbody>\n",
       "    <tr>\n",
       "      <th>0</th>\n",
       "      <td>pranjal</td>\n",
       "      <td>0.724851</td>\n",
       "      <td>0.069039</td>\n",
       "      <td>0.446299</td>\n",
       "      <td>0.000149</td>\n",
       "      <td>0.515695</td>\n",
       "      <td>0.677957</td>\n",
       "      <td>0.229748</td>\n",
       "      <td>0.496091</td>\n",
       "      <td>0.48878</td>\n",
       "      <td>...</td>\n",
       "      <td>0.336927</td>\n",
       "      <td>0.94776</td>\n",
       "      <td>0.731432</td>\n",
       "      <td>0.08956</td>\n",
       "      <td>0.426155</td>\n",
       "      <td>0.935349</td>\n",
       "      <td>0.972089</td>\n",
       "      <td>0.081118</td>\n",
       "      <td>0.245113</td>\n",
       "      <td>0.744827</td>\n",
       "    </tr>\n",
       "    <tr>\n",
       "      <th>1</th>\n",
       "      <td>0.241934</td>\n",
       "      <td>0.57384</td>\n",
       "      <td>sweeta</td>\n",
       "      <td>0.233823</td>\n",
       "      <td>0.144515</td>\n",
       "      <td>0.940784</td>\n",
       "      <td>0.649628</td>\n",
       "      <td>0.169525</td>\n",
       "      <td>0.925848</td>\n",
       "      <td>0.433827</td>\n",
       "      <td>...</td>\n",
       "      <td>0.773334</td>\n",
       "      <td>0.825677</td>\n",
       "      <td>0.586242</td>\n",
       "      <td>0.264373</td>\n",
       "      <td>0.712171</td>\n",
       "      <td>0.849615</td>\n",
       "      <td>0.122026</td>\n",
       "      <td>0.292882</td>\n",
       "      <td>0.56125</td>\n",
       "      <td>0.031921</td>\n",
       "    </tr>\n",
       "    <tr>\n",
       "      <th>2</th>\n",
       "      <td>0.179161</td>\n",
       "      <td>0.703963</td>\n",
       "      <td>0.710759</td>\n",
       "      <td>0.618435</td>\n",
       "      <td>0.041252</td>\n",
       "      <td>0.439874</td>\n",
       "      <td>0.797281</td>\n",
       "      <td>0.637671</td>\n",
       "      <td>0.022131</td>\n",
       "      <td>0.254454</td>\n",
       "      <td>...</td>\n",
       "      <td>0.737313</td>\n",
       "      <td>0.672844</td>\n",
       "      <td>0.304305</td>\n",
       "      <td>0.111156</td>\n",
       "      <td>0.181047</td>\n",
       "      <td>0.142253</td>\n",
       "      <td>0.304454</td>\n",
       "      <td>0.528585</td>\n",
       "      <td>0.885682</td>\n",
       "      <td>0.795566</td>\n",
       "    </tr>\n",
       "    <tr>\n",
       "      <th>3</th>\n",
       "      <td>0.581572</td>\n",
       "      <td>0.285495</td>\n",
       "      <td>0.164209</td>\n",
       "      <td>0.389579</td>\n",
       "      <td>0.921733</td>\n",
       "      <td>0.320489</td>\n",
       "      <td>0.481466</td>\n",
       "      <td>0.955162</td>\n",
       "      <td>0.156593</td>\n",
       "      <td>0.690836</td>\n",
       "      <td>...</td>\n",
       "      <td>0.523256</td>\n",
       "      <td>0.241109</td>\n",
       "      <td>0.70031</td>\n",
       "      <td>0.026518</td>\n",
       "      <td>0.638798</td>\n",
       "      <td>0.033243</td>\n",
       "      <td>0.572321</td>\n",
       "      <td>0.133788</td>\n",
       "      <td>0.164834</td>\n",
       "      <td>0.386392</td>\n",
       "    </tr>\n",
       "    <tr>\n",
       "      <th>4</th>\n",
       "      <td>0.426221</td>\n",
       "      <td>0.87405</td>\n",
       "      <td>0.687675</td>\n",
       "      <td>0.179922</td>\n",
       "      <td>0.052663</td>\n",
       "      <td>0.331373</td>\n",
       "      <td>0.67034</td>\n",
       "      <td>0.268566</td>\n",
       "      <td>0.431436</td>\n",
       "      <td>0.190124</td>\n",
       "      <td>...</td>\n",
       "      <td>0.165209</td>\n",
       "      <td>0.312237</td>\n",
       "      <td>0.436786</td>\n",
       "      <td>0.793903</td>\n",
       "      <td>0.809359</td>\n",
       "      <td>0.192692</td>\n",
       "      <td>0.509655</td>\n",
       "      <td>0.412033</td>\n",
       "      <td>0.578285</td>\n",
       "      <td>0.920613</td>\n",
       "    </tr>\n",
       "  </tbody>\n",
       "</table>\n",
       "<p>5 rows × 334 columns</p>\n",
       "</div>"
      ],
      "text/plain": [
       "        0         1         2         3         4         5         6    \\\n",
       "0   pranjal  0.724851  0.069039  0.446299  0.000149  0.515695  0.677957   \n",
       "1  0.241934   0.57384    sweeta  0.233823  0.144515  0.940784  0.649628   \n",
       "2  0.179161  0.703963  0.710759  0.618435  0.041252  0.439874  0.797281   \n",
       "3  0.581572  0.285495  0.164209  0.389579  0.921733  0.320489  0.481466   \n",
       "4  0.426221   0.87405  0.687675  0.179922  0.052663  0.331373   0.67034   \n",
       "\n",
       "        7         8         9    ...       324       325       326       327  \\\n",
       "0  0.229748  0.496091   0.48878  ...  0.336927   0.94776  0.731432   0.08956   \n",
       "1  0.169525  0.925848  0.433827  ...  0.773334  0.825677  0.586242  0.264373   \n",
       "2  0.637671  0.022131  0.254454  ...  0.737313  0.672844  0.304305  0.111156   \n",
       "3  0.955162  0.156593  0.690836  ...  0.523256  0.241109   0.70031  0.026518   \n",
       "4  0.268566  0.431436  0.190124  ...  0.165209  0.312237  0.436786  0.793903   \n",
       "\n",
       "        328       329       330       331       332       333  \n",
       "0  0.426155  0.935349  0.972089  0.081118  0.245113  0.744827  \n",
       "1  0.712171  0.849615  0.122026  0.292882   0.56125  0.031921  \n",
       "2  0.181047  0.142253  0.304454  0.528585  0.885682  0.795566  \n",
       "3  0.638798  0.033243  0.572321  0.133788  0.164834  0.386392  \n",
       "4  0.809359  0.192692  0.509655  0.412033  0.578285  0.920613  \n",
       "\n",
       "[5 rows x 334 columns]"
      ]
     },
     "execution_count": 116,
     "metadata": {},
     "output_type": "execute_result"
    }
   ],
   "source": [
    "newdf.T"
   ]
  },
  {
   "cell_type": "code",
   "execution_count": 117,
   "id": "780ceb6e-895a-4abc-ad88-06ce15192e67",
   "metadata": {},
   "outputs": [
    {
     "data": {
      "text/html": [
       "<div>\n",
       "<style scoped>\n",
       "    .dataframe tbody tr th:only-of-type {\n",
       "        vertical-align: middle;\n",
       "    }\n",
       "\n",
       "    .dataframe tbody tr th {\n",
       "        vertical-align: top;\n",
       "    }\n",
       "\n",
       "    .dataframe thead th {\n",
       "        text-align: right;\n",
       "    }\n",
       "</style>\n",
       "<table border=\"1\" class=\"dataframe\">\n",
       "  <thead>\n",
       "    <tr style=\"text-align: right;\">\n",
       "      <th></th>\n",
       "      <th>0</th>\n",
       "      <th>1</th>\n",
       "      <th>2</th>\n",
       "      <th>3</th>\n",
       "      <th>4</th>\n",
       "    </tr>\n",
       "  </thead>\n",
       "  <tbody>\n",
       "    <tr>\n",
       "      <th>0</th>\n",
       "      <td>pranjal</td>\n",
       "      <td>0.241934</td>\n",
       "      <td>0.179161</td>\n",
       "      <td>0.581572</td>\n",
       "      <td>0.426221</td>\n",
       "    </tr>\n",
       "    <tr>\n",
       "      <th>1</th>\n",
       "      <td>0.724851</td>\n",
       "      <td>0.57384</td>\n",
       "      <td>0.703963</td>\n",
       "      <td>0.285495</td>\n",
       "      <td>0.874050</td>\n",
       "    </tr>\n",
       "    <tr>\n",
       "      <th>2</th>\n",
       "      <td>0.069039</td>\n",
       "      <td>sweeta</td>\n",
       "      <td>0.710759</td>\n",
       "      <td>0.164209</td>\n",
       "      <td>0.687675</td>\n",
       "    </tr>\n",
       "    <tr>\n",
       "      <th>3</th>\n",
       "      <td>0.446299</td>\n",
       "      <td>0.233823</td>\n",
       "      <td>0.618435</td>\n",
       "      <td>0.389579</td>\n",
       "      <td>0.179922</td>\n",
       "    </tr>\n",
       "    <tr>\n",
       "      <th>4</th>\n",
       "      <td>0.000149</td>\n",
       "      <td>0.144515</td>\n",
       "      <td>0.041252</td>\n",
       "      <td>0.921733</td>\n",
       "      <td>0.052663</td>\n",
       "    </tr>\n",
       "    <tr>\n",
       "      <th>...</th>\n",
       "      <td>...</td>\n",
       "      <td>...</td>\n",
       "      <td>...</td>\n",
       "      <td>...</td>\n",
       "      <td>...</td>\n",
       "    </tr>\n",
       "    <tr>\n",
       "      <th>329</th>\n",
       "      <td>0.935349</td>\n",
       "      <td>0.849615</td>\n",
       "      <td>0.142253</td>\n",
       "      <td>0.033243</td>\n",
       "      <td>0.192692</td>\n",
       "    </tr>\n",
       "    <tr>\n",
       "      <th>330</th>\n",
       "      <td>0.972089</td>\n",
       "      <td>0.122026</td>\n",
       "      <td>0.304454</td>\n",
       "      <td>0.572321</td>\n",
       "      <td>0.509655</td>\n",
       "    </tr>\n",
       "    <tr>\n",
       "      <th>331</th>\n",
       "      <td>0.081118</td>\n",
       "      <td>0.292882</td>\n",
       "      <td>0.528585</td>\n",
       "      <td>0.133788</td>\n",
       "      <td>0.412033</td>\n",
       "    </tr>\n",
       "    <tr>\n",
       "      <th>332</th>\n",
       "      <td>0.245113</td>\n",
       "      <td>0.56125</td>\n",
       "      <td>0.885682</td>\n",
       "      <td>0.164834</td>\n",
       "      <td>0.578285</td>\n",
       "    </tr>\n",
       "    <tr>\n",
       "      <th>333</th>\n",
       "      <td>0.744827</td>\n",
       "      <td>0.031921</td>\n",
       "      <td>0.795566</td>\n",
       "      <td>0.386392</td>\n",
       "      <td>0.920613</td>\n",
       "    </tr>\n",
       "  </tbody>\n",
       "</table>\n",
       "<p>334 rows × 5 columns</p>\n",
       "</div>"
      ],
      "text/plain": [
       "            0         1         2         3         4\n",
       "0     pranjal  0.241934  0.179161  0.581572  0.426221\n",
       "1    0.724851   0.57384  0.703963  0.285495  0.874050\n",
       "2    0.069039    sweeta  0.710759  0.164209  0.687675\n",
       "3    0.446299  0.233823  0.618435  0.389579  0.179922\n",
       "4    0.000149  0.144515  0.041252  0.921733  0.052663\n",
       "..        ...       ...       ...       ...       ...\n",
       "329  0.935349  0.849615  0.142253  0.033243  0.192692\n",
       "330  0.972089  0.122026  0.304454  0.572321  0.509655\n",
       "331  0.081118  0.292882  0.528585  0.133788  0.412033\n",
       "332  0.245113   0.56125  0.885682  0.164834  0.578285\n",
       "333  0.744827  0.031921  0.795566  0.386392  0.920613\n",
       "\n",
       "[334 rows x 5 columns]"
      ]
     },
     "execution_count": 117,
     "metadata": {},
     "output_type": "execute_result"
    }
   ],
   "source": [
    "newdf"
   ]
  },
  {
   "cell_type": "code",
   "execution_count": 121,
   "id": "956c65fd-2051-4417-8d2a-2dd781f54adb",
   "metadata": {},
   "outputs": [
    {
     "data": {
      "text/html": [
       "<div>\n",
       "<style scoped>\n",
       "    .dataframe tbody tr th:only-of-type {\n",
       "        vertical-align: middle;\n",
       "    }\n",
       "\n",
       "    .dataframe tbody tr th {\n",
       "        vertical-align: top;\n",
       "    }\n",
       "\n",
       "    .dataframe thead th {\n",
       "        text-align: right;\n",
       "    }\n",
       "</style>\n",
       "<table border=\"1\" class=\"dataframe\">\n",
       "  <thead>\n",
       "    <tr style=\"text-align: right;\">\n",
       "      <th></th>\n",
       "      <th>4</th>\n",
       "      <th>3</th>\n",
       "      <th>2</th>\n",
       "      <th>1</th>\n",
       "      <th>0</th>\n",
       "    </tr>\n",
       "  </thead>\n",
       "  <tbody>\n",
       "    <tr>\n",
       "      <th>0</th>\n",
       "      <td>0.426221</td>\n",
       "      <td>0.581572</td>\n",
       "      <td>0.179161</td>\n",
       "      <td>0.241934</td>\n",
       "      <td>pranjal</td>\n",
       "    </tr>\n",
       "    <tr>\n",
       "      <th>1</th>\n",
       "      <td>0.874050</td>\n",
       "      <td>0.285495</td>\n",
       "      <td>0.703963</td>\n",
       "      <td>0.57384</td>\n",
       "      <td>0.724851</td>\n",
       "    </tr>\n",
       "    <tr>\n",
       "      <th>2</th>\n",
       "      <td>0.687675</td>\n",
       "      <td>0.164209</td>\n",
       "      <td>0.710759</td>\n",
       "      <td>sweeta</td>\n",
       "      <td>0.069039</td>\n",
       "    </tr>\n",
       "    <tr>\n",
       "      <th>3</th>\n",
       "      <td>0.179922</td>\n",
       "      <td>0.389579</td>\n",
       "      <td>0.618435</td>\n",
       "      <td>0.233823</td>\n",
       "      <td>0.446299</td>\n",
       "    </tr>\n",
       "    <tr>\n",
       "      <th>4</th>\n",
       "      <td>0.052663</td>\n",
       "      <td>0.921733</td>\n",
       "      <td>0.041252</td>\n",
       "      <td>0.144515</td>\n",
       "      <td>0.000149</td>\n",
       "    </tr>\n",
       "    <tr>\n",
       "      <th>...</th>\n",
       "      <td>...</td>\n",
       "      <td>...</td>\n",
       "      <td>...</td>\n",
       "      <td>...</td>\n",
       "      <td>...</td>\n",
       "    </tr>\n",
       "    <tr>\n",
       "      <th>329</th>\n",
       "      <td>0.192692</td>\n",
       "      <td>0.033243</td>\n",
       "      <td>0.142253</td>\n",
       "      <td>0.849615</td>\n",
       "      <td>0.935349</td>\n",
       "    </tr>\n",
       "    <tr>\n",
       "      <th>330</th>\n",
       "      <td>0.509655</td>\n",
       "      <td>0.572321</td>\n",
       "      <td>0.304454</td>\n",
       "      <td>0.122026</td>\n",
       "      <td>0.972089</td>\n",
       "    </tr>\n",
       "    <tr>\n",
       "      <th>331</th>\n",
       "      <td>0.412033</td>\n",
       "      <td>0.133788</td>\n",
       "      <td>0.528585</td>\n",
       "      <td>0.292882</td>\n",
       "      <td>0.081118</td>\n",
       "    </tr>\n",
       "    <tr>\n",
       "      <th>332</th>\n",
       "      <td>0.578285</td>\n",
       "      <td>0.164834</td>\n",
       "      <td>0.885682</td>\n",
       "      <td>0.56125</td>\n",
       "      <td>0.245113</td>\n",
       "    </tr>\n",
       "    <tr>\n",
       "      <th>333</th>\n",
       "      <td>0.920613</td>\n",
       "      <td>0.386392</td>\n",
       "      <td>0.795566</td>\n",
       "      <td>0.031921</td>\n",
       "      <td>0.744827</td>\n",
       "    </tr>\n",
       "  </tbody>\n",
       "</table>\n",
       "<p>334 rows × 5 columns</p>\n",
       "</div>"
      ],
      "text/plain": [
       "            4         3         2         1         0\n",
       "0    0.426221  0.581572  0.179161  0.241934   pranjal\n",
       "1    0.874050  0.285495  0.703963   0.57384  0.724851\n",
       "2    0.687675  0.164209  0.710759    sweeta  0.069039\n",
       "3    0.179922  0.389579  0.618435  0.233823  0.446299\n",
       "4    0.052663  0.921733  0.041252  0.144515  0.000149\n",
       "..        ...       ...       ...       ...       ...\n",
       "329  0.192692  0.033243  0.142253  0.849615  0.935349\n",
       "330  0.509655  0.572321  0.304454  0.122026  0.972089\n",
       "331  0.412033  0.133788  0.528585  0.292882  0.081118\n",
       "332  0.578285  0.164834  0.885682   0.56125  0.245113\n",
       "333  0.920613  0.386392  0.795566  0.031921  0.744827\n",
       "\n",
       "[334 rows x 5 columns]"
      ]
     },
     "execution_count": 121,
     "metadata": {},
     "output_type": "execute_result"
    }
   ],
   "source": [
    "newdf.sort_index(axis=1,ascending=False)#axis=0 means column by defaukt ascending is true but here it is false"
   ]
  },
  {
   "cell_type": "code",
   "execution_count": 122,
   "id": "c4b24de8-25cd-4825-8b3b-110efeb7d181",
   "metadata": {},
   "outputs": [
    {
     "data": {
      "text/html": [
       "<div>\n",
       "<style scoped>\n",
       "    .dataframe tbody tr th:only-of-type {\n",
       "        vertical-align: middle;\n",
       "    }\n",
       "\n",
       "    .dataframe tbody tr th {\n",
       "        vertical-align: top;\n",
       "    }\n",
       "\n",
       "    .dataframe thead th {\n",
       "        text-align: right;\n",
       "    }\n",
       "</style>\n",
       "<table border=\"1\" class=\"dataframe\">\n",
       "  <thead>\n",
       "    <tr style=\"text-align: right;\">\n",
       "      <th></th>\n",
       "      <th>0</th>\n",
       "      <th>1</th>\n",
       "      <th>2</th>\n",
       "      <th>3</th>\n",
       "      <th>4</th>\n",
       "    </tr>\n",
       "  </thead>\n",
       "  <tbody>\n",
       "    <tr>\n",
       "      <th>0</th>\n",
       "      <td>pranjal</td>\n",
       "      <td>0.241934</td>\n",
       "      <td>0.179161</td>\n",
       "      <td>0.581572</td>\n",
       "      <td>0.426221</td>\n",
       "    </tr>\n",
       "    <tr>\n",
       "      <th>1</th>\n",
       "      <td>0.724851</td>\n",
       "      <td>0.57384</td>\n",
       "      <td>0.703963</td>\n",
       "      <td>0.285495</td>\n",
       "      <td>0.874050</td>\n",
       "    </tr>\n",
       "    <tr>\n",
       "      <th>2</th>\n",
       "      <td>0.069039</td>\n",
       "      <td>sweeta</td>\n",
       "      <td>0.710759</td>\n",
       "      <td>0.164209</td>\n",
       "      <td>0.687675</td>\n",
       "    </tr>\n",
       "    <tr>\n",
       "      <th>3</th>\n",
       "      <td>0.446299</td>\n",
       "      <td>0.233823</td>\n",
       "      <td>0.618435</td>\n",
       "      <td>0.389579</td>\n",
       "      <td>0.179922</td>\n",
       "    </tr>\n",
       "    <tr>\n",
       "      <th>4</th>\n",
       "      <td>0.000149</td>\n",
       "      <td>0.144515</td>\n",
       "      <td>0.041252</td>\n",
       "      <td>0.921733</td>\n",
       "      <td>0.052663</td>\n",
       "    </tr>\n",
       "  </tbody>\n",
       "</table>\n",
       "</div>"
      ],
      "text/plain": [
       "          0         1         2         3         4\n",
       "0   pranjal  0.241934  0.179161  0.581572  0.426221\n",
       "1  0.724851   0.57384  0.703963  0.285495  0.874050\n",
       "2  0.069039    sweeta  0.710759  0.164209  0.687675\n",
       "3  0.446299  0.233823  0.618435  0.389579  0.179922\n",
       "4  0.000149  0.144515  0.041252  0.921733  0.052663"
      ]
     },
     "execution_count": 122,
     "metadata": {},
     "output_type": "execute_result"
    }
   ],
   "source": [
    " newdf.head()"
   ]
  },
  {
   "cell_type": "code",
   "execution_count": 123,
   "id": "c022852f-6646-4881-ba4c-e8b8b474435c",
   "metadata": {},
   "outputs": [
    {
     "data": {
      "text/plain": [
       "0       pranjal\n",
       "1      0.724851\n",
       "2      0.069039\n",
       "3      0.446299\n",
       "4      0.000149\n",
       "         ...   \n",
       "329    0.935349\n",
       "330    0.972089\n",
       "331    0.081118\n",
       "332    0.245113\n",
       "333    0.744827\n",
       "Name: 0, Length: 334, dtype: object"
      ]
     },
     "execution_count": 123,
     "metadata": {},
     "output_type": "execute_result"
    }
   ],
   "source": [
    "newdf[0]"
   ]
  },
  {
   "cell_type": "code",
   "execution_count": 124,
   "id": "24621022-028a-4188-8f2d-f3ea3b566f95",
   "metadata": {},
   "outputs": [
    {
     "data": {
      "text/plain": [
       "pandas.core.series.Series"
      ]
     },
     "execution_count": 124,
     "metadata": {},
     "output_type": "execute_result"
    }
   ],
   "source": [
    "type(newdf[0])"
   ]
  },
  {
   "cell_type": "code",
   "execution_count": 125,
   "id": "cbc0befb-0e54-4795-b380-d948ba2b05ad",
   "metadata": {},
   "outputs": [
    {
     "data": {
      "text/html": [
       "<div>\n",
       "<style scoped>\n",
       "    .dataframe tbody tr th:only-of-type {\n",
       "        vertical-align: middle;\n",
       "    }\n",
       "\n",
       "    .dataframe tbody tr th {\n",
       "        vertical-align: top;\n",
       "    }\n",
       "\n",
       "    .dataframe thead th {\n",
       "        text-align: right;\n",
       "    }\n",
       "</style>\n",
       "<table border=\"1\" class=\"dataframe\">\n",
       "  <thead>\n",
       "    <tr style=\"text-align: right;\">\n",
       "      <th></th>\n",
       "      <th>0</th>\n",
       "      <th>1</th>\n",
       "      <th>2</th>\n",
       "      <th>3</th>\n",
       "      <th>4</th>\n",
       "    </tr>\n",
       "  </thead>\n",
       "  <tbody>\n",
       "    <tr>\n",
       "      <th>0</th>\n",
       "      <td>pranjal</td>\n",
       "      <td>0.241934</td>\n",
       "      <td>0.179161</td>\n",
       "      <td>0.581572</td>\n",
       "      <td>0.426221</td>\n",
       "    </tr>\n",
       "    <tr>\n",
       "      <th>1</th>\n",
       "      <td>0.724851</td>\n",
       "      <td>0.57384</td>\n",
       "      <td>0.703963</td>\n",
       "      <td>0.285495</td>\n",
       "      <td>0.874050</td>\n",
       "    </tr>\n",
       "    <tr>\n",
       "      <th>2</th>\n",
       "      <td>0.069039</td>\n",
       "      <td>sweeta</td>\n",
       "      <td>0.710759</td>\n",
       "      <td>0.164209</td>\n",
       "      <td>0.687675</td>\n",
       "    </tr>\n",
       "    <tr>\n",
       "      <th>3</th>\n",
       "      <td>0.446299</td>\n",
       "      <td>0.233823</td>\n",
       "      <td>0.618435</td>\n",
       "      <td>0.389579</td>\n",
       "      <td>0.179922</td>\n",
       "    </tr>\n",
       "    <tr>\n",
       "      <th>4</th>\n",
       "      <td>0.000149</td>\n",
       "      <td>0.144515</td>\n",
       "      <td>0.041252</td>\n",
       "      <td>0.921733</td>\n",
       "      <td>0.052663</td>\n",
       "    </tr>\n",
       "  </tbody>\n",
       "</table>\n",
       "</div>"
      ],
      "text/plain": [
       "          0         1         2         3         4\n",
       "0   pranjal  0.241934  0.179161  0.581572  0.426221\n",
       "1  0.724851   0.57384  0.703963  0.285495  0.874050\n",
       "2  0.069039    sweeta  0.710759  0.164209  0.687675\n",
       "3  0.446299  0.233823  0.618435  0.389579  0.179922\n",
       "4  0.000149  0.144515  0.041252  0.921733  0.052663"
      ]
     },
     "execution_count": 125,
     "metadata": {},
     "output_type": "execute_result"
    }
   ],
   "source": [
    "newdf.head()"
   ]
  },
  {
   "cell_type": "code",
   "execution_count": 126,
   "id": "83714ed4-33b1-4ed9-b5d0-4c58d16078ac",
   "metadata": {},
   "outputs": [],
   "source": [
    "newdf2=newdf"
   ]
  },
  {
   "cell_type": "code",
   "execution_count": 127,
   "id": "8930900a-97ed-430a-8a52-e604f4887724",
   "metadata": {},
   "outputs": [
    {
     "name": "stderr",
     "output_type": "stream",
     "text": [
      "C:\\Users\\HP\\AppData\\Local\\Temp\\ipykernel_1388\\1365199539.py:1: SettingWithCopyWarning: \n",
      "A value is trying to be set on a copy of a slice from a DataFrame\n",
      "\n",
      "See the caveats in the documentation: https://pandas.pydata.org/pandas-docs/stable/user_guide/indexing.html#returning-a-view-versus-a-copy\n",
      "  newdf2[0][0]=987\n"
     ]
    }
   ],
   "source": [
    "newdf2[0][0]=987"
   ]
  },
  {
   "cell_type": "code",
   "execution_count": 130,
   "id": "0c2a219f-e2f9-452b-a6d1-30e9c641fa6c",
   "metadata": {},
   "outputs": [
    {
     "data": {
      "text/html": [
       "<div>\n",
       "<style scoped>\n",
       "    .dataframe tbody tr th:only-of-type {\n",
       "        vertical-align: middle;\n",
       "    }\n",
       "\n",
       "    .dataframe tbody tr th {\n",
       "        vertical-align: top;\n",
       "    }\n",
       "\n",
       "    .dataframe thead th {\n",
       "        text-align: right;\n",
       "    }\n",
       "</style>\n",
       "<table border=\"1\" class=\"dataframe\">\n",
       "  <thead>\n",
       "    <tr style=\"text-align: right;\">\n",
       "      <th></th>\n",
       "      <th>0</th>\n",
       "      <th>1</th>\n",
       "      <th>2</th>\n",
       "      <th>3</th>\n",
       "      <th>4</th>\n",
       "    </tr>\n",
       "  </thead>\n",
       "  <tbody>\n",
       "    <tr>\n",
       "      <th>0</th>\n",
       "      <td>987</td>\n",
       "      <td>0.241934</td>\n",
       "      <td>0.179161</td>\n",
       "      <td>0.581572</td>\n",
       "      <td>0.426221</td>\n",
       "    </tr>\n",
       "    <tr>\n",
       "      <th>1</th>\n",
       "      <td>0.724851</td>\n",
       "      <td>0.57384</td>\n",
       "      <td>0.703963</td>\n",
       "      <td>0.285495</td>\n",
       "      <td>0.874050</td>\n",
       "    </tr>\n",
       "    <tr>\n",
       "      <th>2</th>\n",
       "      <td>0.069039</td>\n",
       "      <td>sweeta</td>\n",
       "      <td>0.710759</td>\n",
       "      <td>0.164209</td>\n",
       "      <td>0.687675</td>\n",
       "    </tr>\n",
       "    <tr>\n",
       "      <th>3</th>\n",
       "      <td>0.446299</td>\n",
       "      <td>0.233823</td>\n",
       "      <td>0.618435</td>\n",
       "      <td>0.389579</td>\n",
       "      <td>0.179922</td>\n",
       "    </tr>\n",
       "    <tr>\n",
       "      <th>4</th>\n",
       "      <td>0.000149</td>\n",
       "      <td>0.144515</td>\n",
       "      <td>0.041252</td>\n",
       "      <td>0.921733</td>\n",
       "      <td>0.052663</td>\n",
       "    </tr>\n",
       "    <tr>\n",
       "      <th>...</th>\n",
       "      <td>...</td>\n",
       "      <td>...</td>\n",
       "      <td>...</td>\n",
       "      <td>...</td>\n",
       "      <td>...</td>\n",
       "    </tr>\n",
       "    <tr>\n",
       "      <th>329</th>\n",
       "      <td>0.935349</td>\n",
       "      <td>0.849615</td>\n",
       "      <td>0.142253</td>\n",
       "      <td>0.033243</td>\n",
       "      <td>0.192692</td>\n",
       "    </tr>\n",
       "    <tr>\n",
       "      <th>330</th>\n",
       "      <td>0.972089</td>\n",
       "      <td>0.122026</td>\n",
       "      <td>0.304454</td>\n",
       "      <td>0.572321</td>\n",
       "      <td>0.509655</td>\n",
       "    </tr>\n",
       "    <tr>\n",
       "      <th>331</th>\n",
       "      <td>0.081118</td>\n",
       "      <td>0.292882</td>\n",
       "      <td>0.528585</td>\n",
       "      <td>0.133788</td>\n",
       "      <td>0.412033</td>\n",
       "    </tr>\n",
       "    <tr>\n",
       "      <th>332</th>\n",
       "      <td>0.245113</td>\n",
       "      <td>0.56125</td>\n",
       "      <td>0.885682</td>\n",
       "      <td>0.164834</td>\n",
       "      <td>0.578285</td>\n",
       "    </tr>\n",
       "    <tr>\n",
       "      <th>333</th>\n",
       "      <td>0.744827</td>\n",
       "      <td>0.031921</td>\n",
       "      <td>0.795566</td>\n",
       "      <td>0.386392</td>\n",
       "      <td>0.920613</td>\n",
       "    </tr>\n",
       "  </tbody>\n",
       "</table>\n",
       "<p>334 rows × 5 columns</p>\n",
       "</div>"
      ],
      "text/plain": [
       "            0         1         2         3         4\n",
       "0         987  0.241934  0.179161  0.581572  0.426221\n",
       "1    0.724851   0.57384  0.703963  0.285495  0.874050\n",
       "2    0.069039    sweeta  0.710759  0.164209  0.687675\n",
       "3    0.446299  0.233823  0.618435  0.389579  0.179922\n",
       "4    0.000149  0.144515  0.041252  0.921733  0.052663\n",
       "..        ...       ...       ...       ...       ...\n",
       "329  0.935349  0.849615  0.142253  0.033243  0.192692\n",
       "330  0.972089  0.122026  0.304454  0.572321  0.509655\n",
       "331  0.081118  0.292882  0.528585  0.133788  0.412033\n",
       "332  0.245113   0.56125  0.885682  0.164834  0.578285\n",
       "333  0.744827  0.031921  0.795566  0.386392  0.920613\n",
       "\n",
       "[334 rows x 5 columns]"
      ]
     },
     "execution_count": 130,
     "metadata": {},
     "output_type": "execute_result"
    }
   ],
   "source": [
    "newdf#newdf2 is just a view which changes values in newdf newdf2 is not a seperate until we use copy it just acts as a cursor "
   ]
  },
  {
   "cell_type": "code",
   "execution_count": 131,
   "id": "09c46e2b-8145-4fec-96cd-be4c2526398e",
   "metadata": {},
   "outputs": [],
   "source": [
    "newdf2=newdf.copy()"
   ]
  },
  {
   "cell_type": "code",
   "execution_count": 132,
   "id": "234e65fb-c890-448d-905b-ce0b0cad7022",
   "metadata": {},
   "outputs": [
    {
     "name": "stderr",
     "output_type": "stream",
     "text": [
      "C:\\Users\\HP\\AppData\\Local\\Temp\\ipykernel_1388\\3030230984.py:1: SettingWithCopyWarning: \n",
      "A value is trying to be set on a copy of a slice from a DataFrame\n",
      "\n",
      "See the caveats in the documentation: https://pandas.pydata.org/pandas-docs/stable/user_guide/indexing.html#returning-a-view-versus-a-copy\n",
      "  newdf2[0][0]=97835\n"
     ]
    }
   ],
   "source": [
    "newdf2[0][0]=97835"
   ]
  },
  {
   "cell_type": "code",
   "execution_count": 133,
   "id": "8d5db21c-1d52-446f-9a5b-0dc22211b8cf",
   "metadata": {},
   "outputs": [
    {
     "data": {
      "text/html": [
       "<div>\n",
       "<style scoped>\n",
       "    .dataframe tbody tr th:only-of-type {\n",
       "        vertical-align: middle;\n",
       "    }\n",
       "\n",
       "    .dataframe tbody tr th {\n",
       "        vertical-align: top;\n",
       "    }\n",
       "\n",
       "    .dataframe thead th {\n",
       "        text-align: right;\n",
       "    }\n",
       "</style>\n",
       "<table border=\"1\" class=\"dataframe\">\n",
       "  <thead>\n",
       "    <tr style=\"text-align: right;\">\n",
       "      <th></th>\n",
       "      <th>0</th>\n",
       "      <th>1</th>\n",
       "      <th>2</th>\n",
       "      <th>3</th>\n",
       "      <th>4</th>\n",
       "    </tr>\n",
       "  </thead>\n",
       "  <tbody>\n",
       "    <tr>\n",
       "      <th>0</th>\n",
       "      <td>97835</td>\n",
       "      <td>0.241934</td>\n",
       "      <td>0.179161</td>\n",
       "      <td>0.581572</td>\n",
       "      <td>0.426221</td>\n",
       "    </tr>\n",
       "    <tr>\n",
       "      <th>1</th>\n",
       "      <td>0.724851</td>\n",
       "      <td>0.57384</td>\n",
       "      <td>0.703963</td>\n",
       "      <td>0.285495</td>\n",
       "      <td>0.874050</td>\n",
       "    </tr>\n",
       "    <tr>\n",
       "      <th>2</th>\n",
       "      <td>0.069039</td>\n",
       "      <td>sweeta</td>\n",
       "      <td>0.710759</td>\n",
       "      <td>0.164209</td>\n",
       "      <td>0.687675</td>\n",
       "    </tr>\n",
       "    <tr>\n",
       "      <th>3</th>\n",
       "      <td>0.446299</td>\n",
       "      <td>0.233823</td>\n",
       "      <td>0.618435</td>\n",
       "      <td>0.389579</td>\n",
       "      <td>0.179922</td>\n",
       "    </tr>\n",
       "    <tr>\n",
       "      <th>4</th>\n",
       "      <td>0.000149</td>\n",
       "      <td>0.144515</td>\n",
       "      <td>0.041252</td>\n",
       "      <td>0.921733</td>\n",
       "      <td>0.052663</td>\n",
       "    </tr>\n",
       "    <tr>\n",
       "      <th>...</th>\n",
       "      <td>...</td>\n",
       "      <td>...</td>\n",
       "      <td>...</td>\n",
       "      <td>...</td>\n",
       "      <td>...</td>\n",
       "    </tr>\n",
       "    <tr>\n",
       "      <th>329</th>\n",
       "      <td>0.935349</td>\n",
       "      <td>0.849615</td>\n",
       "      <td>0.142253</td>\n",
       "      <td>0.033243</td>\n",
       "      <td>0.192692</td>\n",
       "    </tr>\n",
       "    <tr>\n",
       "      <th>330</th>\n",
       "      <td>0.972089</td>\n",
       "      <td>0.122026</td>\n",
       "      <td>0.304454</td>\n",
       "      <td>0.572321</td>\n",
       "      <td>0.509655</td>\n",
       "    </tr>\n",
       "    <tr>\n",
       "      <th>331</th>\n",
       "      <td>0.081118</td>\n",
       "      <td>0.292882</td>\n",
       "      <td>0.528585</td>\n",
       "      <td>0.133788</td>\n",
       "      <td>0.412033</td>\n",
       "    </tr>\n",
       "    <tr>\n",
       "      <th>332</th>\n",
       "      <td>0.245113</td>\n",
       "      <td>0.56125</td>\n",
       "      <td>0.885682</td>\n",
       "      <td>0.164834</td>\n",
       "      <td>0.578285</td>\n",
       "    </tr>\n",
       "    <tr>\n",
       "      <th>333</th>\n",
       "      <td>0.744827</td>\n",
       "      <td>0.031921</td>\n",
       "      <td>0.795566</td>\n",
       "      <td>0.386392</td>\n",
       "      <td>0.920613</td>\n",
       "    </tr>\n",
       "  </tbody>\n",
       "</table>\n",
       "<p>334 rows × 5 columns</p>\n",
       "</div>"
      ],
      "text/plain": [
       "            0         1         2         3         4\n",
       "0       97835  0.241934  0.179161  0.581572  0.426221\n",
       "1    0.724851   0.57384  0.703963  0.285495  0.874050\n",
       "2    0.069039    sweeta  0.710759  0.164209  0.687675\n",
       "3    0.446299  0.233823  0.618435  0.389579  0.179922\n",
       "4    0.000149  0.144515  0.041252  0.921733  0.052663\n",
       "..        ...       ...       ...       ...       ...\n",
       "329  0.935349  0.849615  0.142253  0.033243  0.192692\n",
       "330  0.972089  0.122026  0.304454  0.572321  0.509655\n",
       "331  0.081118  0.292882  0.528585  0.133788  0.412033\n",
       "332  0.245113   0.56125  0.885682  0.164834  0.578285\n",
       "333  0.744827  0.031921  0.795566  0.386392  0.920613\n",
       "\n",
       "[334 rows x 5 columns]"
      ]
     },
     "execution_count": 133,
     "metadata": {},
     "output_type": "execute_result"
    }
   ],
   "source": [
    "newdf2"
   ]
  },
  {
   "cell_type": "code",
   "execution_count": 134,
   "id": "fce86899-f656-4573-a129-7cccda1d706c",
   "metadata": {},
   "outputs": [
    {
     "data": {
      "text/html": [
       "<div>\n",
       "<style scoped>\n",
       "    .dataframe tbody tr th:only-of-type {\n",
       "        vertical-align: middle;\n",
       "    }\n",
       "\n",
       "    .dataframe tbody tr th {\n",
       "        vertical-align: top;\n",
       "    }\n",
       "\n",
       "    .dataframe thead th {\n",
       "        text-align: right;\n",
       "    }\n",
       "</style>\n",
       "<table border=\"1\" class=\"dataframe\">\n",
       "  <thead>\n",
       "    <tr style=\"text-align: right;\">\n",
       "      <th></th>\n",
       "      <th>0</th>\n",
       "      <th>1</th>\n",
       "      <th>2</th>\n",
       "      <th>3</th>\n",
       "      <th>4</th>\n",
       "    </tr>\n",
       "  </thead>\n",
       "  <tbody>\n",
       "    <tr>\n",
       "      <th>0</th>\n",
       "      <td>987</td>\n",
       "      <td>0.241934</td>\n",
       "      <td>0.179161</td>\n",
       "      <td>0.581572</td>\n",
       "      <td>0.426221</td>\n",
       "    </tr>\n",
       "    <tr>\n",
       "      <th>1</th>\n",
       "      <td>0.724851</td>\n",
       "      <td>0.57384</td>\n",
       "      <td>0.703963</td>\n",
       "      <td>0.285495</td>\n",
       "      <td>0.874050</td>\n",
       "    </tr>\n",
       "    <tr>\n",
       "      <th>2</th>\n",
       "      <td>0.069039</td>\n",
       "      <td>sweeta</td>\n",
       "      <td>0.710759</td>\n",
       "      <td>0.164209</td>\n",
       "      <td>0.687675</td>\n",
       "    </tr>\n",
       "    <tr>\n",
       "      <th>3</th>\n",
       "      <td>0.446299</td>\n",
       "      <td>0.233823</td>\n",
       "      <td>0.618435</td>\n",
       "      <td>0.389579</td>\n",
       "      <td>0.179922</td>\n",
       "    </tr>\n",
       "    <tr>\n",
       "      <th>4</th>\n",
       "      <td>0.000149</td>\n",
       "      <td>0.144515</td>\n",
       "      <td>0.041252</td>\n",
       "      <td>0.921733</td>\n",
       "      <td>0.052663</td>\n",
       "    </tr>\n",
       "    <tr>\n",
       "      <th>...</th>\n",
       "      <td>...</td>\n",
       "      <td>...</td>\n",
       "      <td>...</td>\n",
       "      <td>...</td>\n",
       "      <td>...</td>\n",
       "    </tr>\n",
       "    <tr>\n",
       "      <th>329</th>\n",
       "      <td>0.935349</td>\n",
       "      <td>0.849615</td>\n",
       "      <td>0.142253</td>\n",
       "      <td>0.033243</td>\n",
       "      <td>0.192692</td>\n",
       "    </tr>\n",
       "    <tr>\n",
       "      <th>330</th>\n",
       "      <td>0.972089</td>\n",
       "      <td>0.122026</td>\n",
       "      <td>0.304454</td>\n",
       "      <td>0.572321</td>\n",
       "      <td>0.509655</td>\n",
       "    </tr>\n",
       "    <tr>\n",
       "      <th>331</th>\n",
       "      <td>0.081118</td>\n",
       "      <td>0.292882</td>\n",
       "      <td>0.528585</td>\n",
       "      <td>0.133788</td>\n",
       "      <td>0.412033</td>\n",
       "    </tr>\n",
       "    <tr>\n",
       "      <th>332</th>\n",
       "      <td>0.245113</td>\n",
       "      <td>0.56125</td>\n",
       "      <td>0.885682</td>\n",
       "      <td>0.164834</td>\n",
       "      <td>0.578285</td>\n",
       "    </tr>\n",
       "    <tr>\n",
       "      <th>333</th>\n",
       "      <td>0.744827</td>\n",
       "      <td>0.031921</td>\n",
       "      <td>0.795566</td>\n",
       "      <td>0.386392</td>\n",
       "      <td>0.920613</td>\n",
       "    </tr>\n",
       "  </tbody>\n",
       "</table>\n",
       "<p>334 rows × 5 columns</p>\n",
       "</div>"
      ],
      "text/plain": [
       "            0         1         2         3         4\n",
       "0         987  0.241934  0.179161  0.581572  0.426221\n",
       "1    0.724851   0.57384  0.703963  0.285495  0.874050\n",
       "2    0.069039    sweeta  0.710759  0.164209  0.687675\n",
       "3    0.446299  0.233823  0.618435  0.389579  0.179922\n",
       "4    0.000149  0.144515  0.041252  0.921733  0.052663\n",
       "..        ...       ...       ...       ...       ...\n",
       "329  0.935349  0.849615  0.142253  0.033243  0.192692\n",
       "330  0.972089  0.122026  0.304454  0.572321  0.509655\n",
       "331  0.081118  0.292882  0.528585  0.133788  0.412033\n",
       "332  0.245113   0.56125  0.885682  0.164834  0.578285\n",
       "333  0.744827  0.031921  0.795566  0.386392  0.920613\n",
       "\n",
       "[334 rows x 5 columns]"
      ]
     },
     "execution_count": 134,
     "metadata": {},
     "output_type": "execute_result"
    }
   ],
   "source": [
    "newdf"
   ]
  },
  {
   "cell_type": "code",
   "execution_count": 135,
   "id": "5004caa6-cdce-4e76-ae48-50ed429dba01",
   "metadata": {},
   "outputs": [],
   "source": [
    "#we dont use tjis type of method to insert a number"
   ]
  },
  {
   "cell_type": "code",
   "execution_count": 136,
   "id": "c5c7051b-5e62-456b-8011-58c53e52b5ee",
   "metadata": {},
   "outputs": [],
   "source": [
    "newdf.loc[0,0]=654"
   ]
  },
  {
   "cell_type": "code",
   "execution_count": 137,
   "id": "ae508b00-96b2-4759-bee6-007cab6addc0",
   "metadata": {},
   "outputs": [],
   "source": [
    "newdf.columns=list('abcde')"
   ]
  },
  {
   "cell_type": "code",
   "execution_count": 138,
   "id": "e3ccbec6-ed33-4b92-826c-da9dc180c64d",
   "metadata": {},
   "outputs": [
    {
     "data": {
      "text/html": [
       "<div>\n",
       "<style scoped>\n",
       "    .dataframe tbody tr th:only-of-type {\n",
       "        vertical-align: middle;\n",
       "    }\n",
       "\n",
       "    .dataframe tbody tr th {\n",
       "        vertical-align: top;\n",
       "    }\n",
       "\n",
       "    .dataframe thead th {\n",
       "        text-align: right;\n",
       "    }\n",
       "</style>\n",
       "<table border=\"1\" class=\"dataframe\">\n",
       "  <thead>\n",
       "    <tr style=\"text-align: right;\">\n",
       "      <th></th>\n",
       "      <th>a</th>\n",
       "      <th>b</th>\n",
       "      <th>c</th>\n",
       "      <th>d</th>\n",
       "      <th>e</th>\n",
       "    </tr>\n",
       "  </thead>\n",
       "  <tbody>\n",
       "    <tr>\n",
       "      <th>0</th>\n",
       "      <td>654</td>\n",
       "      <td>0.241934</td>\n",
       "      <td>0.179161</td>\n",
       "      <td>0.581572</td>\n",
       "      <td>0.426221</td>\n",
       "    </tr>\n",
       "    <tr>\n",
       "      <th>1</th>\n",
       "      <td>0.724851</td>\n",
       "      <td>0.57384</td>\n",
       "      <td>0.703963</td>\n",
       "      <td>0.285495</td>\n",
       "      <td>0.874050</td>\n",
       "    </tr>\n",
       "    <tr>\n",
       "      <th>2</th>\n",
       "      <td>0.069039</td>\n",
       "      <td>sweeta</td>\n",
       "      <td>0.710759</td>\n",
       "      <td>0.164209</td>\n",
       "      <td>0.687675</td>\n",
       "    </tr>\n",
       "    <tr>\n",
       "      <th>3</th>\n",
       "      <td>0.446299</td>\n",
       "      <td>0.233823</td>\n",
       "      <td>0.618435</td>\n",
       "      <td>0.389579</td>\n",
       "      <td>0.179922</td>\n",
       "    </tr>\n",
       "    <tr>\n",
       "      <th>4</th>\n",
       "      <td>0.000149</td>\n",
       "      <td>0.144515</td>\n",
       "      <td>0.041252</td>\n",
       "      <td>0.921733</td>\n",
       "      <td>0.052663</td>\n",
       "    </tr>\n",
       "    <tr>\n",
       "      <th>...</th>\n",
       "      <td>...</td>\n",
       "      <td>...</td>\n",
       "      <td>...</td>\n",
       "      <td>...</td>\n",
       "      <td>...</td>\n",
       "    </tr>\n",
       "    <tr>\n",
       "      <th>329</th>\n",
       "      <td>0.935349</td>\n",
       "      <td>0.849615</td>\n",
       "      <td>0.142253</td>\n",
       "      <td>0.033243</td>\n",
       "      <td>0.192692</td>\n",
       "    </tr>\n",
       "    <tr>\n",
       "      <th>330</th>\n",
       "      <td>0.972089</td>\n",
       "      <td>0.122026</td>\n",
       "      <td>0.304454</td>\n",
       "      <td>0.572321</td>\n",
       "      <td>0.509655</td>\n",
       "    </tr>\n",
       "    <tr>\n",
       "      <th>331</th>\n",
       "      <td>0.081118</td>\n",
       "      <td>0.292882</td>\n",
       "      <td>0.528585</td>\n",
       "      <td>0.133788</td>\n",
       "      <td>0.412033</td>\n",
       "    </tr>\n",
       "    <tr>\n",
       "      <th>332</th>\n",
       "      <td>0.245113</td>\n",
       "      <td>0.56125</td>\n",
       "      <td>0.885682</td>\n",
       "      <td>0.164834</td>\n",
       "      <td>0.578285</td>\n",
       "    </tr>\n",
       "    <tr>\n",
       "      <th>333</th>\n",
       "      <td>0.744827</td>\n",
       "      <td>0.031921</td>\n",
       "      <td>0.795566</td>\n",
       "      <td>0.386392</td>\n",
       "      <td>0.920613</td>\n",
       "    </tr>\n",
       "  </tbody>\n",
       "</table>\n",
       "<p>334 rows × 5 columns</p>\n",
       "</div>"
      ],
      "text/plain": [
       "            a         b         c         d         e\n",
       "0         654  0.241934  0.179161  0.581572  0.426221\n",
       "1    0.724851   0.57384  0.703963  0.285495  0.874050\n",
       "2    0.069039    sweeta  0.710759  0.164209  0.687675\n",
       "3    0.446299  0.233823  0.618435  0.389579  0.179922\n",
       "4    0.000149  0.144515  0.041252  0.921733  0.052663\n",
       "..        ...       ...       ...       ...       ...\n",
       "329  0.935349  0.849615  0.142253  0.033243  0.192692\n",
       "330  0.972089  0.122026  0.304454  0.572321  0.509655\n",
       "331  0.081118  0.292882  0.528585  0.133788  0.412033\n",
       "332  0.245113   0.56125  0.885682  0.164834  0.578285\n",
       "333  0.744827  0.031921  0.795566  0.386392  0.920613\n",
       "\n",
       "[334 rows x 5 columns]"
      ]
     },
     "execution_count": 138,
     "metadata": {},
     "output_type": "execute_result"
    }
   ],
   "source": [
    "newdf"
   ]
  },
  {
   "cell_type": "code",
   "execution_count": 141,
   "id": "750f40cc-a939-4751-9f18-f50f0490ad89",
   "metadata": {},
   "outputs": [],
   "source": [
    "newdf.loc[0,'a']=654"
   ]
  },
  {
   "cell_type": "code",
   "execution_count": 143,
   "id": "72573e07-5d77-4e96-80f2-03b79718094d",
   "metadata": {},
   "outputs": [
    {
     "data": {
      "text/html": [
       "<div>\n",
       "<style scoped>\n",
       "    .dataframe tbody tr th:only-of-type {\n",
       "        vertical-align: middle;\n",
       "    }\n",
       "\n",
       "    .dataframe tbody tr th {\n",
       "        vertical-align: top;\n",
       "    }\n",
       "\n",
       "    .dataframe thead th {\n",
       "        text-align: right;\n",
       "    }\n",
       "</style>\n",
       "<table border=\"1\" class=\"dataframe\">\n",
       "  <thead>\n",
       "    <tr style=\"text-align: right;\">\n",
       "      <th></th>\n",
       "      <th>a</th>\n",
       "      <th>b</th>\n",
       "      <th>c</th>\n",
       "      <th>d</th>\n",
       "      <th>e</th>\n",
       "    </tr>\n",
       "  </thead>\n",
       "  <tbody>\n",
       "    <tr>\n",
       "      <th>1</th>\n",
       "      <td>0.724851</td>\n",
       "      <td>0.57384</td>\n",
       "      <td>0.703963</td>\n",
       "      <td>0.285495</td>\n",
       "      <td>0.874050</td>\n",
       "    </tr>\n",
       "    <tr>\n",
       "      <th>2</th>\n",
       "      <td>0.069039</td>\n",
       "      <td>sweeta</td>\n",
       "      <td>0.710759</td>\n",
       "      <td>0.164209</td>\n",
       "      <td>0.687675</td>\n",
       "    </tr>\n",
       "    <tr>\n",
       "      <th>3</th>\n",
       "      <td>0.446299</td>\n",
       "      <td>0.233823</td>\n",
       "      <td>0.618435</td>\n",
       "      <td>0.389579</td>\n",
       "      <td>0.179922</td>\n",
       "    </tr>\n",
       "    <tr>\n",
       "      <th>4</th>\n",
       "      <td>0.000149</td>\n",
       "      <td>0.144515</td>\n",
       "      <td>0.041252</td>\n",
       "      <td>0.921733</td>\n",
       "      <td>0.052663</td>\n",
       "    </tr>\n",
       "    <tr>\n",
       "      <th>5</th>\n",
       "      <td>0.515695</td>\n",
       "      <td>0.940784</td>\n",
       "      <td>0.439874</td>\n",
       "      <td>0.320489</td>\n",
       "      <td>0.331373</td>\n",
       "    </tr>\n",
       "    <tr>\n",
       "      <th>...</th>\n",
       "      <td>...</td>\n",
       "      <td>...</td>\n",
       "      <td>...</td>\n",
       "      <td>...</td>\n",
       "      <td>...</td>\n",
       "    </tr>\n",
       "    <tr>\n",
       "      <th>329</th>\n",
       "      <td>0.935349</td>\n",
       "      <td>0.849615</td>\n",
       "      <td>0.142253</td>\n",
       "      <td>0.033243</td>\n",
       "      <td>0.192692</td>\n",
       "    </tr>\n",
       "    <tr>\n",
       "      <th>330</th>\n",
       "      <td>0.972089</td>\n",
       "      <td>0.122026</td>\n",
       "      <td>0.304454</td>\n",
       "      <td>0.572321</td>\n",
       "      <td>0.509655</td>\n",
       "    </tr>\n",
       "    <tr>\n",
       "      <th>331</th>\n",
       "      <td>0.081118</td>\n",
       "      <td>0.292882</td>\n",
       "      <td>0.528585</td>\n",
       "      <td>0.133788</td>\n",
       "      <td>0.412033</td>\n",
       "    </tr>\n",
       "    <tr>\n",
       "      <th>332</th>\n",
       "      <td>0.245113</td>\n",
       "      <td>0.56125</td>\n",
       "      <td>0.885682</td>\n",
       "      <td>0.164834</td>\n",
       "      <td>0.578285</td>\n",
       "    </tr>\n",
       "    <tr>\n",
       "      <th>333</th>\n",
       "      <td>0.744827</td>\n",
       "      <td>0.031921</td>\n",
       "      <td>0.795566</td>\n",
       "      <td>0.386392</td>\n",
       "      <td>0.920613</td>\n",
       "    </tr>\n",
       "  </tbody>\n",
       "</table>\n",
       "<p>333 rows × 5 columns</p>\n",
       "</div>"
      ],
      "text/plain": [
       "            a         b         c         d         e\n",
       "1    0.724851   0.57384  0.703963  0.285495  0.874050\n",
       "2    0.069039    sweeta  0.710759  0.164209  0.687675\n",
       "3    0.446299  0.233823  0.618435  0.389579  0.179922\n",
       "4    0.000149  0.144515  0.041252  0.921733  0.052663\n",
       "5    0.515695  0.940784  0.439874  0.320489  0.331373\n",
       "..        ...       ...       ...       ...       ...\n",
       "329  0.935349  0.849615  0.142253  0.033243  0.192692\n",
       "330  0.972089  0.122026  0.304454  0.572321  0.509655\n",
       "331  0.081118  0.292882  0.528585  0.133788  0.412033\n",
       "332  0.245113   0.56125  0.885682  0.164834  0.578285\n",
       "333  0.744827  0.031921  0.795566  0.386392  0.920613\n",
       "\n",
       "[333 rows x 5 columns]"
      ]
     },
     "execution_count": 143,
     "metadata": {},
     "output_type": "execute_result"
    }
   ],
   "source": [
    "newdf.drop(0,axis=0)#remove an row or columm"
   ]
  },
  {
   "cell_type": "code",
   "execution_count": 147,
   "id": "21eea34f-d3fe-406b-8169-eb37cfda0c97",
   "metadata": {},
   "outputs": [
    {
     "data": {
      "text/html": [
       "<div>\n",
       "<style scoped>\n",
       "    .dataframe tbody tr th:only-of-type {\n",
       "        vertical-align: middle;\n",
       "    }\n",
       "\n",
       "    .dataframe tbody tr th {\n",
       "        vertical-align: top;\n",
       "    }\n",
       "\n",
       "    .dataframe thead th {\n",
       "        text-align: right;\n",
       "    }\n",
       "</style>\n",
       "<table border=\"1\" class=\"dataframe\">\n",
       "  <thead>\n",
       "    <tr style=\"text-align: right;\">\n",
       "      <th></th>\n",
       "      <th>c</th>\n",
       "      <th>d</th>\n",
       "    </tr>\n",
       "  </thead>\n",
       "  <tbody>\n",
       "    <tr>\n",
       "      <th>1</th>\n",
       "      <td>0.703963</td>\n",
       "      <td>0.285495</td>\n",
       "    </tr>\n",
       "    <tr>\n",
       "      <th>2</th>\n",
       "      <td>0.710759</td>\n",
       "      <td>0.164209</td>\n",
       "    </tr>\n",
       "  </tbody>\n",
       "</table>\n",
       "</div>"
      ],
      "text/plain": [
       "          c         d\n",
       "1  0.703963  0.285495\n",
       "2  0.710759  0.164209"
      ]
     },
     "execution_count": 147,
     "metadata": {},
     "output_type": "execute_result"
    }
   ],
   "source": [
    "newdf.loc[[1,2],['c','d']]#we use to seperate a dataframe from it"
   ]
  },
  {
   "cell_type": "code",
   "execution_count": 149,
   "id": "00519419-d0af-44b9-bc80-1c3ef0b137c7",
   "metadata": {},
   "outputs": [
    {
     "data": {
      "text/html": [
       "<div>\n",
       "<style scoped>\n",
       "    .dataframe tbody tr th:only-of-type {\n",
       "        vertical-align: middle;\n",
       "    }\n",
       "\n",
       "    .dataframe tbody tr th {\n",
       "        vertical-align: top;\n",
       "    }\n",
       "\n",
       "    .dataframe thead th {\n",
       "        text-align: right;\n",
       "    }\n",
       "</style>\n",
       "<table border=\"1\" class=\"dataframe\">\n",
       "  <thead>\n",
       "    <tr style=\"text-align: right;\">\n",
       "      <th></th>\n",
       "      <th>a</th>\n",
       "      <th>b</th>\n",
       "      <th>c</th>\n",
       "      <th>d</th>\n",
       "      <th>e</th>\n",
       "    </tr>\n",
       "  </thead>\n",
       "  <tbody>\n",
       "    <tr>\n",
       "      <th>1</th>\n",
       "      <td>0.724851</td>\n",
       "      <td>0.57384</td>\n",
       "      <td>0.703963</td>\n",
       "      <td>0.285495</td>\n",
       "      <td>0.874050</td>\n",
       "    </tr>\n",
       "    <tr>\n",
       "      <th>2</th>\n",
       "      <td>0.069039</td>\n",
       "      <td>sweeta</td>\n",
       "      <td>0.710759</td>\n",
       "      <td>0.164209</td>\n",
       "      <td>0.687675</td>\n",
       "    </tr>\n",
       "  </tbody>\n",
       "</table>\n",
       "</div>"
      ],
      "text/plain": [
       "          a        b         c         d         e\n",
       "1  0.724851  0.57384  0.703963  0.285495  0.874050\n",
       "2  0.069039   sweeta  0.710759  0.164209  0.687675"
      ]
     },
     "execution_count": 149,
     "metadata": {},
     "output_type": "execute_result"
    }
   ],
   "source": [
    "newdf.loc[[1,2],:]"
   ]
  },
  {
   "cell_type": "code",
   "execution_count": 150,
   "id": "3cb0c2ac-3af9-4e20-983a-e807e570fcdc",
   "metadata": {},
   "outputs": [
    {
     "data": {
      "text/html": [
       "<div>\n",
       "<style scoped>\n",
       "    .dataframe tbody tr th:only-of-type {\n",
       "        vertical-align: middle;\n",
       "    }\n",
       "\n",
       "    .dataframe tbody tr th {\n",
       "        vertical-align: top;\n",
       "    }\n",
       "\n",
       "    .dataframe thead th {\n",
       "        text-align: right;\n",
       "    }\n",
       "</style>\n",
       "<table border=\"1\" class=\"dataframe\">\n",
       "  <thead>\n",
       "    <tr style=\"text-align: right;\">\n",
       "      <th></th>\n",
       "      <th>c</th>\n",
       "      <th>d</th>\n",
       "    </tr>\n",
       "  </thead>\n",
       "  <tbody>\n",
       "    <tr>\n",
       "      <th>0</th>\n",
       "      <td>0.179161</td>\n",
       "      <td>0.581572</td>\n",
       "    </tr>\n",
       "    <tr>\n",
       "      <th>1</th>\n",
       "      <td>0.703963</td>\n",
       "      <td>0.285495</td>\n",
       "    </tr>\n",
       "    <tr>\n",
       "      <th>2</th>\n",
       "      <td>0.710759</td>\n",
       "      <td>0.164209</td>\n",
       "    </tr>\n",
       "    <tr>\n",
       "      <th>3</th>\n",
       "      <td>0.618435</td>\n",
       "      <td>0.389579</td>\n",
       "    </tr>\n",
       "    <tr>\n",
       "      <th>4</th>\n",
       "      <td>0.041252</td>\n",
       "      <td>0.921733</td>\n",
       "    </tr>\n",
       "    <tr>\n",
       "      <th>...</th>\n",
       "      <td>...</td>\n",
       "      <td>...</td>\n",
       "    </tr>\n",
       "    <tr>\n",
       "      <th>329</th>\n",
       "      <td>0.142253</td>\n",
       "      <td>0.033243</td>\n",
       "    </tr>\n",
       "    <tr>\n",
       "      <th>330</th>\n",
       "      <td>0.304454</td>\n",
       "      <td>0.572321</td>\n",
       "    </tr>\n",
       "    <tr>\n",
       "      <th>331</th>\n",
       "      <td>0.528585</td>\n",
       "      <td>0.133788</td>\n",
       "    </tr>\n",
       "    <tr>\n",
       "      <th>332</th>\n",
       "      <td>0.885682</td>\n",
       "      <td>0.164834</td>\n",
       "    </tr>\n",
       "    <tr>\n",
       "      <th>333</th>\n",
       "      <td>0.795566</td>\n",
       "      <td>0.386392</td>\n",
       "    </tr>\n",
       "  </tbody>\n",
       "</table>\n",
       "<p>334 rows × 2 columns</p>\n",
       "</div>"
      ],
      "text/plain": [
       "            c         d\n",
       "0    0.179161  0.581572\n",
       "1    0.703963  0.285495\n",
       "2    0.710759  0.164209\n",
       "3    0.618435  0.389579\n",
       "4    0.041252  0.921733\n",
       "..        ...       ...\n",
       "329  0.142253  0.033243\n",
       "330  0.304454  0.572321\n",
       "331  0.528585  0.133788\n",
       "332  0.885682  0.164834\n",
       "333  0.795566  0.386392\n",
       "\n",
       "[334 rows x 2 columns]"
      ]
     },
     "execution_count": 150,
     "metadata": {},
     "output_type": "execute_result"
    }
   ],
   "source": [
    "newdf.loc[:,['c','d']]"
   ]
  },
  {
   "cell_type": "code",
   "execution_count": null,
   "id": "40f08ba5-0c47-4a3b-9a3e-e29fef15a0bf",
   "metadata": {},
   "outputs": [],
   "source": []
  }
 ],
 "metadata": {
  "kernelspec": {
   "display_name": "Python 3 (ipykernel)",
   "language": "python",
   "name": "python3"
  },
  "language_info": {
   "codemirror_mode": {
    "name": "ipython",
    "version": 3
   },
   "file_extension": ".py",
   "mimetype": "text/x-python",
   "name": "python",
   "nbconvert_exporter": "python",
   "pygments_lexer": "ipython3",
   "version": "3.11.0"
  }
 },
 "nbformat": 4,
 "nbformat_minor": 5
}
