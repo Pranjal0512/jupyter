{
 "cells": [
  {
   "cell_type": "code",
   "execution_count": 1,
   "id": "f3ce6e05-05fe-4e57-b8d4-263869b2a8fa",
   "metadata": {},
   "outputs": [
    {
     "name": "stdout",
     "output_type": "stream",
     "text": [
      "Requirement already satisfied: mysql-connector in c:\\python311\\lib\\site-packages (2.2.9)\n"
     ]
    },
    {
     "name": "stderr",
     "output_type": "stream",
     "text": [
      "\n",
      "[notice] A new release of pip available: 22.3 -> 22.3.1\n",
      "[notice] To update, run: python.exe -m pip install --upgrade pip\n"
     ]
    }
   ],
   "source": [
    "!pip install mysql-connector"
   ]
  },
  {
   "cell_type": "code",
   "execution_count": 2,
   "id": "b9ae37ef-fd5e-442d-9d92-8830e5ff2743",
   "metadata": {},
   "outputs": [],
   "source": [
    "import mysql.connector    #importing database\n",
    "database=mysql.connector.connect(\n",
    "    host=\"localhost\",\n",
    "    user=\"root\",\n",
    "    password=\"\",\n",
    "    database=\"python class3pm\"\n",
    ")\n",
    "db=database.cursor()"
   ]
  },
  {
   "cell_type": "code",
   "execution_count": 3,
   "id": "347ea7af-5a21-4192-8821-c2a45ad93a5f",
   "metadata": {},
   "outputs": [],
   "source": [
    "# db.execute(\"CREATE DATABASE pythons\")"
   ]
  },
  {
   "cell_type": "code",
   "execution_count": 4,
   "id": "d93b877a-b8fe-4510-81d5-cbad8ddee46b",
   "metadata": {},
   "outputs": [
    {
     "name": "stdout",
     "output_type": "stream",
     "text": [
      "[(1, 'NIKHIL', 99, 89, 97, 100, 100, 489, 98.0, 'P'), (3, 'SWEETA', 99, 99, 99, 99, 99, 495, 99.0, 'P'), (4, 'ARUSHI', 99, 97, 98, 100, 95, 460, 93.0, 'A'), (5, 'PRANJAL BARNWAL', 99, 97, 98, 100, 95, 460, 93.0, 'A'), (6, 'kiran', 89, 99, 100, 100, 100, 490, 90.0, 'A+'), (0, 'nabin', 78, 90, 98, 89, 99, 400, 90.0, 'A+')]\n"
     ]
    }
   ],
   "source": [
    "db.execute(\"SELECT * FROM student\")\n",
    "result=db.fetchall()\n",
    "print(result)"
   ]
  },
  {
   "cell_type": "code",
   "execution_count": 5,
   "id": "18e8f77e-aee6-4bf2-89ae-26f9a8d7aff1",
   "metadata": {},
   "outputs": [
    {
     "name": "stdout",
     "output_type": "stream",
     "text": [
      "[(1, 'NIKHIL', 'P'), (3, 'SWEETA', 'P'), (4, 'ARUSHI', 'A'), (5, 'PRANJAL BARNWAL', 'A'), (6, 'kiran', 'A+'), (0, 'nabin', 'A+')]\n"
     ]
    }
   ],
   "source": [
    "db.execute(\"SELECT sn,Name,grade FROM student\")\n",
    "result=db.fetchall()\n",
    "print(result)"
   ]
  },
  {
   "cell_type": "code",
   "execution_count": 6,
   "id": "8c1a9ad2-67ab-4547-8ad1-5ebc2588734f",
   "metadata": {},
   "outputs": [],
   "source": [
    "sql='''INSERT INTO student(Name, Physics, Chemistry, English, Nepali, Computer, Total, Per, Grade) \n",
    "VALUES ('nabin',78,90,98,89,99,400,90,'A+')'''\n",
    "db.execute(sql)\n",
    "database.commit()"
   ]
  },
  {
   "cell_type": "code",
   "execution_count": 11,
   "id": "9bdeff0c-00d5-4194-a096-01a86bfbb92a",
   "metadata": {},
   "outputs": [
    {
     "name": "stdin",
     "output_type": "stream",
     "text": [
      "enter the number= 2\n",
      "enter name= prabin\n",
      "enter physics= 12\n",
      "enter chemistry= 34\n",
      "enter English= 56\n",
      "enter Nepali= 78\n",
      "enter Computer= 89\n",
      "enter name= shikha\n",
      "enter physics= 12\n",
      "enter chemistry= 34\n",
      "enter English= 56\n",
      "enter Nepali= 78\n",
      "enter Computer= 90\n"
     ]
    }
   ],
   "source": [
    "n=int(input(\"enter the number=\"))\n",
    "for i in range(n):\n",
    "    Name= input(\"enter name=\")\n",
    "    Physics= int(input(\"enter physics=\"))\n",
    "    Chemistry= int(input(\"enter chemistry=\"))\n",
    "    English= int(input(\"enter English=\"))\n",
    "    Nepali= int(input(\"enter Nepali=\"))\n",
    "    Computer= int(input(\"enter Computer=\"))\n",
    "    Total= Physics+Chemistry+English+Nepali+Computer\n",
    "    per=Total/5\n",
    "    if per>80:\n",
    "        grade='A'\n",
    "    elif per>90:\n",
    "        grade='A+'\n",
    "    elif per>70:\n",
    "        grade='B'\n",
    "    else:\n",
    "        grade='F'\n",
    "    sql=f'''INSERT INTO student(Name, Physics, Chemistry, English, Nepali, Computer, Total, Per, Grade) \n",
    "    VALUES ('{Name}',{Physics},{Chemistry},{English},{Nepali},{Computer},{Total},{per},'{grade}')'''\n",
    "    db.execute(sql)\n",
    "database.commit()  "
   ]
  },
  {
   "cell_type": "code",
   "execution_count": 12,
   "id": "5d2e2c10-6740-4536-b487-5bcc6db4647c",
   "metadata": {},
   "outputs": [
    {
     "name": "stdout",
     "output_type": "stream",
     "text": [
      "[(6, 'kiran', 89, 99, 100, 100, 100, 490, 90.0, 'A+'), (0, 'nabin', 78, 90, 98, 89, 99, 400, 90.0, 'A+'), (0, 'nabin', 78, 90, 98, 89, 99, 400, 90.0, 'A+')]\n"
     ]
    }
   ],
   "source": [
    "db.execute(\"SELECT * FROM student WHERE Grade='A+'\")\n",
    "result=db.fetchall()\n",
    "print(result)"
   ]
  },
  {
   "cell_type": "code",
   "execution_count": 15,
   "id": "31d63cdf-a3c4-42b6-9a20-3d0697bba001",
   "metadata": {},
   "outputs": [
    {
     "name": "stdout",
     "output_type": "stream",
     "text": [
      "[(6, 'kiran', 89, 99, 100, 100, 100, 490, 90.0, 'A+')]\n"
     ]
    }
   ],
   "source": [
    "db.execute(\"SELECT * FROM student WHERE Grade='A+' and Physics>80\")\n",
    "result=db.fetchall()\n",
    "print(result)"
   ]
  },
  {
   "cell_type": "code",
   "execution_count": 16,
   "id": "9a3fd373-e9dc-4bb7-935d-f7ab6bd8c1d3",
   "metadata": {},
   "outputs": [],
   "source": [
    "sql=(\"DELETE FROM student WHERE Grade='F'\")\n",
    "db.execute(sql)\n",
    "database.commit()"
   ]
  },
  {
   "cell_type": "code",
   "execution_count": 17,
   "id": "da644f4e-4f42-4860-b3c5-620347512ce9",
   "metadata": {},
   "outputs": [],
   "source": [
    "sql=(\"UPDATE student SET Name='shweta' WHERE Name='SWEETA'\")\n",
    "db.execute(sql)\n",
    "database.commit()"
   ]
  },
  {
   "cell_type": "code",
   "execution_count": null,
   "id": "c2cc1552-741d-4419-bfb4-70a37b88d6e4",
   "metadata": {},
   "outputs": [],
   "source": []
  }
 ],
 "metadata": {
  "kernelspec": {
   "display_name": "Python 3 (ipykernel)",
   "language": "python",
   "name": "python3"
  },
  "language_info": {
   "codemirror_mode": {
    "name": "ipython",
    "version": 3
   },
   "file_extension": ".py",
   "mimetype": "text/x-python",
   "name": "python",
   "nbconvert_exporter": "python",
   "pygments_lexer": "ipython3",
   "version": "3.11.0"
  }
 },
 "nbformat": 4,
 "nbformat_minor": 5
}
