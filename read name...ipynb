{
 "cells": [
  {
   "cell_type": "code",
   "execution_count": 4,
   "id": "71e81a61-5a1a-449d-aa37-940f317b705f",
   "metadata": {},
   "outputs": [],
   "source": [
    "import json"
   ]
  },
  {
   "cell_type": "code",
   "execution_count": 22,
   "id": "32ea129e-c514-4db2-bba4-cb88c865cae0",
   "metadata": {},
   "outputs": [],
   "source": [
    "#name\n",
    "#price\n",
    "#reviews\n",
    "#rating\n",
    "#stock"
   ]
  },
  {
   "cell_type": "code",
   "execution_count": 15,
   "id": "d0510512-e0cd-43f3-bee7-5e45d2d574b4",
   "metadata": {},
   "outputs": [
    {
     "name": "stdout",
     "output_type": "stream",
     "text": [
      "dict_keys(['filter', 'listItems', 'breadcrumb', 'sortBar', 'LazadaDecoration', 'resultTips'])\n"
     ]
    }
   ],
   "source": [
    "with open('books.json', encoding=\"utf8\") as lists:\n",
    "    bookLists = json.load(lists)\n",
    "    print(bookLists['mods'].keys())"
   ]
  },
  {
   "cell_type": "code",
   "execution_count": 45,
   "id": "271d7b6e-fd14-4348-bd6c-b6b2652c26a8",
   "metadata": {},
   "outputs": [
    {
     "name": "stdout",
     "output_type": "stream",
     "text": [
      "1 Ekadeshma (Nirmal Kumar Thapa) - Nirmal Kumar Thapa 5555.00 0\n",
      "2 Tamorko Suseli - Laxmi Kishor Subedi 375.00 0\n",
      "3 Muffler - Pradeep Rodan 598.00 0\n",
      "4 Tanav Vyavasthapan - Tejkumar Dawadi 120.00 1\n",
      "5 Safaltako Dash Niyam (Nepali translation - The 10 Rules of Success) - Mridula Agarwal (bestseller) 295.00 6\n",
      "6 Mind Power - Yogi Bikashanand 300.00 0\n",
      "7 Yo Jindagi Khai Ke Jindagi - Hari Bhakta Katuwal (Ratna Pustak Bhandar) (bestseller) 125.00 14\n",
      "8 Pallo Gharko Jhyal - Govinda Bahadur Malla 'Gothale' 135.00 0\n",
      "9 Bishwa Lok Katha Saggraha: Khanda 2 - Karunakar Vaidya (Ratna Pustak Bhandar) 175.00 9\n",
      "10 Jeewan Ra Peshlai Safal Banaune Sutra - Del Karnegi 399.00 0\n",
      "11 Tapai Ke Garnu Saknuhunna ? - Swett Marden (bestseller) 195.00 1\n",
      "12 Practicing The Power Of Now (Hindi) - Eckhart Tolle 400.00 0\n",
      "13 Aaja Ramita Chha - Indra Bahadur Rai 350.00 1\n",
      "14 Sabbaibhanda Kathin Kaam Sabbaibhanda Pahile (Nepali translation of Eat That Frog ) - Brian Tracy (bestseller) 150.00 14\n",
      "15 Jiunuko Majja - Yongey Mingyur Rinpoche (bestseller) 500.00 4\n",
      "16 Karagar (Sajha) - Banira Giri 180.00 0\n",
      "17 Sangam - Mohanbahadur Kayastha 200.00 0\n",
      "18 Dhruba - Balkrishna Sama 75.00 1\n",
      "19 Abstract Chintan: Pyaz - Shankar Lamichhane        * Madan Puraskar Winner 2024 BS (bestseller) 150.00 5\n",
      "20 Baishali Ki Nagarbadhu - Acharya Chatursen 745.00 0\n",
      "21 Ular - Nayan Raj Pandey (bestseller) 150.00 2\n",
      "22 Jaadu - Rhonda Byrne (The Magic in Hindi) 560.00 1\n",
      "23 Satprayas - Diamond Shumsher Rana (Ratna Pustak Bhandar) 395.00 0\n",
      "24 Harmonium Sangeet Shiksha - Abhaya Budhathoki (bestseller) 150.00 19\n",
      "25 Sathiharuko Man Kasari Jitne (Subi Pustak Bhandar) (Nepali Translation - How to Win Friends and Influence People) - Dale Carnegie (bestseller) 350.00 3\n",
      "26 Raktabij - Krishna Abiral (bestseller) 350.00 2\n",
      "27 Tapai ko Avachetan Mann ko Shakti - Joseph Murphy (The Power Of Your Subconscious Mind Nepali translation) (bestseller) 350.00 18\n",
      "28 Sansar ko Sabaibhanda Mahan Salesman - Ong Mandino (The Greatest Salesman in the World Nepali translation) (bestseller) 150.00 12\n",
      "29 Lekhan Tatha Abivyakti Kala (Ratna Pustak Bhandar) 250.00 1\n",
      "30 Tapai ko Jeet - Shiv Khera (Nepali translation of You Can Win) (bestseller) 575.00 4\n",
      "31 Pahelpur - GS Poudel 600.00 2\n",
      "32 Bishwa Lok Katha Sangraha: Khanda 1 - Karunakar Vaidya (Ratna Pustak Bhandar) 175.00 6\n",
      "33 Dhaniharuka Panch Niyam - Sudhir Dixit 375.00 2\n",
      "34 Baulako Diary - Maheshwor Panta 450.00 0\n",
      "35 Sajilo Keyboard Course - Abhaya Budathoki (Ratna Pustak Bhandar) (bestseller) 125.00 6\n",
      "36 Sathiharu Ko Mann Jitne Tatha Manishharu Lai Prabhav Parne Kala - Dale Carnegie (How To Win Friends And Influence People Nepali Translation) 350.00 9\n",
      "37 Karodpati Kasari Banne? - Swett Marden (bestseller) 250.00 1\n",
      "38 Pheri Kahile Bhet Hola? - Yudhir Thapa 30.00 2\n",
      "39 Jeevan Eak Samsya Eak Samadhan - Yogi Bikashanand 300.00 0\n",
      "40 Dhani Bubako Lagani Marganirdesan - Robert T. Kiyosaki 825.00 0\n"
     ]
    }
   ],
   "source": [
    "items = bookLists['mods']['listItems']\n",
    "for i,item in enumerate(items):\n",
    "    print(i+1,item['name'],item['price'],item['review'])"
   ]
  },
  {
   "cell_type": "code",
   "execution_count": null,
   "id": "a4911249-c273-48a0-a11a-b315d4d3f29c",
   "metadata": {},
   "outputs": [],
   "source": []
  }
 ],
 "metadata": {
  "kernelspec": {
   "display_name": "Python 3 (ipykernel)",
   "language": "python",
   "name": "python3"
  },
  "language_info": {
   "codemirror_mode": {
    "name": "ipython",
    "version": 3
   },
   "file_extension": ".py",
   "mimetype": "text/x-python",
   "name": "python",
   "nbconvert_exporter": "python",
   "pygments_lexer": "ipython3",
   "version": "3.11.0"
  }
 },
 "nbformat": 4,
 "nbformat_minor": 5
}
