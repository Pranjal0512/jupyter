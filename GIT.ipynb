{
 "cells": [
  {
   "cell_type": "code",
   "execution_count": null,
   "id": "298378e8-5029-456f-b775-74cbb72608d8",
   "metadata": {},
   "outputs": [],
   "source": [
    "# git init\n",
    "# git add *\n",
    "\n",
    "# git commit-m \"this is my first commit!\"\n",
    "\n",
    "# git config --global user.name \"Pranjal0512\"\n",
    "# git config --global user.email \"pranjal.barnwal051234@gmail.com\"\n",
    "\n",
    "# git commit-m \"this is my first commit!\"\n",
    "# git branch -M master\n",
    "\n",
    "# git remote add origin https://github.com/Pranjal0512/jupyter.git\n",
    "# git push -u origin main\n",
    "\n",
    "\n",
    "\n",
    "# if new is added to the folder then\n",
    "\n",
    "# git add *\n",
    "# git commit -m \"all code updated\"\n",
    "# git push origin master"
   ]
  }
 ],
 "metadata": {
  "kernelspec": {
   "display_name": "Python 3 (ipykernel)",
   "language": "python",
   "name": "python3"
  },
  "language_info": {
   "codemirror_mode": {
    "name": "ipython",
    "version": 3
   },
   "file_extension": ".py",
   "mimetype": "text/x-python",
   "name": "python",
   "nbconvert_exporter": "python",
   "pygments_lexer": "ipython3",
   "version": "3.11.0"
  }
 },
 "nbformat": 4,
 "nbformat_minor": 5
}
