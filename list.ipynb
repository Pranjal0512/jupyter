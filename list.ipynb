{
 "cells": [
  {
   "cell_type": "code",
   "execution_count": 1,
   "id": "fd0fb87e-642d-4793-b925-92f4cf8ca785",
   "metadata": {},
   "outputs": [],
   "source": [
    "#python collection\n",
    "#list\n",
    "#tuple\n",
    "#dictionary\n",
    "#set"
   ]
  },
  {
   "cell_type": "markdown",
   "id": "58ee9171-b3d3-4b00-b67e-877b2d6d3041",
   "metadata": {},
   "source": [
    "***LIST***\n"
   ]
  },
  {
   "cell_type": "code",
   "execution_count": 2,
   "id": "fa703ef3-8e42-493a-aae1-ee8d278d9fb7",
   "metadata": {},
   "outputs": [],
   "source": [
    "#List\n",
    "#multiple and duplicate data\n",
    "#indexing\n",
    "#ordered\n",
    "#mutable"
   ]
  },
  {
   "cell_type": "code",
   "execution_count": 3,
   "id": "1312bc4f-901e-47e3-a8a7-5b1bd311f5e3",
   "metadata": {},
   "outputs": [
    {
     "name": "stdout",
     "output_type": "stream",
     "text": [
      "<class 'list'>\n",
      "<class 'list'>\n",
      "<class 'list'>\n"
     ]
    }
   ],
   "source": [
    "a=[1,2,3,4,5,6]\n",
    "b=['apple','ball','cat']\n",
    "c=list()\n",
    "\n",
    "print(type(a))\n",
    "print(type(b))\n",
    "print(type(c))"
   ]
  },
  {
   "cell_type": "code",
   "execution_count": 4,
   "id": "cce57f0b-11cd-4b4b-8dec-c17c551da221",
   "metadata": {},
   "outputs": [
    {
     "name": "stdout",
     "output_type": "stream",
     "text": [
      "[1, 2, 3, 4, 5, 6]\n",
      "['apple', 'ball', 'cat']\n",
      "[]\n"
     ]
    }
   ],
   "source": [
    "print(a)\n",
    "print(b)\n",
    "print(c)"
   ]
  },
  {
   "cell_type": "code",
   "execution_count": 5,
   "id": "cde508c5-d884-4e6f-aeef-9b3f76584315",
   "metadata": {},
   "outputs": [
    {
     "data": {
      "text/plain": [
       "'apple'"
      ]
     },
     "execution_count": 5,
     "metadata": {},
     "output_type": "execute_result"
    }
   ],
   "source": [
    "b[0]"
   ]
  },
  {
   "cell_type": "code",
   "execution_count": 6,
   "id": "c87a9bca-12ad-483d-a933-40f506569207",
   "metadata": {},
   "outputs": [],
   "source": [
    "a=['apple','ball','cat']\n",
    "b=a[0:3]"
   ]
  },
  {
   "cell_type": "code",
   "execution_count": 7,
   "id": "eb4e77c1-b502-47f0-b590-0b588892be99",
   "metadata": {},
   "outputs": [
    {
     "data": {
      "text/plain": [
       "['apple', 'ball', 'cat']"
      ]
     },
     "execution_count": 7,
     "metadata": {},
     "output_type": "execute_result"
    }
   ],
   "source": [
    "b"
   ]
  },
  {
   "cell_type": "code",
   "execution_count": 8,
   "id": "4dfdd412-bc8f-4011-b2da-d1d950063656",
   "metadata": {},
   "outputs": [
    {
     "data": {
      "text/plain": [
       "['apple', 'cat']"
      ]
     },
     "execution_count": 8,
     "metadata": {},
     "output_type": "execute_result"
    }
   ],
   "source": [
    "a=['apple','ball','cat']\n",
    "a[0:6:2]"
   ]
  },
  {
   "cell_type": "code",
   "execution_count": 9,
   "id": "562a4d8e-3a33-4e35-a527-de15d616f1da",
   "metadata": {},
   "outputs": [],
   "source": [
    "a=['apple','ball','cat']\n",
    "b=[1,2,3]\n",
    "c=a+b"
   ]
  },
  {
   "cell_type": "code",
   "execution_count": 10,
   "id": "6fa58d58-585d-4cc8-9e4a-71fea48f4e16",
   "metadata": {},
   "outputs": [
    {
     "data": {
      "text/plain": [
       "list"
      ]
     },
     "execution_count": 10,
     "metadata": {},
     "output_type": "execute_result"
    }
   ],
   "source": [
    "type(c)"
   ]
  },
  {
   "cell_type": "code",
   "execution_count": 11,
   "id": "4480a3f8-78da-43a0-88ee-fa43abb9ac67",
   "metadata": {},
   "outputs": [
    {
     "name": "stdout",
     "output_type": "stream",
     "text": [
      "['apple', 'ball', 'cat', 'apple', 'ball', 'cat']\n"
     ]
    }
   ],
   "source": [
    "a=['apple','ball','cat']\n",
    "print(a*2)"
   ]
  },
  {
   "cell_type": "code",
   "execution_count": 12,
   "id": "99f4f05d-ffa5-4472-b4c0-1a7e7c7f3abb",
   "metadata": {},
   "outputs": [
    {
     "name": "stdin",
     "output_type": "stream",
     "text": [
      "enter n = 1\n",
      "enter x = 1\n"
     ]
    },
    {
     "name": "stdout",
     "output_type": "stream",
     "text": [
      "[1]\n"
     ]
    }
   ],
   "source": [
    "a=[]\n",
    "n=int(input(\"enter n =\"))\n",
    "for i in range(n):\n",
    "    x=int(input(\"enter x =\"))\n",
    "    a=a+[x]\n",
    "print(a)"
   ]
  },
  {
   "cell_type": "code",
   "execution_count": 13,
   "id": "c9cc56bb-7520-4733-8163-5705472b57b9",
   "metadata": {},
   "outputs": [
    {
     "data": {
      "text/plain": [
       "[1]"
      ]
     },
     "execution_count": 13,
     "metadata": {},
     "output_type": "execute_result"
    }
   ],
   "source": [
    "a"
   ]
  },
  {
   "cell_type": "code",
   "execution_count": 14,
   "id": "a5d3e212-fe61-4e75-90f0-423085082fea",
   "metadata": {},
   "outputs": [
    {
     "data": {
      "text/plain": [
       "1"
      ]
     },
     "execution_count": 14,
     "metadata": {},
     "output_type": "execute_result"
    }
   ],
   "source": [
    "max(a)"
   ]
  },
  {
   "cell_type": "code",
   "execution_count": 15,
   "id": "c00a7d45-c53b-423c-bd5a-63dfdbe70bc5",
   "metadata": {},
   "outputs": [
    {
     "data": {
      "text/plain": [
       "1"
      ]
     },
     "execution_count": 15,
     "metadata": {},
     "output_type": "execute_result"
    }
   ],
   "source": [
    "min(a)"
   ]
  },
  {
   "cell_type": "code",
   "execution_count": 16,
   "id": "9fb9b1ed-fdc8-4fad-a166-01b2cbbe3b19",
   "metadata": {},
   "outputs": [
    {
     "data": {
      "text/plain": [
       "1"
      ]
     },
     "execution_count": 16,
     "metadata": {},
     "output_type": "execute_result"
    }
   ],
   "source": [
    "sum(a)"
   ]
  },
  {
   "cell_type": "code",
   "execution_count": 17,
   "id": "c94c7538-6035-406f-81d6-f78c32d628c0",
   "metadata": {},
   "outputs": [
    {
     "data": {
      "text/plain": [
       "['__add__',\n",
       " '__class__',\n",
       " '__class_getitem__',\n",
       " '__contains__',\n",
       " '__delattr__',\n",
       " '__delitem__',\n",
       " '__dir__',\n",
       " '__doc__',\n",
       " '__eq__',\n",
       " '__format__',\n",
       " '__ge__',\n",
       " '__getattribute__',\n",
       " '__getitem__',\n",
       " '__getstate__',\n",
       " '__gt__',\n",
       " '__hash__',\n",
       " '__iadd__',\n",
       " '__imul__',\n",
       " '__init__',\n",
       " '__init_subclass__',\n",
       " '__iter__',\n",
       " '__le__',\n",
       " '__len__',\n",
       " '__lt__',\n",
       " '__mul__',\n",
       " '__ne__',\n",
       " '__new__',\n",
       " '__reduce__',\n",
       " '__reduce_ex__',\n",
       " '__repr__',\n",
       " '__reversed__',\n",
       " '__rmul__',\n",
       " '__setattr__',\n",
       " '__setitem__',\n",
       " '__sizeof__',\n",
       " '__str__',\n",
       " '__subclasshook__',\n",
       " 'append',\n",
       " 'clear',\n",
       " 'copy',\n",
       " 'count',\n",
       " 'extend',\n",
       " 'index',\n",
       " 'insert',\n",
       " 'pop',\n",
       " 'remove',\n",
       " 'reverse',\n",
       " 'sort']"
      ]
     },
     "execution_count": 17,
     "metadata": {},
     "output_type": "execute_result"
    }
   ],
   "source": [
    "dir(a)"
   ]
  },
  {
   "cell_type": "code",
   "execution_count": 18,
   "id": "c8a1fdcc-45dc-4fe9-b676-6b17b1f9f061",
   "metadata": {},
   "outputs": [
    {
     "name": "stdout",
     "output_type": "stream",
     "text": [
      "1.0\n"
     ]
    }
   ],
   "source": [
    "avg=sum(a)/len(a)#print average\n",
    "print(avg)"
   ]
  },
  {
   "cell_type": "code",
   "execution_count": 19,
   "id": "24471f37-726f-4adc-a306-053d76fc401a",
   "metadata": {},
   "outputs": [
    {
     "name": "stdout",
     "output_type": "stream",
     "text": [
      "[1]\n"
     ]
    }
   ],
   "source": [
    "a.sort()\n",
    "print(a)"
   ]
  },
  {
   "cell_type": "code",
   "execution_count": 20,
   "id": "21631543-96db-4b11-80a6-713bde4c4957",
   "metadata": {},
   "outputs": [
    {
     "name": "stdout",
     "output_type": "stream",
     "text": [
      "[1]\n"
     ]
    }
   ],
   "source": [
    "a.sort()\n",
    "a.reverse()\n",
    "print(a)"
   ]
  },
  {
   "cell_type": "code",
   "execution_count": 21,
   "id": "860b9226-dff7-4489-82ff-edcba8b53b54",
   "metadata": {},
   "outputs": [],
   "source": [
    "#input data\n",
    "#append()insert()extend()\n",
    "\n",
    "#delete data\n",
    "#del remove()pop()"
   ]
  },
  {
   "cell_type": "code",
   "execution_count": 22,
   "id": "520cdd89-dc81-4f4b-891e-02382f9bce45",
   "metadata": {},
   "outputs": [],
   "source": [
    "a=[]"
   ]
  },
  {
   "cell_type": "code",
   "execution_count": 23,
   "id": "7780d04e-3353-4e30-ad77-bee021aa5475",
   "metadata": {},
   "outputs": [],
   "source": [
    "a.append(\"apple\")"
   ]
  },
  {
   "cell_type": "code",
   "execution_count": 24,
   "id": "92a939fa-60d5-4475-97fc-66d181133094",
   "metadata": {},
   "outputs": [],
   "source": [
    "a.append(\"ball\")"
   ]
  },
  {
   "cell_type": "code",
   "execution_count": 25,
   "id": "4d8f93fb-99f8-40bb-ac88-b0271eade2d1",
   "metadata": {},
   "outputs": [
    {
     "data": {
      "text/plain": [
       "['apple', 'ball']"
      ]
     },
     "execution_count": 25,
     "metadata": {},
     "output_type": "execute_result"
    }
   ],
   "source": [
    "a"
   ]
  },
  {
   "cell_type": "code",
   "execution_count": 26,
   "id": "6bd32faf-9943-49fe-a4cf-7f9b137069db",
   "metadata": {},
   "outputs": [],
   "source": [
    "a.append(\"fish\")"
   ]
  },
  {
   "cell_type": "code",
   "execution_count": 27,
   "id": "2029e763-ec5e-4329-996a-2d8463062a4f",
   "metadata": {},
   "outputs": [],
   "source": [
    "a.insert(1,\"cat\")"
   ]
  },
  {
   "cell_type": "code",
   "execution_count": 28,
   "id": "c8c17a40-59e5-48cd-825c-66b870fe581b",
   "metadata": {},
   "outputs": [
    {
     "data": {
      "text/plain": [
       "['apple', 'cat', 'ball', 'fish']"
      ]
     },
     "execution_count": 28,
     "metadata": {},
     "output_type": "execute_result"
    }
   ],
   "source": [
    "a"
   ]
  },
  {
   "cell_type": "code",
   "execution_count": 29,
   "id": "9c1c749c-e63a-45a5-afb4-3e025e2cb219",
   "metadata": {},
   "outputs": [],
   "source": [
    "a.extend([1,2,3,4,5,6])"
   ]
  },
  {
   "cell_type": "code",
   "execution_count": 30,
   "id": "b01d950b-14df-4452-9ed8-1ac60eb98057",
   "metadata": {},
   "outputs": [
    {
     "data": {
      "text/plain": [
       "['apple', 'cat', 'ball', 'fish', 1, 2, 3, 4, 5, 6]"
      ]
     },
     "execution_count": 30,
     "metadata": {},
     "output_type": "execute_result"
    }
   ],
   "source": [
    "a"
   ]
  },
  {
   "cell_type": "code",
   "execution_count": 31,
   "id": "371722de-ae74-4b1a-b65f-95b93d0b5d04",
   "metadata": {},
   "outputs": [
    {
     "name": "stdout",
     "output_type": "stream",
     "text": [
      "apple\n",
      "cat\n",
      "ball\n",
      "fish\n",
      "1\n",
      "2\n",
      "3\n",
      "4\n",
      "5\n",
      "6\n"
     ]
    }
   ],
   "source": [
    "#read\n",
    "for x in a:\n",
    "    print(x)"
   ]
  },
  {
   "cell_type": "code",
   "execution_count": 32,
   "id": "4ef35d29-0b1c-415a-8b57-c70cc6d2e792",
   "metadata": {
    "tags": []
   },
   "outputs": [],
   "source": [
    "# a=[]\n",
    "#n=int(input(\"enter n =\"))\n",
    "#for i in range(n):\n",
    " #   x=input(\"enter x =\")\n",
    "  #  a.append(x)\n",
    "#print(a)"
   ]
  },
  {
   "cell_type": "code",
   "execution_count": 33,
   "id": "6fd52626-da4b-408e-88f6-8725aac8c3ac",
   "metadata": {},
   "outputs": [],
   "source": [
    "a=[\"apple\",\"ball\",\"cat\",'dog','egg',\"fish\"]"
   ]
  },
  {
   "cell_type": "code",
   "execution_count": 34,
   "id": "dc326e8e-22f2-4a6a-b972-1558164b46a5",
   "metadata": {},
   "outputs": [],
   "source": [
    "del a[0]"
   ]
  },
  {
   "cell_type": "code",
   "execution_count": 35,
   "id": "5123528f-de57-4742-b4ee-1281b753f1cc",
   "metadata": {},
   "outputs": [
    {
     "data": {
      "text/plain": [
       "['ball', 'cat', 'dog', 'egg', 'fish']"
      ]
     },
     "execution_count": 35,
     "metadata": {},
     "output_type": "execute_result"
    }
   ],
   "source": [
    "a"
   ]
  },
  {
   "cell_type": "code",
   "execution_count": 36,
   "id": "8b7985aa-d38c-4401-a91d-7e8c4d1a924f",
   "metadata": {},
   "outputs": [],
   "source": [
    "a=[\"apple\",\"ball\",\"cat\",'dog','egg',\"fish\"]\n",
    "del a[0:3]"
   ]
  },
  {
   "cell_type": "code",
   "execution_count": 37,
   "id": "ccae4040-7b57-49a5-b375-5c11a0abfb11",
   "metadata": {},
   "outputs": [],
   "source": [
    "a=[\"apple\",\"ball\",\"cat\",'dog','egg',\"fish\"]\n",
    "a.remove(\"ball\")"
   ]
  },
  {
   "cell_type": "code",
   "execution_count": 38,
   "id": "999d1159-45c1-49c7-8837-f81f8d74b9de",
   "metadata": {},
   "outputs": [
    {
     "name": "stdout",
     "output_type": "stream",
     "text": [
      "2\n",
      "['ball', 'cat', 'dog', 'egg', 'fish']\n"
     ]
    }
   ],
   "source": [
    "#removing multiple value\n",
    "a=[\"apple\",\"ball\",\"cat\",'dog','egg',\"fish\",\"apple\"]\n",
    "c=a.count(\"apple\")\n",
    "print(c)\n",
    "for i in range(c):\n",
    "    a.remove('apple')\n",
    "print(a)    "
   ]
  },
  {
   "cell_type": "code",
   "execution_count": 39,
   "id": "64d57eea-f683-4cea-a617-4da8c316056f",
   "metadata": {},
   "outputs": [
    {
     "name": "stdout",
     "output_type": "stream",
     "text": [
      "['ball', 'cat', 'dog', 'egg', 'fish'] apple\n"
     ]
    }
   ],
   "source": [
    "a=[\"apple\",\"ball\",\"cat\",'dog','egg',\"fish\"]\n",
    "b=a.pop(0)\n",
    "print(a,b)"
   ]
  },
  {
   "cell_type": "code",
   "execution_count": 40,
   "id": "48ddac27-472b-4e48-9705-9ff5113639c6",
   "metadata": {},
   "outputs": [
    {
     "data": {
      "text/plain": [
       "0"
      ]
     },
     "execution_count": 40,
     "metadata": {},
     "output_type": "execute_result"
    }
   ],
   "source": [
    "a=[\"apple\",\"ball\",\"cat\",'dog','egg',\"fish\",\"apple\"]\n",
    "a.index(\"apple\")"
   ]
  },
  {
   "cell_type": "code",
   "execution_count": 41,
   "id": "97b23906-28bb-4ff8-b019-58979705f7f2",
   "metadata": {},
   "outputs": [
    {
     "name": "stdout",
     "output_type": "stream",
     "text": [
      "0\n",
      "6\n"
     ]
    }
   ],
   "source": [
    "l=len(a)\n",
    "for i in range(l):\n",
    "    if a[i]==\"apple\":\n",
    "        print(i)\n",
    "        "
   ]
  },
  {
   "cell_type": "code",
   "execution_count": 42,
   "id": "51fbabcc-caf3-4283-87be-d879ebac16d6",
   "metadata": {},
   "outputs": [
    {
     "name": "stdout",
     "output_type": "stream",
     "text": [
      "apple\n",
      "ball\n",
      "cat\n",
      "dog\n",
      "egg\n",
      "fish\n",
      "apple\n"
     ]
    }
   ],
   "source": [
    "a=[\"apple\",\"ball\",\"cat\",'dog','egg',\"fish\",\"apple\"]\n",
    "l=len(a)\n",
    "i=0\n",
    "while i<l:\n",
    "    print(a[i])\n",
    "    i=i+1"
   ]
  },
  {
   "cell_type": "code",
   "execution_count": 43,
   "id": "2e8bded7-be2a-4d5a-917d-365ac5718116",
   "metadata": {},
   "outputs": [
    {
     "name": "stdout",
     "output_type": "stream",
     "text": [
      "[[1, 2, 3], [4, 5, 6], [7, 8, 9]]\n",
      "3\n"
     ]
    }
   ],
   "source": [
    "#list inside list\n",
    "a=[[1,2,3],\n",
    "   [4,5,6],\n",
    "   [7,8,9]]\n",
    "print(a)\n",
    "print(len(a))"
   ]
  },
  {
   "cell_type": "code",
   "execution_count": 44,
   "id": "50edc3e6-71f4-4823-9139-3d3083c82403",
   "metadata": {},
   "outputs": [
    {
     "data": {
      "text/plain": [
       "[1, 2, 3]"
      ]
     },
     "execution_count": 44,
     "metadata": {},
     "output_type": "execute_result"
    }
   ],
   "source": [
    "a[0]"
   ]
  },
  {
   "cell_type": "code",
   "execution_count": 45,
   "id": "d822cd57-839d-4697-b488-d2085ba1026f",
   "metadata": {},
   "outputs": [
    {
     "data": {
      "text/plain": [
       "2"
      ]
     },
     "execution_count": 45,
     "metadata": {},
     "output_type": "execute_result"
    }
   ],
   "source": [
    "a[0][1]"
   ]
  },
  {
   "cell_type": "markdown",
   "id": "1392fd85-60bb-4507-96a1-7adc3ae061b4",
   "metadata": {},
   "source": [
    "**list inside list**"
   ]
  },
  {
   "cell_type": "code",
   "execution_count": 46,
   "id": "534da26d-60e7-4224-bceb-8650cf6e2910",
   "metadata": {},
   "outputs": [],
   "source": [
    "a=[[\"ram\",23,\"kathmandu\"],\n",
    "  [\"hari\",24,\"bhaktapur\"],\n",
    "  [\"hari\",34,\"lalitpur\"]]"
   ]
  },
  {
   "cell_type": "code",
   "execution_count": 47,
   "id": "7eb983f3-1b8d-4078-8e76-d3d90e6c4219",
   "metadata": {
    "tags": []
   },
   "outputs": [
    {
     "name": "stdin",
     "output_type": "stream",
     "text": [
      "enter n= 1\n",
      "enter name= pranjal\n",
      "enter age= 19\n",
      "enter address= baneshwor\n"
     ]
    },
    {
     "name": "stdout",
     "output_type": "stream",
     "text": [
      "[['pranjal', 19, 'baneshwor']]\n"
     ]
    }
   ],
   "source": [
    "data=[]\n",
    "n=int(input(\"enter n=\"))\n",
    "for i in range(n):\n",
    "    name= input(\"enter name=\")\n",
    "    age=int(input(\"enter age=\"))\n",
    "    add= input(\"enter address=\")\n",
    "    data.append([name,age,add])\n",
    "print(data)    "
   ]
  },
  {
   "cell_type": "code",
   "execution_count": 48,
   "id": "d7dc700b-02cf-4d44-9d3b-c761d9157754",
   "metadata": {},
   "outputs": [
    {
     "name": "stdout",
     "output_type": "stream",
     "text": [
      "['pranjal', 19, 'birgunj']\n"
     ]
    }
   ],
   "source": [
    "a=[['pranjal', 19, 'birgunj'], ['sweeta', 19, 'birgunj']]\n",
    "print(a[0])"
   ]
  },
  {
   "cell_type": "code",
   "execution_count": 49,
   "id": "392109ca-27d8-42dd-b11a-f509fa7a1cab",
   "metadata": {},
   "outputs": [
    {
     "name": "stdout",
     "output_type": "stream",
     "text": [
      "pranjal\n"
     ]
    }
   ],
   "source": [
    "a=[['pranjal', 19, 'birgunj'], ['sweeta', 19, 'birgunj']]\n",
    "print(a[0][0])"
   ]
  },
  {
   "cell_type": "code",
   "execution_count": 50,
   "id": "39c96ae1-adcf-4ada-bd93-3ebdd1799895",
   "metadata": {},
   "outputs": [
    {
     "data": {
      "text/plain": [
       "[['ram', 35, 'patan'], ['sweeta', 19, 'birgunj']]"
      ]
     },
     "execution_count": 50,
     "metadata": {},
     "output_type": "execute_result"
    }
   ],
   "source": [
    "a=[['pranjal', 19, 'birgunj'], ['sweeta', 19, 'birgunj']]\n",
    "a[0]=['ram',35,'patan']\n",
    "a"
   ]
  },
  {
   "cell_type": "code",
   "execution_count": 51,
   "id": "aa8923af-6580-4b1d-9754-d40a8c655c32",
   "metadata": {},
   "outputs": [
    {
     "data": {
      "text/plain": [
       "[['pranjal', 35, 'patan'], ['sweeta', 19, 'birgunj']]"
      ]
     },
     "execution_count": 51,
     "metadata": {},
     "output_type": "execute_result"
    }
   ],
   "source": [
    "a[0][0]='pranjal'\n",
    "a"
   ]
  },
  {
   "cell_type": "code",
   "execution_count": 52,
   "id": "8b6a1fc0-8042-4da4-859d-9620eef7e8f5",
   "metadata": {},
   "outputs": [],
   "source": [
    "a[0][1]=18"
   ]
  },
  {
   "cell_type": "code",
   "execution_count": 53,
   "id": "3b06e664-69d4-4010-a41f-793b4dc489db",
   "metadata": {},
   "outputs": [
    {
     "data": {
      "text/plain": [
       "[['pranjal', 18, 'patan'], ['sweeta', 19, 'birgunj']]"
      ]
     },
     "execution_count": 53,
     "metadata": {},
     "output_type": "execute_result"
    }
   ],
   "source": [
    "a"
   ]
  },
  {
   "cell_type": "code",
   "execution_count": 54,
   "id": "ba640506-dac2-4928-8fb8-5caf6528706e",
   "metadata": {},
   "outputs": [],
   "source": [
    "a=[['pranjal', 19, 'birgunj'], ['sweeta', 19, 'birgunj']]\n",
    "a.insert(1,['hari',23,'jhapa'])"
   ]
  },
  {
   "cell_type": "code",
   "execution_count": 55,
   "id": "8cd58093-c3aa-4a0e-86b4-f231ca03b21c",
   "metadata": {},
   "outputs": [
    {
     "data": {
      "text/plain": [
       "[['pranjal', 19, 'birgunj'], ['hari', 23, 'jhapa'], ['sweeta', 19, 'birgunj']]"
      ]
     },
     "execution_count": 55,
     "metadata": {},
     "output_type": "execute_result"
    }
   ],
   "source": [
    "a"
   ]
  },
  {
   "cell_type": "code",
   "execution_count": 56,
   "id": "2542ee3f-4d81-4b83-8e78-4f166e09304b",
   "metadata": {},
   "outputs": [
    {
     "data": {
      "text/plain": [
       "[['pranjal', 19, 'birgunj'], ['sweeta', 19, 'birgunj'], ['hari', 23, 'jhapa']]"
      ]
     },
     "execution_count": 56,
     "metadata": {},
     "output_type": "execute_result"
    }
   ],
   "source": [
    "a=[['pranjal', 19, 'birgunj'], ['sweeta', 19, 'birgunj']]#append can be used instead of insert\n",
    "a.insert(2,['hari',23,'jhapa'])\n",
    "a"
   ]
  },
  {
   "cell_type": "code",
   "execution_count": 57,
   "id": "803abab0-87ca-4afd-bfc2-030e49f4bff6",
   "metadata": {},
   "outputs": [
    {
     "data": {
      "text/plain": [
       "[['pranjal', 19, 'birgunj'], ['sweeta', 19, 'birgunj'], 1, 2, 3]"
      ]
     },
     "execution_count": 57,
     "metadata": {},
     "output_type": "execute_result"
    }
   ],
   "source": [
    "a=[['pranjal', 19, 'birgunj'], ['sweeta', 19, 'birgunj']]\n",
    "b=[1,2,3]\n",
    "a.extend(b)\n",
    "a"
   ]
  },
  {
   "cell_type": "code",
   "execution_count": 58,
   "id": "6f4d3baf-7d2b-4db6-9200-f54460221754",
   "metadata": {},
   "outputs": [
    {
     "data": {
      "text/plain": [
       "[['pranjal', 19, 'birgunj'], ['sweeta', 19, 'birgunj'], [1, 2, 3]]"
      ]
     },
     "execution_count": 58,
     "metadata": {},
     "output_type": "execute_result"
    }
   ],
   "source": [
    "a=[['pranjal', 19, 'birgunj'], ['sweeta', 19, 'birgunj']]\n",
    "b=[[1,2,3]]\n",
    "a.extend(b)\n",
    "a"
   ]
  },
  {
   "cell_type": "code",
   "execution_count": 59,
   "id": "25a46460-7031-4618-9adf-b4c7be74e88e",
   "metadata": {},
   "outputs": [],
   "source": [
    "a=[['pranjal', 19, 'birgunj'], ['sweeta', 19, 'birgunj']]\n",
    "del a[0]"
   ]
  },
  {
   "cell_type": "code",
   "execution_count": 60,
   "id": "9ae11bcb-07a5-4e34-b63e-e23e2ce774e9",
   "metadata": {},
   "outputs": [
    {
     "data": {
      "text/plain": [
       "[['sweeta', 19, 'birgunj']]"
      ]
     },
     "execution_count": 60,
     "metadata": {},
     "output_type": "execute_result"
    }
   ],
   "source": [
    "a"
   ]
  },
  {
   "cell_type": "code",
   "execution_count": 61,
   "id": "4c5822a8-dd7a-4f69-b0c8-caecb6a0b506",
   "metadata": {},
   "outputs": [
    {
     "name": "stdout",
     "output_type": "stream",
     "text": [
      "[['sweeta', 19, 'birgunj']]\n",
      "['pranjal', 19, 'birgunj']\n"
     ]
    }
   ],
   "source": [
    "a=[['pranjal', 19, 'birgunj'], ['sweeta', 19, 'birgunj']]\n",
    "x=a.pop(0)\n",
    "print(a)\n",
    "print(x)"
   ]
  },
  {
   "cell_type": "code",
   "execution_count": 62,
   "id": "651beaaf-7364-428e-b446-4a858984330e",
   "metadata": {},
   "outputs": [
    {
     "name": "stdout",
     "output_type": "stream",
     "text": [
      "yes\n",
      "2\n"
     ]
    }
   ],
   "source": [
    "b=[\"ram\",\"shyam\",\"sita\",\"hari\",\"ram\",\"laxman\"]#search\n",
    "if \"ram\" in b:\n",
    "    print(\"yes\")\n",
    "    print(b.count(\"ram\"))"
   ]
  },
  {
   "cell_type": "markdown",
   "id": "7cf37c85-4623-42b6-ad15-a8e872c9fb28",
   "metadata": {},
   "source": [
    "**search in list**"
   ]
  },
  {
   "cell_type": "code",
   "execution_count": 63,
   "id": "eaf0fdac-1117-44d5-a7c3-5613490c3473",
   "metadata": {},
   "outputs": [
    {
     "name": "stdin",
     "output_type": "stream",
     "text": [
      "enter name= pranjal\n"
     ]
    },
    {
     "name": "stdout",
     "output_type": "stream",
     "text": [
      "['pranjal', 19, 'birgunj']\n"
     ]
    }
   ],
   "source": [
    "a=[['pranjal', 19, 'birgunj'], ['sweeta', 19, 'birgunj']]\n",
    "name=input(\"enter name=\")\n",
    "for i in a:\n",
    "    #if i[0]==name:\n",
    "    if name in i:\n",
    "        print (i)\n",
    "    "
   ]
  },
  {
   "cell_type": "code",
   "execution_count": 64,
   "id": "f8906f4b-0734-46c1-9e5a-2e2a13ccfde8",
   "metadata": {},
   "outputs": [
    {
     "name": "stdin",
     "output_type": "stream",
     "text": [
      "enter name= pranjal\n"
     ]
    },
    {
     "name": "stdout",
     "output_type": "stream",
     "text": [
      "['pranjal', 19, 'birgunj']\n",
      "['pranjal', 20, 'ranighat']\n",
      "2 record found!\n"
     ]
    }
   ],
   "source": [
    "c=0\n",
    "a=[['pranjal', 19, 'birgunj'], ['sweeta', 19, 'birgunj'],['pranjal', 20, 'ranighat']]\n",
    "name=input(\"enter name=\").lower()\n",
    "for i in a:\n",
    "    if i[0].lower()==name:\n",
    "    #if name in i:\n",
    "        print (i)\n",
    "        c=c+1\n",
    "if c==0:\n",
    "    print(\"no result found!\")\n",
    "else:\n",
    "    print(c,\"record found!\")\n",
    "    "
   ]
  },
  {
   "cell_type": "code",
   "execution_count": 65,
   "id": "9cd9f866-ce53-4ee9-b450-732637f58b1f",
   "metadata": {},
   "outputs": [],
   "source": [
    "#WAP to create a biling system using list inside list and do CRUD\n",
    "#WAP to create a matrix by taking row and column taking as input\n",
    "#WAP to create prime and composite numbers for else or while else"
   ]
  },
  {
   "cell_type": "code",
   "execution_count": 67,
   "id": "e95f50dd-e18d-488a-bebf-0b4b8f58c43a",
   "metadata": {},
   "outputs": [
    {
     "name": "stdin",
     "output_type": "stream",
     "text": [
      "enter no of object= 2\n",
      "enter cost= 2\n",
      "enter cost= 2\n"
     ]
    },
    {
     "ename": "TypeError",
     "evalue": "'int' object is not iterable",
     "output_type": "error",
     "traceback": [
      "\u001b[1;31m---------------------------------------------------------------------------\u001b[0m",
      "\u001b[1;31mTypeError\u001b[0m                                 Traceback (most recent call last)",
      "Cell \u001b[1;32mIn[67], line 4\u001b[0m\n\u001b[0;32m      2\u001b[0m \u001b[38;5;28;01mfor\u001b[39;00m i \u001b[38;5;129;01min\u001b[39;00m \u001b[38;5;28mrange\u001b[39m(n):\n\u001b[0;32m      3\u001b[0m     \u001b[38;5;28mobject\u001b[39m\u001b[38;5;241m=\u001b[39m \u001b[38;5;28minput\u001b[39m(\u001b[38;5;124m\"\u001b[39m\u001b[38;5;124menter cost=\u001b[39m\u001b[38;5;124m\"\u001b[39m)\n\u001b[1;32m----> 4\u001b[0m \u001b[38;5;28mprint\u001b[39m(\u001b[38;5;28;43msum\u001b[39;49m\u001b[43m(\u001b[49m\u001b[38;5;28;43mint\u001b[39;49m\u001b[43m(\u001b[49m\u001b[38;5;28;43mobject\u001b[39;49m\u001b[43m)\u001b[49m\u001b[43m)\u001b[49m)    \n",
      "\u001b[1;31mTypeError\u001b[0m: 'int' object is not iterable"
     ]
    }
   ],
   "source": [
    "n=int(input(\"enter no of object=\"))\n",
    "for i in range(n):\n",
    "    object= input(\"enter cost=\")\n",
    "print(sum(int(object)))    "
   ]
  },
  {
   "cell_type": "code",
   "execution_count": null,
   "id": "068bc01e-a4a4-4d3b-abf3-a6c0ad7075df",
   "metadata": {},
   "outputs": [],
   "source": []
  }
 ],
 "metadata": {
  "kernelspec": {
   "display_name": "Python 3 (ipykernel)",
   "language": "python",
   "name": "python3"
  },
  "language_info": {
   "codemirror_mode": {
    "name": "ipython",
    "version": 3
   },
   "file_extension": ".py",
   "mimetype": "text/x-python",
   "name": "python",
   "nbconvert_exporter": "python",
   "pygments_lexer": "ipython3",
   "version": "3.11.0"
  }
 },
 "nbformat": 4,
 "nbformat_minor": 5
}
