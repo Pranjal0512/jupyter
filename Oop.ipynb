{
 "cells": [
  {
   "cell_type": "code",
   "execution_count": 1,
   "id": "66bdda28",
   "metadata": {},
   "outputs": [],
   "source": [
    "# class python :  #class\n",
    "#     <methods>\n",
    "    \n",
    "    \n",
    "# obj = python()  #object"
   ]
  },
  {
   "cell_type": "code",
   "execution_count": 6,
   "id": "eb75e3e4",
   "metadata": {},
   "outputs": [
    {
     "name": "stdout",
     "output_type": "stream",
     "text": [
      "hello world\n"
     ]
    }
   ],
   "source": [
    "class Hello:\n",
    "    def hello(self):\n",
    "        print(\"hello world\")\n",
    "        \n",
    "obj = Hello()\n",
    "obj.hello()"
   ]
  },
  {
   "cell_type": "code",
   "execution_count": 7,
   "id": "42c9721c",
   "metadata": {},
   "outputs": [
    {
     "name": "stdout",
     "output_type": "stream",
     "text": [
      "hello world\n"
     ]
    }
   ],
   "source": [
    "class Hello:\n",
    "    @staticmethod\n",
    "    def hello():\n",
    "        print(\"hello world\")\n",
    "        \n",
    "obj = Hello()\n",
    "obj.hello()"
   ]
  },
  {
   "cell_type": "code",
   "execution_count": 18,
   "id": "081ce903",
   "metadata": {},
   "outputs": [
    {
     "name": "stdout",
     "output_type": "stream",
     "text": [
      "450\n",
      "450\n"
     ]
    }
   ],
   "source": [
    "class Cal:\n",
    "    def area(self,l,b):\n",
    "        a=l*b\n",
    "        print(a)\n",
    "        \n",
    "    def volume(self,l,b,h):\n",
    "        v=l*b*h\n",
    "        print(v)\n",
    "obj=Cal()\n",
    "obj.area(50,9)\n",
    "obj.volume(50,3,3)"
   ]
  },
  {
   "cell_type": "code",
   "execution_count": 24,
   "id": "0e04058e",
   "metadata": {
    "scrolled": true
   },
   "outputs": [
    {
     "name": "stdout",
     "output_type": "stream",
     "text": [
      "enter the value l=5\n",
      "enter the value b=2\n",
      "enter the value h=1\n",
      "10\n",
      "10\n",
      "5 2 1\n"
     ]
    }
   ],
   "source": [
    "class Cal:\n",
    "    def __init__(self,l,b,h):\n",
    "        self.l=l\n",
    "        self.b=b\n",
    "        self.h=h\n",
    "        \n",
    "    def area(self):\n",
    "        a=self.l*self.b\n",
    "        print(a)\n",
    "        \n",
    "    def volume(self):\n",
    "        v=self.l*self.b*self.h\n",
    "        print(v)\n",
    "l=int(input(\"enter the value l=\"))\n",
    "b=int(input(\"enter the value b=\"))\n",
    "h=int(input(\"enter the value h=\"))\n",
    "\n",
    "obj=Cal(l,b,h)\n",
    "obj.area()\n",
    "obj.volume()\n",
    "print(obj.l,obj.b,obj.h)"
   ]
  },
  {
   "cell_type": "code",
   "execution_count": 27,
   "id": "d44dc151",
   "metadata": {},
   "outputs": [
    {
     "name": "stdout",
     "output_type": "stream",
     "text": [
      "enter the value l=100\n",
      "enter the value b=34\n",
      "enter the value h=3\n",
      "3400\n",
      "10200\n"
     ]
    }
   ],
   "source": [
    "class Area:\n",
    "    def __init__(self,l,b):\n",
    "        self.l=l\n",
    "        self.b=b\n",
    "        \n",
    "    def area(self):\n",
    "        a=self.l*self.b\n",
    "        print(a)\n",
    "class Volume:       \n",
    "    def __init__(self,l,b,h):\n",
    "        self.l=l\n",
    "        self.b=b\n",
    "        self.h=h\n",
    "        \n",
    "    def volume(self):\n",
    "        v=self.l*self.b*self.h\n",
    "        print(v)\n",
    "l=int(input(\"enter the value l=\"))\n",
    "b=int(input(\"enter the value b=\"))\n",
    "h=int(input(\"enter the value h=\"))\n",
    "\n",
    "obj1=Area(l,b)\n",
    "obj2=Volume(l,b,h)\n",
    "obj1.area()\n",
    "obj2.volume()"
   ]
  },
  {
   "cell_type": "code",
   "execution_count": 28,
   "id": "b3cd429e",
   "metadata": {},
   "outputs": [
    {
     "name": "stdout",
     "output_type": "stream",
     "text": [
      "b\n"
     ]
    }
   ],
   "source": [
    "a=[]\n",
    "a.append(4)\n",
    "\n",
    "b=open('data.txt','r')\n",
    "print('b')\n",
    "b.close()"
   ]
  },
  {
   "cell_type": "code",
   "execution_count": null,
   "id": "bcaa6ad0",
   "metadata": {},
   "outputs": [],
   "source": [
    "info = str()\n",
    "n = int(input(\"Enter n = \"))\n",
    "for i in range(n):\n",
    "    name = input(\"Enter product name = \")\n",
    "    price = int(input(\"Enter price = \"))\n",
    "    quantity = int(input(\"Enter quantity = \"))\n",
    "    total = price*quantity\n",
    "    info = info +f\"{name} {price} {quantity} {total}\\n\"\n",
    "    \n",
    "print(info)\n",
    "\n",
    "with open('data.txt','w')as file:\n",
    "    file.write(info)"
   ]
  },
  {
   "cell_type": "code",
   "execution_count": null,
   "id": "426cc3b6-645b-4de4-baf1-31484a0309f0",
   "metadata": {},
   "outputs": [],
   "source": []
  },
  {
   "cell_type": "code",
   "execution_count": 8,
   "id": "0d231638-57ad-45ef-9b79-2225f5b9cf49",
   "metadata": {},
   "outputs": [
    {
     "name": "stdin",
     "output_type": "stream",
     "text": [
      "enter n= 2\n",
      "Enter product name =  applw\n",
      "Enter price =  12\n",
      "Enter quantity =  12\n"
     ]
    },
    {
     "ename": "AttributeError",
     "evalue": "'File' object has no attribute 'billing'",
     "output_type": "error",
     "traceback": [
      "\u001b[1;31m---------------------------------------------------------------------------\u001b[0m",
      "\u001b[1;31mAttributeError\u001b[0m                            Traceback (most recent call last)",
      "Cell \u001b[1;32mIn[8], line 24\u001b[0m\n\u001b[0;32m     21\u001b[0m     quantity \u001b[38;5;241m=\u001b[39m \u001b[38;5;28mint\u001b[39m(\u001b[38;5;28minput\u001b[39m(\u001b[38;5;124m\"\u001b[39m\u001b[38;5;124mEnter quantity = \u001b[39m\u001b[38;5;124m\"\u001b[39m))\n\u001b[0;32m     23\u001b[0m     obj\u001b[38;5;241m=\u001b[39m File(name,price,quantity)\n\u001b[1;32m---> 24\u001b[0m     \u001b[43mobj\u001b[49m\u001b[38;5;241;43m.\u001b[39;49m\u001b[43mbilling\u001b[49m()\n\u001b[0;32m     26\u001b[0m \u001b[38;5;28mprint\u001b[39m(grand_total)\n\u001b[0;32m     27\u001b[0m \u001b[38;5;28mprint\u001b[39m(bill)\n",
      "\u001b[1;31mAttributeError\u001b[0m: 'File' object has no attribute 'billing'"
     ]
    }
   ],
   "source": [
    "grand_total = 0\n",
    "bill = str()\n",
    "class File:\n",
    "    def __init__(self,name,price,quantity):\n",
    "        self.info= str()\n",
    "        self.name=name\n",
    "        self.price=price\n",
    "        self.quantity=quantity\n",
    "        \n",
    "        def billing (self):\n",
    "            global grand_total,bill\n",
    "            total = self.price*self.quantity\n",
    "            info = self.info +f\"{self.name} {self.price} {self.quantity} {total}\\n\"\n",
    "            bill = bill+info\n",
    "            grand_total=total+grand_total\n",
    "            \n",
    "n=int(input(\"enter n=\"))\n",
    "for i in range(n):\n",
    "    name = input(\"Enter product name = \")\n",
    "    price = int(input(\"Enter price = \"))\n",
    "    quantity = int(input(\"Enter quantity = \"))\n",
    "    \n",
    "    obj= File(name,price,quantity)\n",
    "    obj.billing()\n",
    "\n",
    "print(grand_total)\n",
    "print(bill)\n",
    "        "
   ]
  },
  {
   "cell_type": "code",
   "execution_count": 3,
   "id": "fcfaae08",
   "metadata": {},
   "outputs": [
    {
     "name": "stdin",
     "output_type": "stream",
     "text": [
      "Enter n =  2\n",
      "Enter product name =  apple\n",
      "Enter price =  12\n",
      "Enter quantity =  12\n",
      "Enter product name =  orange\n",
      "Enter price =  10\n",
      "Enter quantity =  12\n"
     ]
    },
    {
     "name": "stdout",
     "output_type": "stream",
     "text": [
      "264\n",
      "apple 12 12 144\n",
      "orange 10 12 120\n",
      "\n"
     ]
    }
   ],
   "source": [
    "grand_total = 0\n",
    "bill  = str()\n",
    "class File:\n",
    "    def __init__(self,name,price,quantity):\n",
    "        self.info = str()\n",
    "        self.name = name\n",
    "        self.price = price\n",
    "        self.quantity = quantity\n",
    "       \n",
    "    def billing(self):\n",
    "        global  grand_total,bill\n",
    "        total = self.price*self.quantity\n",
    "        info = self.info +f\"{self.name} {self.price} {self.quantity} {total}\\n\"\n",
    "        bill = bill+info\n",
    "        grand_total = total +grand_total\n",
    "        \n",
    "        \n",
    "n = int(input(\"Enter n = \"))\n",
    "for i in range(n):\n",
    "    name = input(\"Enter product name = \")\n",
    "    price = int(input(\"Enter price = \"))\n",
    "    quantity = int(input(\"Enter quantity = \"))\n",
    "\n",
    "    obj = File(name,price,quantity)\n",
    "    obj.billing()\n",
    "\n",
    "print(grand_total)\n",
    "print(bill)\n"
   ]
  },
  {
   "cell_type": "code",
   "execution_count": null,
   "id": "13d0c7de-4e7e-4b5f-8f55-97efcc8a5dcd",
   "metadata": {},
   "outputs": [],
   "source": []
  }
 ],
 "metadata": {
  "kernelspec": {
   "display_name": "Python 3 (ipykernel)",
   "language": "python",
   "name": "python3"
  },
  "language_info": {
   "codemirror_mode": {
    "name": "ipython",
    "version": 3
   },
   "file_extension": ".py",
   "mimetype": "text/x-python",
   "name": "python",
   "nbconvert_exporter": "python",
   "pygments_lexer": "ipython3",
   "version": "3.11.0"
  }
 },
 "nbformat": 4,
 "nbformat_minor": 5
}
